{
 "cells": [
  {
   "cell_type": "markdown",
   "metadata": {},
   "source": [
    "# Preprocessing, Step 0 bis Step 7 + Regression\n"
   ]
  },
  {
   "cell_type": "code",
   "execution_count": 1,
   "metadata": {},
   "outputs": [],
   "source": [
    "import pandas as pd\n",
    "import numpy as np\n",
    "\n",
    "import matplotlib.pyplot as plt\n",
    "%matplotlib inline\n",
    "import seaborn as sns\n",
    "import missingno as msno\n",
    "\n",
    "#from sklearn import linear_model\n",
    "#from sklearn.model_selection import train_test_split\n",
    "#import pickle\n",
    "\n",
    "#from sklearn.impute import SimpleImputer\n",
    "#from sklearn.impute import KNNImputer"
   ]
  },
  {
   "cell_type": "markdown",
   "metadata": {},
   "source": []
  },
  {
   "cell_type": "code",
   "execution_count": 2,
   "metadata": {},
   "outputs": [
    {
     "data": {
      "text/plain": [
       "<bound method DataFrame.info of         id  age_of_customer     sex       ctry        town  \\\n",
       "0    C0001             61.0   Other         UK  Birmingham   \n",
       "1    C0003             57.0   Other  Australia      Sydney   \n",
       "2    C0004             30.0   Other      India   Bangalore   \n",
       "3    C0005             21.0    Male    Germany      Munich   \n",
       "4    C0006             63.0    Male      India      Mumbai   \n",
       "..     ...              ...     ...        ...         ...   \n",
       "995  C0996             28.0  Female  Australia    Brisbane   \n",
       "996  C0997             54.0  Female  Australia   Melbourne   \n",
       "997  C0998             35.0   Other        USA    New York   \n",
       "998  C0999             31.0   Other    Germayn      Berlin   \n",
       "999  C1000             27.0    Male      India      Mumbai   \n",
       "\n",
       "     swimming_hours_per_week  biking_hours_per_week  running_hours_per_week  \\\n",
       "0                       2.52                   0.10                    1.78   \n",
       "1                       1.55                  10.01                    4.57   \n",
       "2                       1.19                  12.04                    8.64   \n",
       "3                       2.25                   4.67                    0.92   \n",
       "4                       0.80                   5.88                    0.67   \n",
       "..                       ...                    ...                     ...   \n",
       "995                     2.38                   0.28                    2.79   \n",
       "996                     1.80                   4.45                    1.35   \n",
       "997                     3.91                   0.57                    5.57   \n",
       "998                     0.36                   4.63                    5.16   \n",
       "999                     0.43                   7.46                    5.55   \n",
       "\n",
       "     total_training_hours_per_week  vo2_max  ...  calories_burned_per_week  \\\n",
       "0                             4.40    23.08  ...                   2329.95   \n",
       "1                            16.13    39.04  ...                   7904.93   \n",
       "2                            21.87    71.59  ...                  10839.81   \n",
       "3                             7.84    49.09  ...                       NaN   \n",
       "4                             7.35    13.91  ...                   3575.96   \n",
       "..                             ...      ...  ...                       ...   \n",
       "995                           5.46    61.05  ...                   2589.77   \n",
       "996                           7.61    34.50  ...                   4104.15   \n",
       "997                          10.05    58.63  ...                   5078.45   \n",
       "998                          10.15    66.46  ...                   5184.27   \n",
       "999                          13.44    61.81  ...                   6827.69   \n",
       "\n",
       "     support_cases_of_customer  customer_years  most_current_software_update  \\\n",
       "0                          2.0             1.0                    2024-07-22   \n",
       "1                          2.0             1.0                    2024-05-11   \n",
       "2                          2.0             0.0                    2024-08-16   \n",
       "3                          3.0             0.0                    2024-08-11   \n",
       "4                          3.0             3.0                    2024-11-18   \n",
       "..                         ...             ...                           ...   \n",
       "995                        0.0             3.0                    2024-01-09   \n",
       "996                        0.0             3.0                    2024-11-09   \n",
       "997                        4.0             6.0                    2024-08-27   \n",
       "998                        3.0             3.0                    2024-06-19   \n",
       "999                        0.0             7.0                    2024-06-04   \n",
       "\n",
       "    goal_of_training preferred_training_daytime subscription_type  \\\n",
       "0            Fitness                    Evening              Free   \n",
       "1            Fitness                    Evening           Premium   \n",
       "2        Competition                  Afternoon              Free   \n",
       "3         Recreation                    Evening           Premium   \n",
       "4         Recreation                    Morning             Basic   \n",
       "..               ...                        ...               ...   \n",
       "995       Recreation                    Morning           Premium   \n",
       "996       Recreation                  Afternoon              Free   \n",
       "997          Fitness                  Afternoon           Premium   \n",
       "998          Fitness                    Evening              Free   \n",
       "999          Fitness                  Afternoon           Premium   \n",
       "\n",
       "    color_of_watch synchronisation user_of_latest_model  \n",
       "0            White             Yes                  1.0  \n",
       "1            Black             Yes                  0.0  \n",
       "2            White             Yes                  1.0  \n",
       "3            Black              No                  1.0  \n",
       "4            Black             Yes                  0.0  \n",
       "..             ...             ...                  ...  \n",
       "995          Black             Yes                  0.0  \n",
       "996          Black             Yes                  0.0  \n",
       "997          Black             Yes                  1.0  \n",
       "998          Black             NaN                  1.0  \n",
       "999          Black             Yes                  0.0  \n",
       "\n",
       "[1000 rows x 21 columns]>"
      ]
     },
     "execution_count": 2,
     "metadata": {},
     "output_type": "execute_result"
    }
   ],
   "source": [
    "df = pd.read_csv('../../data/raw/triathlon_watch_training_data_final.csv')\n",
    "# Rename columns for better handling\n",
    "df.columns = df.columns.str.strip().str.lower().str.replace(' ', '_')\n",
    "df.info"
   ]
  },
  {
   "cell_type": "markdown",
   "metadata": {},
   "source": []
  },
  {
   "cell_type": "code",
   "execution_count": 38,
   "metadata": {},
   "outputs": [],
   "source": [
    "numeric=df.select_dtypes(include=['float64']).columns.tolist() #list of numeric columns\n",
    "categorical = df.select_dtypes(include=['object']).columns.to_list() #append all categorical columns to a list"
   ]
  },
  {
   "cell_type": "code",
   "execution_count": 5,
   "metadata": {},
   "outputs": [],
   "source": [
    "# Spalte ID wird das führende \"C\" entfernt und die führenden Nullen\n",
    "df[\"id\"] = df[\"id\"].dropna().str.replace(\"C\", \"\", regex=True).astype(int)"
   ]
  },
  {
   "cell_type": "code",
   "execution_count": 7,
   "metadata": {},
   "outputs": [
    {
     "name": "stdout",
     "output_type": "stream",
     "text": [
      "  most_current_software_update  days_since_latest_update\n",
      "0                   2024-07-22                     163.0\n",
      "1                   2024-05-11                     235.0\n",
      "2                   2024-08-16                     138.0\n",
      "3                   2024-08-11                     143.0\n",
      "4                   2024-11-18                      44.0\n"
     ]
    }
   ],
   "source": [
    "# Sicherstellen, dass die Spalte als Datumsformat erkannt wird\n",
    "df[\"most_current_software_update\"] = pd.to_datetime(df[\"most_current_software_update\"], format=\"%Y-%m-%d\")\n",
    "# ✅ Differenz zum jüngsten Datum berechnen (in Tagen)\n",
    "latest_date = df[\"most_current_software_update\"].max()\n",
    "df[\"days_since_latest_update\"] = (latest_date - df[\"most_current_software_update\"]).dt.days\n",
    "# Ergebnis ausgeben\n",
    "print(df[[\"most_current_software_update\", \"days_since_latest_update\"]].head())"
   ]
  },
  {
   "cell_type": "code",
   "execution_count": 8,
   "metadata": {},
   "outputs": [],
   "source": [
    "# Monat als Namen speichern (z. B. \"Juli\", \"Mai\")\n",
    "df[\"update_month_name\"] = df[\"most_current_software_update\"].dt.strftime(\"%B\")\n",
    "# Spalte \"most_current_software_update\" entfernen\n",
    "df = df.drop(columns=[\"most_current_software_update\"])"
   ]
  },
  {
   "cell_type": "markdown",
   "metadata": {},
   "source": [
    "**bis hierin wurde nur ganz einfache Veränderungen vollzogen. df ist nun die Grundlage für die weietren Steps**"
   ]
  },
  {
   "cell_type": "markdown",
   "metadata": {},
   "source": [
    "# Step 0"
   ]
  },
  {
   "cell_type": "code",
   "execution_count": 9,
   "metadata": {},
   "outputs": [],
   "source": [
    "df_step0 =df.copy()"
   ]
  },
  {
   "cell_type": "code",
   "execution_count": 10,
   "metadata": {},
   "outputs": [],
   "source": [
    "\n",
    "target_column = \"user_of_latest_model\" if \"user_of_latest_model\" in df_step0.columns else df.columns[-1]\n",
    "# Zeilen mit fehlenden Werten in der Zielvariable entfernen\n",
    "df_step0 = df_step0.dropna(subset=[target_column])\n",
    "# Zeilen mit mehr als zwei fehlenden Werten entfernen\n",
    "df_step0 = df_step0[df_step0.isnull().sum(axis=1) <= 2]"
   ]
  },
  {
   "cell_type": "code",
   "execution_count": 11,
   "metadata": {},
   "outputs": [
    {
     "name": "stdout",
     "output_type": "stream",
     "text": [
      "Step 0 abgeschlossen. Bereinigte Daten gespeichert unter: triathlon_watch_training_data_step0.csv\n",
      "    id  age_of_customer    sex       ctry        town  \\\n",
      "0  1.0             61.0  Other         UK  Birmingham   \n",
      "1  3.0             57.0  Other  Australia      Sydney   \n",
      "2  4.0             30.0  Other      India   Bangalore   \n",
      "3  5.0             21.0   Male    Germany      Munich   \n",
      "4  6.0             63.0   Male      India      Mumbai   \n",
      "\n",
      "   swimming_hours_per_week  biking_hours_per_week  running_hours_per_week  \\\n",
      "0                     2.52                   0.10                    1.78   \n",
      "1                     1.55                  10.01                    4.57   \n",
      "2                     1.19                  12.04                    8.64   \n",
      "3                     2.25                   4.67                    0.92   \n",
      "4                     0.80                   5.88                    0.67   \n",
      "\n",
      "   total_training_hours_per_week  vo2_max  ...  support_cases_of_customer  \\\n",
      "0                           4.40    23.08  ...                        2.0   \n",
      "1                          16.13    39.04  ...                        2.0   \n",
      "2                          21.87    71.59  ...                        2.0   \n",
      "3                           7.84    49.09  ...                        3.0   \n",
      "4                           7.35    13.91  ...                        3.0   \n",
      "\n",
      "   customer_years  goal_of_training  preferred_training_daytime  \\\n",
      "0             1.0           Fitness                     Evening   \n",
      "1             1.0           Fitness                     Evening   \n",
      "2             0.0       Competition                   Afternoon   \n",
      "3             0.0        Recreation                     Evening   \n",
      "4             3.0        Recreation                     Morning   \n",
      "\n",
      "  subscription_type color_of_watch synchronisation user_of_latest_model  \\\n",
      "0              Free          White             1.0                  1.0   \n",
      "1           Premium          Black             1.0                  0.0   \n",
      "2              Free          White             1.0                  1.0   \n",
      "3           Premium          Black             0.0                  1.0   \n",
      "4             Basic          Black             1.0                  0.0   \n",
      "\n",
      "   days_since_latest_update  update_month_name  \n",
      "0                     163.0               July  \n",
      "1                     235.0                May  \n",
      "2                     138.0             August  \n",
      "3                     143.0             August  \n",
      "4                      44.0           November  \n",
      "\n",
      "[5 rows x 22 columns]\n"
     ]
    }
   ],
   "source": [
    "# Fehlende Werte analysieren\n",
    "missing_values = df_step0.isnull().sum()\n",
    "missing_values = missing_values[missing_values > 0]\n",
    "\n",
    "# Fehlende Werte durch Durchschnitt (numerisch) oder Modus (kategorisch) ersetzen\n",
    "#df_step0 = df_step0.copy()\n",
    "\n",
    "numeric_cols = df_step0.select_dtypes(include=[np.number]).columns\n",
    "categorical_cols = df_step0.select_dtypes(exclude=[np.number]).columns\n",
    "\n",
    "for col in numeric_cols:\n",
    "    df_step0[col] = df_step0[col].fillna(df_step0[col].mean())\n",
    "\n",
    "for col in categorical_cols:\n",
    "    df_step0[col] = df_step0[col].fillna(df_step0[col].mode()[0])\n",
    "\n",
    "# Speichern der bereinigten Daten\n",
    "output_path = \"triathlon_watch_training_data_step0.csv\"\n",
    "df_step0.to_csv(output_path, index=False)\n",
    "\n",
    "# Ergebnis anzeigen\n",
    "print(\"Step 0 abgeschlossen. Bereinigte Daten gespeichert unter:\", output_path)\n",
    "print(df_step0.head())\n",
    "\n"
   ]
  },
  {
   "cell_type": "code",
   "execution_count": null,
   "metadata": {},
   "outputs": [],
   "source": [
    "msno.matrix(df_step0)"
   ]
  },
  {
   "cell_type": "code",
   "execution_count": 13,
   "metadata": {},
   "outputs": [
    {
     "name": "stdout",
     "output_type": "stream",
     "text": [
      "📊 Numerische Spalten: ['id', 'age_of_customer', 'swimming_hours_per_week', 'biking_hours_per_week', 'running_hours_per_week', 'total_training_hours_per_week', 'vo2_max', '10k_running_time_prediction', 'calories_burned_per_week', 'support_cases_of_customer', 'customer_years', 'synchronisation', 'user_of_latest_model', 'days_since_latest_update']\n",
      "🔠 Kategoriale Spalten: ['sex', 'ctry', 'town', 'goal_of_training', 'preferred_training_daytime', 'subscription_type', 'color_of_watch', 'update_month_name']\n"
     ]
    }
   ],
   "source": [
    "numerical_columns = df_step0.select_dtypes(include=['number']).columns.tolist()\n",
    "categorical_columns = df_step0.select_dtypes(exclude=['number']).columns.tolist()\n",
    "\n",
    "print(\"📊 Numerische Spalten:\", numerical_columns)\n",
    "print(\"🔠 Kategoriale Spalten:\", categorical_columns)\n"
   ]
  },
  {
   "cell_type": "markdown",
   "metadata": {},
   "source": [
    "# Regression als Funktion"
   ]
  },
  {
   "cell_type": "code",
   "execution_count": 14,
   "metadata": {},
   "outputs": [],
   "source": [
    "df_score = pd.DataFrame(columns=['arbeitsschritt', 'Accuracy', 'F1-Score'])"
   ]
  },
  {
   "cell_type": "code",
   "execution_count": 15,
   "metadata": {},
   "outputs": [],
   "source": [
    "import pandas as pd\n",
    "import numpy as np\n",
    "from sklearn.model_selection import train_test_split\n",
    "from sklearn.preprocessing import OneHotEncoder\n",
    "from sklearn.linear_model import LogisticRegression\n",
    "from sklearn.metrics import accuracy_score, f1_score\n",
    "\n",
    "# Initialize DataFrame to store results\n",
    "#df_score = pd.DataFrame(columns=['arbeitsschritt', 'Accuracy', 'F1-Score'])\n",
    "\n",
    "\n",
    "def run_logistic_regression(df, arbeitsschritt):\n",
    "    global df_score\n",
    "    # Trennen von Features und Zielvariable\n",
    "    target_column = 'user_of_latest_model'\n",
    "    X = df.drop(columns=[target_column])\n",
    "    y = df[target_column]\n",
    "\n",
    "    # Identifikation der kategorischen Variablen\n",
    "    categorical_cols = X.select_dtypes(include=['object', 'category']).columns\n",
    "\n",
    "    # One-Hot-Encoding für kategoriale Variablen\n",
    "    encoder = OneHotEncoder(handle_unknown=\"ignore\", sparse_output=False)\n",
    "    X_encoded = pd.DataFrame(\n",
    "        encoder.fit_transform(X[categorical_cols]),\n",
    "        columns=encoder.get_feature_names_out(categorical_cols),\n",
    "        index=X.index\n",
    "    )\n",
    "\n",
    "    # Numerische Spalten beibehalten\n",
    "    X_numeric = X.drop(columns=categorical_cols)\n",
    "\n",
    "    # Zusammenfügen der numerischen und encodierten Daten\n",
    "    X_final = pd.concat([X_numeric, X_encoded], axis=1)\n",
    "    \n",
    "    # Aufteilen in Trainings- und Testset\n",
    "    X_train, X_test, y_train, y_test = train_test_split(X_final, y, test_size=0.2, random_state=42, stratify=y)\n",
    "\n",
    "    model = LogisticRegression(\n",
    "        solver='liblinear',   # Guter Standard für kleine/mittelgroße Daten\n",
    "        #solver='lbfgs' ,       # ebenfalls für kleine Daten\n",
    "        #penalty='l2',         # Feature-Selektion, wenn auskommentiert wird automatisch l2 genommen\n",
    "        #C=0.5,                # Moderate Regularisierung\n",
    "        #class_weight='balanced', # Falls die Klassen unausgeglichen sind\n",
    "        max_iter=500,         # Erhöhte Iterationen für Stabilität\n",
    "        random_state=42       # Reproduzierbarkeit\n",
    "    )\n",
    "    model.fit(X_train, y_train)\n",
    "\n",
    "    # Vorhersagen\n",
    "    y_pred = model.predict(X_test)\n",
    "\n",
    "    # Metriken berechnen\n",
    "    accuracy = accuracy_score(y_test, y_pred)\n",
    "    f1 = f1_score(y_test, y_pred)\n",
    "    print(f\"Accuracy: {accuracy:.2f}, F1-Score: {f1:.2f}\")\n",
    "    \n",
    "    # Neue Zeile zur bestehenden DataFrame hinzufügen\n",
    "    new_row = pd.DataFrame({\n",
    "        \"arbeitsschritt\": [arbeitsschritt],\n",
    "        \"Accuracy\": [accuracy],\n",
    "        \"F1-Score\": [f1]\n",
    "    })\n",
    "    df_score = pd.concat([df_score, new_row], ignore_index=True)\n",
    "\n",
    "    return model, df_score\n",
    "\n"
   ]
  },
  {
   "cell_type": "code",
   "execution_count": 16,
   "metadata": {},
   "outputs": [
    {
     "name": "stdout",
     "output_type": "stream",
     "text": [
      "Accuracy: 0.77, F1-Score: 0.70\n"
     ]
    },
    {
     "name": "stderr",
     "output_type": "stream",
     "text": [
      "C:\\Users\\laukat\\AppData\\Local\\Temp\\ipykernel_54744\\3526106794.py:64: FutureWarning: The behavior of DataFrame concatenation with empty or all-NA entries is deprecated. In a future version, this will no longer exclude empty or all-NA columns when determining the result dtypes. To retain the old behavior, exclude the relevant entries before the concat operation.\n",
      "  df_score = pd.concat([df_score, new_row], ignore_index=True)\n"
     ]
    },
    {
     "data": {
      "text/html": [
       "<div>\n",
       "<style scoped>\n",
       "    .dataframe tbody tr th:only-of-type {\n",
       "        vertical-align: middle;\n",
       "    }\n",
       "\n",
       "    .dataframe tbody tr th {\n",
       "        vertical-align: top;\n",
       "    }\n",
       "\n",
       "    .dataframe thead th {\n",
       "        text-align: right;\n",
       "    }\n",
       "</style>\n",
       "<table border=\"1\" class=\"dataframe\">\n",
       "  <thead>\n",
       "    <tr style=\"text-align: right;\">\n",
       "      <th></th>\n",
       "      <th>arbeitsschritt</th>\n",
       "      <th>Accuracy</th>\n",
       "      <th>F1-Score</th>\n",
       "    </tr>\n",
       "  </thead>\n",
       "  <tbody>\n",
       "    <tr>\n",
       "      <th>0</th>\n",
       "      <td>step 0</td>\n",
       "      <td>0.765306</td>\n",
       "      <td>0.701299</td>\n",
       "    </tr>\n",
       "  </tbody>\n",
       "</table>\n",
       "</div>"
      ],
      "text/plain": [
       "  arbeitsschritt  Accuracy  F1-Score\n",
       "0         step 0  0.765306  0.701299"
      ]
     },
     "execution_count": 16,
     "metadata": {},
     "output_type": "execute_result"
    }
   ],
   "source": [
    "run_logistic_regression(df_step0, 'step 0')\n",
    "df_score"
   ]
  },
  {
   "cell_type": "code",
   "execution_count": null,
   "metadata": {},
   "outputs": [],
   "source": [
    "msno.matrix(df_step0)"
   ]
  },
  {
   "cell_type": "markdown",
   "metadata": {},
   "source": [
    "# Step 1 "
   ]
  },
  {
   "cell_type": "markdown",
   "metadata": {},
   "source": []
  },
  {
   "cell_type": "code",
   "execution_count": 18,
   "metadata": {},
   "outputs": [],
   "source": [
    "df_step1 = df_step0.copy()"
   ]
  },
  {
   "cell_type": "code",
   "execution_count": 19,
   "metadata": {},
   "outputs": [
    {
     "name": "stdout",
     "output_type": "stream",
     "text": [
      "ctry\n",
      "Australia      200\n",
      "USA            199\n",
      "UK             191\n",
      "India          186\n",
      "Germany        179\n",
      "Germayn         19\n",
      "UnknownLand      4\n",
      "Name: count, dtype: int64\n",
      "ctry\n",
      "Australia      200\n",
      "USA            199\n",
      "Germany        198\n",
      "UK             191\n",
      "India          186\n",
      "UnknownLand      4\n",
      "Name: count, dtype: int64\n"
     ]
    }
   ],
   "source": [
    "# Überblick über das Feature \"ctry\"\n",
    "ctry_overview = df_step1['ctry'].value_counts()\n",
    "# Ergebnis anzeigen\n",
    "print(ctry_overview)\n",
    "\n",
    "# Korrigiere den Ländernamen \"Germayn\" zu \"Germany\"\n",
    "df_step1['ctry'] = df_step1['ctry'].replace('Germayn', 'Germany')\n",
    "\n",
    "# Überprüfen, ob die Änderung erfolgreich war\n",
    "ctry_overview = df_step1['ctry'].value_counts()\n",
    "print(ctry_overview)"
   ]
  },
  {
   "cell_type": "code",
   "execution_count": 20,
   "metadata": {},
   "outputs": [
    {
     "name": "stdout",
     "output_type": "stream",
     "text": [
      "Doppelte Datensätze:\n",
      "        id  age_of_customer    sex       ctry        town  \\\n",
      "642  640.0             29.0  Other  Australia   Melbourne   \n",
      "714  708.0             55.0  Other         UK  Birmingham   \n",
      "\n",
      "     swimming_hours_per_week  biking_hours_per_week  running_hours_per_week  \\\n",
      "642                     5.06                   1.44                    0.25   \n",
      "714                     0.40                   5.89                    2.07   \n",
      "\n",
      "     total_training_hours_per_week  vo2_max  ...  support_cases_of_customer  \\\n",
      "642                           6.75    54.86  ...                        0.0   \n",
      "714                           8.37    40.73  ...                        0.0   \n",
      "\n",
      "     customer_years  goal_of_training  preferred_training_daytime  \\\n",
      "642             3.0           Fitness                     Evening   \n",
      "714             7.0        Recreation                     Morning   \n",
      "\n",
      "    subscription_type color_of_watch synchronisation user_of_latest_model  \\\n",
      "642             Basic          Black             1.0                  0.0   \n",
      "714           Premium          White             0.0                  0.0   \n",
      "\n",
      "     days_since_latest_update  update_month_name  \n",
      "642                      40.0           November  \n",
      "714                      84.0            October  \n",
      "\n",
      "[2 rows x 22 columns]\n",
      "Doppelte Datensätze wurden entfernt.\n"
     ]
    }
   ],
   "source": [
    "# Doppelte Datensätze anzeigen\n",
    "duplicate_rows = df_step1[df_step1.duplicated()]\n",
    "print(\"Doppelte Datensätze:\")\n",
    "print(duplicate_rows)\n",
    "\n",
    "# Doppelte Datensätze entfernen\n",
    "df_step1 = df_step1.drop_duplicates()\n",
    "print(\"Doppelte Datensätze wurden entfernt.\")"
   ]
  },
  {
   "cell_type": "code",
   "execution_count": 21,
   "metadata": {},
   "outputs": [
    {
     "name": "stdout",
     "output_type": "stream",
     "text": [
      "Accuracy: 0.76, F1-Score: 0.71\n"
     ]
    },
    {
     "data": {
      "text/html": [
       "<div>\n",
       "<style scoped>\n",
       "    .dataframe tbody tr th:only-of-type {\n",
       "        vertical-align: middle;\n",
       "    }\n",
       "\n",
       "    .dataframe tbody tr th {\n",
       "        vertical-align: top;\n",
       "    }\n",
       "\n",
       "    .dataframe thead th {\n",
       "        text-align: right;\n",
       "    }\n",
       "</style>\n",
       "<table border=\"1\" class=\"dataframe\">\n",
       "  <thead>\n",
       "    <tr style=\"text-align: right;\">\n",
       "      <th></th>\n",
       "      <th>arbeitsschritt</th>\n",
       "      <th>Accuracy</th>\n",
       "      <th>F1-Score</th>\n",
       "    </tr>\n",
       "  </thead>\n",
       "  <tbody>\n",
       "    <tr>\n",
       "      <th>0</th>\n",
       "      <td>step 0</td>\n",
       "      <td>0.765306</td>\n",
       "      <td>0.701299</td>\n",
       "    </tr>\n",
       "    <tr>\n",
       "      <th>1</th>\n",
       "      <td>step 1</td>\n",
       "      <td>0.760204</td>\n",
       "      <td>0.711656</td>\n",
       "    </tr>\n",
       "  </tbody>\n",
       "</table>\n",
       "</div>"
      ],
      "text/plain": [
       "  arbeitsschritt  Accuracy  F1-Score\n",
       "0         step 0  0.765306  0.701299\n",
       "1         step 1  0.760204  0.711656"
      ]
     },
     "execution_count": 21,
     "metadata": {},
     "output_type": "execute_result"
    }
   ],
   "source": [
    "run_logistic_regression(df_step1, 'step 1')\n",
    "df_score"
   ]
  },
  {
   "cell_type": "code",
   "execution_count": null,
   "metadata": {},
   "outputs": [],
   "source": [
    "msno.matrix(df_step1)\n"
   ]
  },
  {
   "cell_type": "markdown",
   "metadata": {},
   "source": [
    "# Step 2"
   ]
  },
  {
   "cell_type": "code",
   "execution_count": 23,
   "metadata": {},
   "outputs": [],
   "source": [
    "df_step2 = df.copy()"
   ]
  },
  {
   "cell_type": "code",
   "execution_count": null,
   "metadata": {},
   "outputs": [],
   "source": [
    "#Listwise deletion all rows with missing values in the column 'user_of_latest_model'\n",
    "df_step2=df_step2.drop(df_step2[df_step2['user_of_latest_model'].isnull()].index)\n",
    "msno.matrix(df_step2)"
   ]
  },
  {
   "cell_type": "code",
   "execution_count": 31,
   "metadata": {},
   "outputs": [
    {
     "data": {
      "text/plain": [
       "id                                0\n",
       "age_of_customer                   0\n",
       "swimming_hours_per_week           0\n",
       "biking_hours_per_week            24\n",
       "running_hours_per_week            0\n",
       "total_training_hours_per_week     0\n",
       "vo2_max                           4\n",
       "10k_running_time_prediction       0\n",
       "calories_burned_per_week         19\n",
       "support_cases_of_customer         0\n",
       "customer_years                    0\n",
       "synchronisation                  28\n",
       "user_of_latest_model              0\n",
       "days_since_latest_update          1\n",
       "dtype: int64"
      ]
     },
     "execution_count": 31,
     "metadata": {},
     "output_type": "execute_result"
    }
   ],
   "source": [
    "df_step2[numeric].isnull().sum()"
   ]
  },
  {
   "cell_type": "code",
   "execution_count": 32,
   "metadata": {},
   "outputs": [
    {
     "name": "stdout",
     "output_type": "stream",
     "text": [
      "id                              -0.023415\n",
      "age_of_customer                  0.001405\n",
      "swimming_hours_per_week          0.133546\n",
      "running_hours_per_week           0.162726\n",
      "total_training_hours_per_week    0.530162\n",
      "vo2_max                          0.164993\n",
      "10k_running_time_prediction     -0.159664\n",
      "calories_burned_per_week         0.804664\n",
      "support_cases_of_customer        0.030294\n",
      "customer_years                   0.008436\n",
      "synchronisation                  0.019963\n",
      "user_of_latest_model             0.228377\n",
      "days_since_latest_update        -0.014664\n",
      "Name: biking_hours_per_week, dtype: float64\n"
     ]
    }
   ],
   "source": [
    "correlation_with_A = df_step2[numeric].corr()['biking_hours_per_week'].drop('biking_hours_per_week')  # Entferne die Korrelation mit sich selbst\n",
    "\n",
    "# Ausgabe der Korrelation\n",
    "print(correlation_with_A)"
   ]
  },
  {
   "cell_type": "code",
   "execution_count": 36,
   "metadata": {},
   "outputs": [
    {
     "name": "stdout",
     "output_type": "stream",
     "text": [
      "id                               0\n",
      "age_of_customer                  0\n",
      "swimming_hours_per_week          0\n",
      "biking_hours_per_week            0\n",
      "running_hours_per_week           0\n",
      "total_training_hours_per_week    0\n",
      "vo2_max                          0\n",
      "10k_running_time_prediction      0\n",
      "calories_burned_per_week         0\n",
      "support_cases_of_customer        0\n",
      "customer_years                   0\n",
      "synchronisation                  0\n",
      "user_of_latest_model             0\n",
      "days_since_latest_update         0\n",
      "dtype: int64\n"
     ]
    }
   ],
   "source": [
    "#  Iterative Imputation for numeric columns\n",
    "imputer = IterativeImputer(max_iter=30, tol=1e-2, random_state=42, initial_strategy='median') #initial all missing values were replaced by median\n",
    "df_step2_numeric_imputed = pd.DataFrame(imputer.fit_transform(df_step2[numeric])) # creating a new dataframe with imputed values\n",
    "\n",
    "df_step2_numeric_imputed.index = df_step2.index # adapt index of new dataframe to index of original dataframe\n",
    "df_step2[numeric] = df_step2_numeric_imputed # replace numeric columns in original dataframe with imputed values\n",
    "\n",
    "print(df_step2[numeric].isnull().sum()) # check if all missing values in numeric columns were imputed"
   ]
  }
 ],
 "metadata": {
  "kernelspec": {
   "display_name": "base",
   "language": "python",
   "name": "python3"
  },
  "language_info": {
   "codemirror_mode": {
    "name": "ipython",
    "version": 3
   },
   "file_extension": ".py",
   "mimetype": "text/x-python",
   "name": "python",
   "nbconvert_exporter": "python",
   "pygments_lexer": "ipython3",
   "version": "3.12.7"
  }
 },
 "nbformat": 4,
 "nbformat_minor": 2
}
