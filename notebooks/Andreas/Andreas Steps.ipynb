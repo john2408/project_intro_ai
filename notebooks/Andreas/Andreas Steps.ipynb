{
 "cells": [
  {
   "cell_type": "markdown",
   "metadata": {},
   "source": [
    "# Explorative Datenanalyse\n",
    "\n",
    "- Erkunden Sie den bereitgestellten Datensatz mithilfe beschreibender Statistiken (z. B. Mittelwerte, Standardabweichungen, Min-/Max-Werte, fehlende Werte) und Visualisierungen (z. B. Histogramme, Boxplots)\n",
    "- Präsentieren Sie die Erkenntnisse, die Sie durch die Erkundung gewonnen haben\n",
    "- Weisen Sie auch darauf hin, welche Datenqualitätsprobleme Sie in Bezug auf Folgendes identifiziert haben:\n",
    "- Fehlende Werte\n",
    "- Ausreißer\n",
    "- Zu transformierende Merkmale (z. B. Normalisierungstransformation)\n",
    "- Zu entfernende Merkmale (Merkmalsauswahl)\n",
    "- Andere Erkenntnisse, die in den folgenden Phasen Aufmerksamkeit erfordern\n",
    "- Dokumentieren und präsentieren Sie Ihre Erkenntnisse aus der Codierung für diese Aufgabe"
   ]
  },
  {
   "cell_type": "code",
   "execution_count": 1,
   "metadata": {},
   "outputs": [],
   "source": [
    "import pandas as pd\n",
    "import numpy as np\n",
    "\n",
    "import matplotlib.pyplot as plt\n",
    "%matplotlib inline\n",
    "import seaborn as sns\n",
    "import missingno as msno\n",
    "\n",
    "#from sklearn import linear_model\n",
    "#from sklearn.model_selection import train_test_split\n",
    "#import pickle\n",
    "\n",
    "#from sklearn.impute import SimpleImputer\n",
    "#from sklearn.impute import KNNImputer"
   ]
  },
  {
   "cell_type": "markdown",
   "metadata": {},
   "source": [
    "## Überblick"
   ]
  },
  {
   "cell_type": "code",
   "execution_count": null,
   "metadata": {},
   "outputs": [],
   "source": [
    "df_step0 = pd.read_csv('../../data/raw/triathlon_watch_training_data_final.csv')\n",
    "# Rename columns for better handling\n",
    "df_step0.columns = df_step0.columns.str.strip().str.lower().str.replace(' ', '_')\n",
    "df_step0.info"
   ]
  },
  {
   "cell_type": "code",
   "execution_count": null,
   "metadata": {},
   "outputs": [],
   "source": [
    "# Check for missing values\n",
    "msno.matrix(df_step0)"
   ]
  },
  {
   "cell_type": "code",
   "execution_count": 18,
   "metadata": {},
   "outputs": [
    {
     "name": "stdout",
     "output_type": "stream",
     "text": [
      "Category Columns: ['sex', 'ctry', 'town', 'goal_of_training', 'preferred_training_daytime', 'subscription_type', 'color_of_watch']\n",
      "Date Columns: ['most_current_software_update']\n",
      "Boolean Columns: ['synchronisation']\n",
      "Numeric Columns: ['age_of_customer', 'swimming_hours_per_week', 'biking_hours_per_week', 'running_hours_per_week', 'total_training_hours_per_week', 'vo2_max', '10k_running_time_prediction', 'calories_burned_per_week', 'support_cases_of_customer', 'customer_years']\n",
      "Text Columns: ['id']\n",
      "Target Columns: ['user_of_latest_model']\n"
     ]
    }
   ],
   "source": [
    "#liste aller Spalten, die als Object definiert sind und möglicherweise als Kategorial einzustufen sind\n",
    "category_columns = list(df_step0.describe(include='object').columns)\n",
    "category_columns.remove('id')\n",
    "category_columns.remove('most_current_software_update')\n",
    "category_columns.remove('synchronisation')\n",
    "date_columns = ['most_current_software_update']\n",
    "bool_columns = ['synchronisation']\n",
    "target_columns = ['user_of_latest_model']\n",
    "#Numerische Spalten identifizieren und Zielspalten entfernen\n",
    "numeric_columns = df_step0.describe().columns\n",
    "numeric_columns = [x for x in numeric_columns if x not in target_columns]\n",
    "text_columns = ['id']\n",
    "#Übersicht aller Spaltengruppen ausgeben\n",
    "print(\"Category Columns:\", category_columns)\n",
    "print(\"Date Columns:\", date_columns)\n",
    "print(\"Boolean Columns:\", bool_columns)\n",
    "print(\"Numeric Columns:\", numeric_columns)\n",
    "print(\"Text Columns:\", text_columns)\n",
    "print(\"Target Columns:\", target_columns)\n",
    "\n",
    "#Boolesche Spalten umwandeln in numerische Variable\n",
    "for bool_column in bool_columns:\n",
    "    df_step0[bool_column] = df_step0[bool_column].map({'Yes': 1, 'No': 0})"
   ]
  },
  {
   "cell_type": "markdown",
   "metadata": {},
   "source": [
    "# Step 0"
   ]
  },
  {
   "cell_type": "code",
   "execution_count": null,
   "metadata": {},
   "outputs": [],
   "source": [
    "#import pandas as pd\n",
    "#import numpy as np\n",
    "\n",
    "# Datei einlesen\n",
    "#file_path = \"triathlon_watch_training_data_final.csv\"  # Passe den Pfad an\n",
    "#df_step0 = pd.read_csv(file_path)\n",
    "\n",
    "# Zielvariable definieren\n",
    "target_column = \"user_of_latest_model\" if \"user_of_latest_model\" in df_step0.columns else df_step0.columns[-1]\n",
    "\n",
    "# Zeilen mit fehlenden Werten in der Zielvariable entfernen\n",
    "df_step0 = df_step0.dropna(subset=[target_column])\n",
    "\n",
    "# Zeilen mit mehr als zwei fehlenden Werten entfernen\n",
    "df_step0 = df_step0[df_step0.isnull().sum(axis=1) <= 2]\n",
    "\n",
    "# Fehlende Werte analysieren\n",
    "missing_values = df_step0.isnull().sum()\n",
    "missing_values = missing_values[missing_values > 0]\n",
    "\n",
    "\n",
    "# Fehlende Werte durch Durchschnitt (numerisch) oder Modus (kategorisch) ersetzen\n",
    "#df_step0 = df_step0.copy()\n",
    "\n",
    "numeric_cols = df_step0.select_dtypes(include=[np.number]).columns\n",
    "categorical_cols = df_step0.select_dtypes(exclude=[np.number]).columns\n",
    "\n",
    "for col in numeric_cols:\n",
    "    df_step0[col] = df_step0[col].fillna(df_step0[col].mean())\n",
    "\n",
    "for col in categorical_cols:\n",
    "    df_step0[col] = df_step0[col].fillna(df_step0[col].mode()[0])\n",
    "\n",
    "# Speichern der bereinigten Daten\n",
    "output_path = \"triathlon_watch_training_data_step0.csv\"\n",
    "df_step0.to_csv(output_path, index=False)\n",
    "\n",
    "# Ergebnis anzeigen\n",
    "print(\"Step 0 abgeschlossen. Bereinigte Daten gespeichert unter:\", output_path)\n",
    "print(df_step0.head())\n",
    "\n"
   ]
  },
  {
   "cell_type": "code",
   "execution_count": null,
   "metadata": {},
   "outputs": [],
   "source": [
    "msno.matrix(df_step0)"
   ]
  },
  {
   "cell_type": "code",
   "execution_count": 25,
   "metadata": {},
   "outputs": [
    {
     "name": "stdout",
     "output_type": "stream",
     "text": [
      "📊 Numerische Spalten: ['age_of_customer', 'swimming_hours_per_week', 'biking_hours_per_week', 'running_hours_per_week', 'total_training_hours_per_week', 'vo2_max', '10k_running_time_prediction', 'calories_burned_per_week', 'support_cases_of_customer', 'customer_years', 'synchronisation', 'user_of_latest_model']\n",
      "🔠 Kategoriale Spalten: ['id', 'sex', 'ctry', 'town', 'most_current_software_update', 'goal_of_training', 'preferred_training_daytime', 'subscription_type', 'color_of_watch']\n"
     ]
    }
   ],
   "source": [
    "numerical_columns = df_step0.select_dtypes(include=['number']).columns.tolist()\n",
    "categorical_columns = df_step0.select_dtypes(exclude=['number']).columns.tolist()\n",
    "\n",
    "print(\"📊 Numerische Spalten:\", numerical_columns)\n",
    "print(\"🔠 Kategoriale Spalten:\", categorical_columns)\n"
   ]
  },
  {
   "cell_type": "code",
   "execution_count": 8,
   "metadata": {},
   "outputs": [],
   "source": [
    "# One-Hot-Encoding für alle kategorialen Variablen\n",
    "df_step0_encoded = pd.get_dummies(df_step0, columns=categorical_cols, drop_first=True, dtype=float)\n"
   ]
  }
 ],
 "metadata": {
  "kernelspec": {
   "display_name": "base",
   "language": "python",
   "name": "python3"
  },
  "language_info": {
   "codemirror_mode": {
    "name": "ipython",
    "version": 3
   },
   "file_extension": ".py",
   "mimetype": "text/x-python",
   "name": "python",
   "nbconvert_exporter": "python",
   "pygments_lexer": "ipython3",
   "version": "3.12.7"
  }
 },
 "nbformat": 4,
 "nbformat_minor": 2
}
