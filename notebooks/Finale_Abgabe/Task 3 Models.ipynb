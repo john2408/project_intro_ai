{
 "cells": [
  {
   "cell_type": "markdown",
   "metadata": {},
   "source": [
    "# Task 3: Model optimization\n",
    "\n",
    "\n",
    "Gruppe Nummer: 1\n",
    "- Samuel Hempelt\n",
    "- Andreas Luakat\n",
    "- John Torres\n",
    "\n",
    "In this step we will use the data create after applying the preprocessed steps on Step 3, since this generated the best model from all other preprocessed steps: \n",
    "\n",
    "- Step 3: Outlier Cleaning\n",
    "    - Missing Values: Average for numeric, Mode for Category\n",
    "    - Deletion of entries with missing values in the target colunm\n",
    "    - Listwise deletion (all rows with multiple missing values, more than 2)\n",
    "    - Identify outlier with IQR\n",
    "    - Impute outliers with regression imputation\n",
    "    - Impute categorical values with random imputation"
   ]
  },
  {
   "cell_type": "code",
   "execution_count": 18,
   "metadata": {},
   "outputs": [],
   "source": [
    "import pandas as pd\n",
    "import os\n",
    "from pathlib import Path\n",
    "import seaborn as sns  \n",
    "import matplotlib.pyplot as plt\n",
    "import pandas as pd\n",
    "import numpy as np\n",
    "from sklearn.metrics import accuracy_score, f1_score\n",
    "from sklearn.ensemble import RandomForestClassifier\n",
    "from sklearn.model_selection import cross_val_score\n",
    "from sklearn.ensemble import GradientBoostingClassifier\n",
    "from sklearn.model_selection import train_test_split\n",
    "from sklearn.tree import DecisionTreeClassifier\n",
    "from sklearn.ensemble import AdaBoostClassifier\n",
    "from sklearn.svm import SVC\n",
    "import optuna\n",
    "from lightgbm import LGBMClassifier\n"
   ]
  },
  {
   "cell_type": "markdown",
   "metadata": {},
   "source": [
    "## Functions"
   ]
  },
  {
   "cell_type": "code",
   "execution_count": 33,
   "metadata": {},
   "outputs": [],
   "source": [
    "def train_random_forest(train_x: pd.DataFrame, \n",
    "                        val_x: pd.DataFrame, \n",
    "                        train_y: pd.DataFrame, \n",
    "                        val_y: pd.DataFrame,\n",
    "                        random_seed: int = 123,\n",
    "                        n_opt_trials = 20,\n",
    "                        cv: int = 5) -> tuple:\n",
    "\n",
    "    # Train model without optimization\n",
    "    model_no_opt = RandomForestClassifier(random_state=random_seed)\n",
    "    model_no_opt.fit(train_x, train_y)\n",
    "    y_pred = model_no_opt.predict(val_x)\n",
    "    f1_no_opt = f1_score(val_y, y_pred)\n",
    "\n",
    "    print(f\"F1 Score No Optimization: {f1_no_opt}\")\n",
    "    \n",
    "    def objective(trial):\n",
    "\n",
    "        rf_max_depth = trial.suggest_int(\"rf_max_depth\", 2, 32, log=True)\n",
    "        n_estimators = trial.suggest_int(\"n_estimators\", 10, 100)\n",
    "        classifier_obj = RandomForestClassifier(\n",
    "            max_depth=rf_max_depth, \n",
    "            n_estimators=n_estimators,\n",
    "            random_state=random_seed\n",
    "        )\n",
    "\n",
    "        score = cross_val_score(classifier_obj, train_x, train_y, n_jobs=-1, cv=cv, scoring=\"f1_weighted\")\n",
    "        return score.mean()\n",
    "    \n",
    "    optuna.logging.set_verbosity(optuna.logging.WARNING)\n",
    "    study = optuna.create_study(direction=\"maximize\")\n",
    "    study.optimize(objective, n_trials=n_opt_trials)\n",
    "\n",
    "    # train model with optimized hyperparameters\n",
    "    model = RandomForestClassifier(max_depth=study.best_params[\"rf_max_depth\"], \n",
    "                                    n_estimators=study.best_params[\"n_estimators\"], \n",
    "                                    random_state=random_seed)\n",
    "\n",
    "    model.fit(train_x, train_y)\n",
    "\n",
    "    # prediction\n",
    "    y_pred = model.predict(val_x)\n",
    "    val_f1_score = round(f1_score(val_y, y_pred),4)\n",
    "    val_accuracy = round(accuracy_score(val_y, y_pred),4)\n",
    "    \n",
    "    print(\"Optimized Model F1 Score: \", val_f1_score)\n",
    "    \n",
    "    # check if no optimization has better f1 score\n",
    "    if f1_no_opt > val_f1_score:\n",
    "        print(\"No Optimization has better f1 score than optimized model\")\n",
    "        model = model_no_opt\n",
    "        val_f1_score = f1_no_opt\n",
    "    \n",
    "    return model, study, val_f1_score, val_accuracy\n",
    "\n",
    "def train_gradient_boosting(train_x: pd.DataFrame, \n",
    "                        val_x: pd.DataFrame, \n",
    "                        train_y: pd.DataFrame, \n",
    "                        val_y: pd.DataFrame,\n",
    "                        random_seed: int = 123,\n",
    "                        n_opt_trials = 20,\n",
    "                        cv: int = 5) -> tuple:\n",
    "\n",
    "    # Train model without optimization\n",
    "    model_no_opt = GradientBoostingClassifier(random_state=random_seed)\n",
    "    model_no_opt.fit(train_x, train_y)\n",
    "    y_pred = model_no_opt.predict(val_x)\n",
    "    f1_no_opt = f1_score(val_y, y_pred)\n",
    "\n",
    "    print(f\"F1 Score No Optimization: {f1_no_opt}\")\n",
    "    \n",
    "    def objective(trial):\n",
    "        rf_max_depth = trial.suggest_int(\"max_depth\", 2, 32, log=True)\n",
    "        n_estimators = trial.suggest_int(\"n_estimators\", 10, 100)\n",
    "        learning_rate = trial.suggest_float(\"learning_rate\", 0.01, 1.0, log=True)\n",
    "        classifier_obj = GradientBoostingClassifier(\n",
    "            max_depth=rf_max_depth, \n",
    "            n_estimators=n_estimators, \n",
    "            learning_rate=learning_rate,\n",
    "            random_state=random_seed\n",
    "        )\n",
    "\n",
    "        score = cross_val_score(classifier_obj, train_x, train_y, n_jobs=-1, cv=cv, scoring=\"f1_weighted\")\n",
    "        return score.mean()\n",
    "    \n",
    "    optuna.logging.set_verbosity(optuna.logging.WARNING)\n",
    "    study = optuna.create_study(direction=\"maximize\")\n",
    "    study.optimize(objective, n_trials=n_opt_trials)\n",
    "\n",
    "    # train model with optimized hyperparameters\n",
    "    model = GradientBoostingClassifier(max_depth=study.best_params[\"max_depth\"], \n",
    "                                    n_estimators=study.best_params[\"n_estimators\"], \n",
    "                                    random_state=random_seed,)\n",
    "\n",
    "    model.fit(train_x, train_y)\n",
    "\n",
    "    # prediction\n",
    "    y_pred = model.predict(val_x)\n",
    "    val_f1_score = round(f1_score(val_y, y_pred),4)\n",
    "    val_accuracy = round(accuracy_score(val_y, y_pred),4)\n",
    "    \n",
    "    print(\"Optimized Model F1 Score: \", val_f1_score)\n",
    "    \n",
    "    # check if no optimization has better f1 score\n",
    "    if f1_no_opt > val_f1_score:\n",
    "        print(\"No Optimization has better f1 score than optimized model\")\n",
    "        model = model_no_opt\n",
    "        val_f1_score = f1_no_opt\n",
    "    \n",
    "    return model, study, val_f1_score, val_accuracy\n",
    "\n",
    "\n",
    "def train_deicision_tree(train_x: pd.DataFrame, \n",
    "                        val_x: pd.DataFrame, \n",
    "                        train_y: pd.DataFrame, \n",
    "                        val_y: pd.DataFrame,\n",
    "                        random_seed: int = 123,\n",
    "                        n_opt_trials = 20,\n",
    "                        cv: int = 5) -> tuple:\n",
    "\n",
    "    # Train model without optimization\n",
    "    model_no_opt = DecisionTreeClassifier(random_state=random_seed)\n",
    "    model_no_opt.fit(train_x, train_y)\n",
    "    y_pred = model_no_opt.predict(val_x)\n",
    "    f1_no_opt = f1_score(val_y, y_pred)\n",
    "\n",
    "    print(f\"F1 Score No Optimization: {f1_no_opt}\")\n",
    "    \n",
    "    def objective(trial):\n",
    "        max_depth = trial.suggest_int(\"max_depth\", 2, 32, log=True)\n",
    "        classifier_obj = DecisionTreeClassifier(\n",
    "            max_depth=max_depth\n",
    "        )\n",
    "\n",
    "        score = cross_val_score(classifier_obj, train_x, train_y, n_jobs=-1, cv=cv, scoring=\"f1_weighted\")\n",
    "        return score.mean()\n",
    "    \n",
    "    optuna.logging.set_verbosity(optuna.logging.WARNING)\n",
    "    study = optuna.create_study(direction=\"maximize\")\n",
    "    study.optimize(objective, n_trials=n_opt_trials)\n",
    "\n",
    "    # train model with optimized hyperparameters\n",
    "    model = DecisionTreeClassifier(max_depth=study.best_params[\"max_depth\"],\n",
    "                                    random_state=random_seed)\n",
    "\n",
    "    model.fit(train_x, train_y)\n",
    "\n",
    "    # prediction\n",
    "    y_pred = model.predict(val_x)\n",
    "    val_f1_score = round(f1_score(val_y, y_pred),4)\n",
    "    val_accuracy = round(accuracy_score(val_y, y_pred),4)\n",
    "    \n",
    "    print(\"Optimized Model F1 Score: \", val_f1_score)\n",
    "    \n",
    "    # check if no optimization has better f1 score\n",
    "    if f1_no_opt > val_f1_score:\n",
    "        print(\"No Optimization has better f1 score than optimized model\")\n",
    "        model = model_no_opt\n",
    "        val_f1_score = f1_no_opt\n",
    "    \n",
    "    return model, study, val_f1_score, val_accuracy\n",
    "\n",
    "def train_adaboost(train_x: pd.DataFrame, \n",
    "                        val_x: pd.DataFrame, \n",
    "                        train_y: pd.DataFrame, \n",
    "                        val_y: pd.DataFrame,\n",
    "                        random_seed: int = 123,\n",
    "                        n_opt_trials = 20,\n",
    "                        cv: int = 5) -> tuple:\n",
    "\n",
    "    # Train model without optimization\n",
    "    model_no_opt = AdaBoostClassifier(random_state=random_seed)\n",
    "    model_no_opt.fit(train_x, train_y)\n",
    "    y_pred = model_no_opt.predict(val_x)\n",
    "    f1_no_opt = f1_score(val_y, y_pred)\n",
    "\n",
    "    print(f\"F1 Score No Optimization: {f1_no_opt}\")\n",
    "    \n",
    "    def objective(trial):\n",
    "        n_estimators = trial.suggest_int(\"n_estimators\", 10, 100)\n",
    "        learning_rate = trial.suggest_float(\"learning_rate\", 0.01, 1.0, log=True)\n",
    "        classifier_obj = AdaBoostClassifier(\n",
    "            n_estimators=n_estimators,\n",
    "            learning_rate=learning_rate,\n",
    "            random_state=random_seed    \n",
    "        )\n",
    "\n",
    "        score = cross_val_score(classifier_obj, train_x, train_y, n_jobs=-1, cv=cv, scoring=\"f1_weighted\")\n",
    "        return score.mean()\n",
    "    \n",
    "    optuna.logging.set_verbosity(optuna.logging.WARNING)\n",
    "    study = optuna.create_study(direction=\"maximize\")\n",
    "    study.optimize(objective, n_trials=n_opt_trials)\n",
    "\n",
    "    # train model with optimized hyperparameters\n",
    "    model = AdaBoostClassifier(n_estimators=study.best_params[\"n_estimators\"], \n",
    "                               learning_rate=study.best_params[\"learning_rate\"],\n",
    "                               random_state=random_seed  )\n",
    "\n",
    "    model.fit(train_x, train_y)\n",
    "\n",
    "    # prediction\n",
    "    y_pred = model.predict(val_x)\n",
    "    val_f1_score = round(f1_score(val_y, y_pred),4)\n",
    "    val_accuracy = round(accuracy_score(val_y, y_pred),4)\n",
    "    \n",
    "    print(\"Optimized Model F1 Score: \", val_f1_score)\n",
    "    \n",
    "    # check if no optimization has better f1 score\n",
    "    if f1_no_opt > val_f1_score:\n",
    "        print(\"No Optimization has better f1 score than optimized model\")\n",
    "        model = model_no_opt\n",
    "        val_f1_score = f1_no_opt\n",
    "    \n",
    "    return model, study, val_f1_score, val_accuracy\n",
    "\n",
    "def train_svc(train_x: pd.DataFrame, \n",
    "                        val_x: pd.DataFrame, \n",
    "                        train_y: pd.DataFrame, \n",
    "                        val_y: pd.DataFrame,\n",
    "                        random_seed: int = 123,\n",
    "                        n_opt_trials = 20,\n",
    "                        cv: int = 5) -> tuple:\n",
    "\n",
    "    # Train model without optimization\n",
    "    model_no_opt = SVC(random_state=random_seed)\n",
    "    model_no_opt.fit(train_x, train_y)\n",
    "    y_pred = model_no_opt.predict(val_x)\n",
    "    f1_no_opt = f1_score(val_y, y_pred)\n",
    "\n",
    "    print(f\"F1 Score No Optimization: {f1_no_opt}\")\n",
    "    \n",
    "    def objective(trial):\n",
    "        C = trial.suggest_float(\"C\", 0.1, 10, log=True)\n",
    "        #kernel = trial.suggest_categorical(\"kernel\", [\"linear\", \"poly\", \"rbf\", \"sigmoid\"])\n",
    "        classifier_obj = SVC(\n",
    "            C=C,\n",
    "            #kernel=kernel,\n",
    "            random_state=random_seed    \n",
    "        )\n",
    "\n",
    "        score = cross_val_score(classifier_obj, train_x, train_y, n_jobs=-1, cv=cv, scoring=\"f1_weighted\")\n",
    "        return score.mean()\n",
    "    \n",
    "    optuna.logging.set_verbosity(optuna.logging.WARNING)\n",
    "    study = optuna.create_study(direction=\"maximize\")\n",
    "    study.optimize(objective, n_trials=n_opt_trials)\n",
    "\n",
    "    # train model with optimized hyperparameters\n",
    "    model = SVC(C=study.best_params[\"C\"],\n",
    "                    random_state=random_seed  )\n",
    "\n",
    "    model.fit(train_x, train_y)\n",
    "\n",
    "    # prediction\n",
    "    y_pred = model.predict(val_x)\n",
    "    val_f1_score = round(f1_score(val_y, y_pred),4)\n",
    "    val_accuracy = round(accuracy_score(val_y, y_pred),4)\n",
    "    \n",
    "    print(\"Optimized Model F1 Score: \", val_f1_score)\n",
    "    \n",
    "    # check if no optimization has better f1 score\n",
    "    if f1_no_opt > val_f1_score:\n",
    "        print(\"No Optimization has better f1 score than optimized model\")\n",
    "        model = model_no_opt\n",
    "        val_f1_score = f1_no_opt\n",
    "    \n",
    "    return model, study, val_f1_score, val_accuracy\n",
    "\n",
    "\n",
    "def train_lgbm(train_x: pd.DataFrame, \n",
    "                        val_x: pd.DataFrame, \n",
    "                        train_y: pd.DataFrame, \n",
    "                        val_y: pd.DataFrame,\n",
    "                        random_seed: int = 123,\n",
    "                        n_opt_trials = 20) -> tuple:\n",
    "\n",
    "    params = {\n",
    "        \"objective\": \"binary\",\n",
    "        \"metric\": \"f1_score\",\n",
    "        \"verbosity\": -1,\n",
    "        \"boosting_type\": \"gbdt\",\n",
    "        \"random_seed\": random_seed,\n",
    "    }\n",
    "    \n",
    "    model_no_opt = LGBMClassifier(**params)\n",
    "    model_no_opt.fit(train_x, train_y, eval_set=[(val_x, val_y)])\n",
    "    y_pred = model_no_opt.predict(val_x)\n",
    "    f1_no_opt = f1_score(val_y, y_pred)\n",
    "\n",
    "    print(f\"F1 Score No Optimization: {f1_no_opt}\")\n",
    "    \n",
    "    # callable for optimization\n",
    "    def objective(trial):\n",
    "        # Parameters\n",
    "        params_tuning = {\n",
    "            \"objective\": \"binary\",\n",
    "            \"metric\": \"f1_score\",\n",
    "            \"verbosity\": -1,\n",
    "            \"boosting_type\": \"gbdt\",\n",
    "            \"learning_rate\": trial.suggest_float(\"learning_rate\", 1e-3, 0.1, log=True),\n",
    "            \"num_leaves\": trial.suggest_int(\"num_leaves\", 2, 2**10),\n",
    "            \"subsample\": trial.suggest_float(\"subsample\", 0.05, 1.0),\n",
    "            \"colsample_bytree\": trial.suggest_float(\"colsample_bytree\", 0.05, 1.0),\n",
    "            \"min_data_in_leaf\": trial.suggest_int(\"min_data_in_leaf\", 1, 100),\n",
    "            \"feature_pre_filter\": False,\n",
    "        }\n",
    "\n",
    "        gbm = LGBMClassifier(**params_tuning)\n",
    "        gbm.fit(train_x, train_y, eval_set=[(val_x, val_y)])\n",
    "        y_pred = gbm.predict(val_x)\n",
    "        return -f1_score(val_y, y_pred)\n",
    "\n",
    "    # start hyperparameter tuning\n",
    "    optuna.logging.set_verbosity(optuna.logging.WARNING)\n",
    "    study = optuna.create_study(direction=\"minimize\")\n",
    "    study.optimize(objective, n_trials=n_opt_trials)\n",
    "\n",
    "    print(\"Best hyperparameters from optuna:\", study.best_params)\n",
    "    print(\"Best f1_score from optuna:\", study.best_value*(-1))\n",
    "\n",
    "    \n",
    "    best_params = study.best_params\n",
    "    best_params.update({\"objective\": \"binary\", \"metric\": \"f1_score\", \"verbosity\": -1, \"boosting_type\": \"gbdt\"})\n",
    "    model = LGBMClassifier(**best_params)\n",
    "\n",
    "    model.fit(train_x, train_y)\n",
    "\n",
    "    # prediction\n",
    "    y_pred = model.predict(val_x)\n",
    "    val_f1_score = round(f1_score(val_y, y_pred),4)\n",
    "    val_accuracy = round(accuracy_score(val_y, y_pred),4)\n",
    "    \n",
    "    print(\"Optimized Model F1 Score: \", val_f1_score)\n",
    "    \n",
    "    # check if no optimization has better f1 score\n",
    "    if f1_no_opt > val_f1_score:\n",
    "        print(\"No Optimization has better f1 score than optimized model\")\n",
    "        model = model_no_opt\n",
    "        val_f1_score = f1_no_opt\n",
    "    \n",
    "    return model, study, val_f1_score, val_accuracy"
   ]
  },
  {
   "cell_type": "code",
   "execution_count": 28,
   "metadata": {},
   "outputs": [],
   "source": [
    "def split_train_test_data(df_train: pd.DataFrame,\n",
    "                df_test: pd.DataFrame,) -> tuple:\n",
    "    \"\"\"\n",
    "    - Split the data into features (X) and target variable (y)\n",
    "    - OneHot-Encoding for categorical columns\n",
    "    - Split the data into training. validation and testing sets\n",
    "    \n",
    "    Args:\n",
    "        df (pd.DataFrame): DataFrame train data\n",
    "        df_test (pd.DataFrame): DataFrame test data\n",
    "\n",
    "    Returns:\n",
    "        tuple: train_x, test_y, val_x, val_y, X_test, y_test\n",
    "    \"\"\"\n",
    "    \n",
    "        # Define features (X) and target variable (y)\n",
    "    X_train = df_train.drop(columns=['user_of_latest_model'])  # Features\n",
    "    y_train = df_train['user_of_latest_model']  # Target variable\n",
    "    \n",
    "    X_test = df_test.drop(columns=['user_of_latest_model'])  # Features\n",
    "    y_test = df_test['user_of_latest_model']  # Target variable\n",
    "\n",
    "    # OneHot-Encoding for categorical columns\n",
    "    X_train = pd.get_dummies(X_train, columns=df_train.select_dtypes(include=['object']).columns.to_list(), drop_first=True)\n",
    "    X_test = pd.get_dummies(X_test, columns=df_test.select_dtypes(include=['object']).columns.to_list(), drop_first=True)\n",
    "    \n",
    "    train_x, val_x, train_y, val_y = train_test_split(X_train, y_train, test_size=0.2, random_state=123)\n",
    "    \n",
    "    return train_x, val_x, train_y, val_y, X_test, y_test\n",
    "\n",
    "\n",
    "def train_test_model(df_train: pd.DataFrame,\n",
    "                        df_test: pd.DataFrame, \n",
    "                        model_name: str, \n",
    "                        models_func: str,\n",
    "                        n_opt_trials: int= 20) -> pd.DataFrame: \n",
    "    \"\"\"\n",
    "    - Adjust format of categorical columns\n",
    "    - train model on full training data\n",
    "    - Make predictions on the test data\n",
    "    - Evaluate the model using accuracy and F1-score\n",
    "\n",
    "    Args:\n",
    "        df (pd.DataFrame): DataFrame train data\n",
    "        df_test (pd.DataFrame): DataFrame test data\n",
    "        model_name (str): model name\n",
    "\n",
    "    Returns:\n",
    "        pd.DataFrame: df metrics\n",
    "    \"\"\"\n",
    "    \n",
    "    train_x, val_x, train_y, val_y, X_test, y_test = split_train_test_data(df_train, df_test)\n",
    "           \n",
    "    # Train the model\n",
    "    model, study, val_f1_score, val_accuracy = models_func[model_name](train_x, val_x, train_y, val_y, n_opt_trials=n_opt_trials)\n",
    "    \n",
    "    # Evaluate the model\n",
    "    y_pred = model.predict(X_test)\n",
    "    test_accuracy = round(accuracy_score(y_test, y_pred),4)\n",
    "    test_f1_score = round(f1_score(y_test, y_pred),4)\n",
    "\n",
    "    # Store results in DataFrame\n",
    "    df_results = pd.DataFrame({'Model_Name': [model_name], \n",
    "                               'val_f1_score': [val_f1_score], \n",
    "                               'val_accuracy': [val_accuracy], \n",
    "                               'test_f1_score': [test_f1_score],\n",
    "                               'test_accuracy': [test_accuracy]})\n",
    "\n",
    "    return df_results, study"
   ]
  },
  {
   "cell_type": "markdown",
   "metadata": {},
   "source": [
    "## Import Data"
   ]
  },
  {
   "cell_type": "code",
   "execution_count": 29,
   "metadata": {},
   "outputs": [],
   "source": [
    "# Store the dataframe to use them in the next step\n",
    "df_train = pd.read_csv(\"../../data/processed/task2_best_model_step3_train_data.csv\")\n",
    "df_test = pd.read_csv(\"../../data/processed/task2_best_model_step3_test_data.csv\")"
   ]
  },
  {
   "cell_type": "markdown",
   "metadata": {},
   "source": [
    "## Model Evaluation"
   ]
  },
  {
   "cell_type": "code",
   "execution_count": 34,
   "metadata": {},
   "outputs": [],
   "source": [
    "models_func = {'RandomForest': train_random_forest, \n",
    "               'GradientBoosting': train_gradient_boosting, \n",
    "               'DecisionTree': train_deicision_tree,\n",
    "               'AdaBoost': train_adaboost, \n",
    "               'SVC': train_svc, \n",
    "               'LGBM': train_lgbm}"
   ]
  },
  {
   "cell_type": "code",
   "execution_count": 6,
   "metadata": {},
   "outputs": [],
   "source": [
    "df_results = pd.DataFrame()"
   ]
  },
  {
   "cell_type": "markdown",
   "metadata": {},
   "source": [
    "### Random Forest"
   ]
  },
  {
   "cell_type": "code",
   "execution_count": 7,
   "metadata": {},
   "outputs": [
    {
     "name": "stdout",
     "output_type": "stream",
     "text": [
      "F1 Score No Optimization: 0.7225806451612903\n",
      "Optimized Model F1 Score:  0.7143\n",
      "No Optimization has better f1 score than optimized model\n"
     ]
    }
   ],
   "source": [
    "model_name = 'RandomForest'\n",
    "n_opt_trials = 20\n",
    "df_results_new, study = train_test_model(df_train=df_train, \n",
    "                                     df_test=df_test, \n",
    "                                     model_name=model_name, \n",
    "                                     models_func=models_func,\n",
    "                                     n_opt_trials=n_opt_trials)\n",
    "\n",
    "df_results = pd.concat([df_results, df_results_new], axis=0)"
   ]
  },
  {
   "cell_type": "code",
   "execution_count": 8,
   "metadata": {},
   "outputs": [
    {
     "data": {
      "application/vnd.microsoft.datawrangler.viewer.v0+json": {
       "columns": [
        {
         "name": "index",
         "rawType": "int64",
         "type": "integer"
        },
        {
         "name": "Model_Name",
         "rawType": "object",
         "type": "string"
        },
        {
         "name": "val_f1_score",
         "rawType": "float64",
         "type": "float"
        },
        {
         "name": "val_accuracy",
         "rawType": "float64",
         "type": "float"
        },
        {
         "name": "test_f1_score",
         "rawType": "float64",
         "type": "float"
        },
        {
         "name": "test_accuracy",
         "rawType": "float64",
         "type": "float"
        }
       ],
       "conversionMethod": "pd.DataFrame",
       "ref": "a92e0d51-c5ac-4ddb-9730-965261a4d740",
       "rows": [
        [
         "0",
         "RandomForest",
         "0.7225806451612903",
         "0.7755",
         "0.7097",
         "0.766"
        ]
       ],
       "shape": {
        "columns": 5,
        "rows": 1
       }
      },
      "text/html": [
       "<div>\n",
       "<style scoped>\n",
       "    .dataframe tbody tr th:only-of-type {\n",
       "        vertical-align: middle;\n",
       "    }\n",
       "\n",
       "    .dataframe tbody tr th {\n",
       "        vertical-align: top;\n",
       "    }\n",
       "\n",
       "    .dataframe thead th {\n",
       "        text-align: right;\n",
       "    }\n",
       "</style>\n",
       "<table border=\"1\" class=\"dataframe\">\n",
       "  <thead>\n",
       "    <tr style=\"text-align: right;\">\n",
       "      <th></th>\n",
       "      <th>Model_Name</th>\n",
       "      <th>val_f1_score</th>\n",
       "      <th>val_accuracy</th>\n",
       "      <th>test_f1_score</th>\n",
       "      <th>test_accuracy</th>\n",
       "    </tr>\n",
       "  </thead>\n",
       "  <tbody>\n",
       "    <tr>\n",
       "      <th>0</th>\n",
       "      <td>RandomForest</td>\n",
       "      <td>0.722581</td>\n",
       "      <td>0.7755</td>\n",
       "      <td>0.7097</td>\n",
       "      <td>0.766</td>\n",
       "    </tr>\n",
       "  </tbody>\n",
       "</table>\n",
       "</div>"
      ],
      "text/plain": [
       "     Model_Name  val_f1_score  val_accuracy  test_f1_score  test_accuracy\n",
       "0  RandomForest      0.722581        0.7755         0.7097          0.766"
      ]
     },
     "execution_count": 8,
     "metadata": {},
     "output_type": "execute_result"
    }
   ],
   "source": [
    "df_results"
   ]
  },
  {
   "cell_type": "markdown",
   "metadata": {},
   "source": [
    "### Gradient Boosting Classifier"
   ]
  },
  {
   "cell_type": "code",
   "execution_count": 9,
   "metadata": {},
   "outputs": [
    {
     "name": "stdout",
     "output_type": "stream",
     "text": [
      "F1 Score No Optimization: 0.6951219512195121\n",
      "Optimized Model F1 Score:  0.6994\n"
     ]
    }
   ],
   "source": [
    "model_name = 'GradientBoosting' \n",
    "n_opt_trials = 20\n",
    "df_results_new, study = train_test_model(df_train=df_train, \n",
    "                                     df_test=df_test, \n",
    "                                     model_name=model_name, \n",
    "                                     models_func=models_func,\n",
    "                                     n_opt_trials=n_opt_trials)\n",
    "df_results = pd.concat([df_results, df_results_new], axis=0)"
   ]
  },
  {
   "cell_type": "code",
   "execution_count": 10,
   "metadata": {},
   "outputs": [
    {
     "data": {
      "application/vnd.microsoft.datawrangler.viewer.v0+json": {
       "columns": [
        {
         "name": "index",
         "rawType": "int64",
         "type": "integer"
        },
        {
         "name": "Model_Name",
         "rawType": "object",
         "type": "string"
        },
        {
         "name": "val_f1_score",
         "rawType": "float64",
         "type": "float"
        },
        {
         "name": "val_accuracy",
         "rawType": "float64",
         "type": "float"
        },
        {
         "name": "test_f1_score",
         "rawType": "float64",
         "type": "float"
        },
        {
         "name": "test_accuracy",
         "rawType": "float64",
         "type": "float"
        }
       ],
       "conversionMethod": "pd.DataFrame",
       "ref": "f8fa58dc-2440-4d5a-8aef-460eaa3e5258",
       "rows": [
        [
         "0",
         "RandomForest",
         "0.7225806451612903",
         "0.7755",
         "0.7097",
         "0.766"
        ],
        [
         "0",
         "GradientBoosting",
         "0.6994",
         "0.75",
         "0.691",
         "0.746"
        ]
       ],
       "shape": {
        "columns": 5,
        "rows": 2
       }
      },
      "text/html": [
       "<div>\n",
       "<style scoped>\n",
       "    .dataframe tbody tr th:only-of-type {\n",
       "        vertical-align: middle;\n",
       "    }\n",
       "\n",
       "    .dataframe tbody tr th {\n",
       "        vertical-align: top;\n",
       "    }\n",
       "\n",
       "    .dataframe thead th {\n",
       "        text-align: right;\n",
       "    }\n",
       "</style>\n",
       "<table border=\"1\" class=\"dataframe\">\n",
       "  <thead>\n",
       "    <tr style=\"text-align: right;\">\n",
       "      <th></th>\n",
       "      <th>Model_Name</th>\n",
       "      <th>val_f1_score</th>\n",
       "      <th>val_accuracy</th>\n",
       "      <th>test_f1_score</th>\n",
       "      <th>test_accuracy</th>\n",
       "    </tr>\n",
       "  </thead>\n",
       "  <tbody>\n",
       "    <tr>\n",
       "      <th>0</th>\n",
       "      <td>RandomForest</td>\n",
       "      <td>0.722581</td>\n",
       "      <td>0.7755</td>\n",
       "      <td>0.7097</td>\n",
       "      <td>0.766</td>\n",
       "    </tr>\n",
       "    <tr>\n",
       "      <th>0</th>\n",
       "      <td>GradientBoosting</td>\n",
       "      <td>0.699400</td>\n",
       "      <td>0.7500</td>\n",
       "      <td>0.6910</td>\n",
       "      <td>0.746</td>\n",
       "    </tr>\n",
       "  </tbody>\n",
       "</table>\n",
       "</div>"
      ],
      "text/plain": [
       "         Model_Name  val_f1_score  val_accuracy  test_f1_score  test_accuracy\n",
       "0      RandomForest      0.722581        0.7755         0.7097          0.766\n",
       "0  GradientBoosting      0.699400        0.7500         0.6910          0.746"
      ]
     },
     "execution_count": 10,
     "metadata": {},
     "output_type": "execute_result"
    }
   ],
   "source": [
    "df_results"
   ]
  },
  {
   "cell_type": "markdown",
   "metadata": {},
   "source": [
    "### Decision Tree"
   ]
  },
  {
   "cell_type": "code",
   "execution_count": 11,
   "metadata": {},
   "outputs": [
    {
     "name": "stdout",
     "output_type": "stream",
     "text": [
      "F1 Score No Optimization: 0.6190476190476191\n",
      "Optimized Model F1 Score:  0.686\n"
     ]
    }
   ],
   "source": [
    "model_name = 'DecisionTree'\n",
    "n_opt_trials = 20\n",
    "df_results_new, study = train_test_model(df_train=df_train, \n",
    "                                     df_test=df_test, \n",
    "                                     model_name=model_name, \n",
    "                                     models_func=models_func,\n",
    "                                     n_opt_trials=n_opt_trials)\n",
    "df_results = pd.concat([df_results, df_results_new], axis=0)"
   ]
  },
  {
   "cell_type": "code",
   "execution_count": 12,
   "metadata": {},
   "outputs": [
    {
     "data": {
      "application/vnd.microsoft.datawrangler.viewer.v0+json": {
       "columns": [
        {
         "name": "index",
         "rawType": "int64",
         "type": "integer"
        },
        {
         "name": "Model_Name",
         "rawType": "object",
         "type": "string"
        },
        {
         "name": "val_f1_score",
         "rawType": "float64",
         "type": "float"
        },
        {
         "name": "val_accuracy",
         "rawType": "float64",
         "type": "float"
        },
        {
         "name": "test_f1_score",
         "rawType": "float64",
         "type": "float"
        },
        {
         "name": "test_accuracy",
         "rawType": "float64",
         "type": "float"
        }
       ],
       "conversionMethod": "pd.DataFrame",
       "ref": "b019d6e4-1d22-458c-b77e-41ab2de42972",
       "rows": [
        [
         "0",
         "RandomForest",
         "0.7225806451612903",
         "0.7755",
         "0.7097",
         "0.766"
        ],
        [
         "0",
         "GradientBoosting",
         "0.6994",
         "0.75",
         "0.691",
         "0.746"
        ],
        [
         "0",
         "DecisionTree",
         "0.686",
         "0.7245",
         "0.6465",
         "0.696"
        ]
       ],
       "shape": {
        "columns": 5,
        "rows": 3
       }
      },
      "text/html": [
       "<div>\n",
       "<style scoped>\n",
       "    .dataframe tbody tr th:only-of-type {\n",
       "        vertical-align: middle;\n",
       "    }\n",
       "\n",
       "    .dataframe tbody tr th {\n",
       "        vertical-align: top;\n",
       "    }\n",
       "\n",
       "    .dataframe thead th {\n",
       "        text-align: right;\n",
       "    }\n",
       "</style>\n",
       "<table border=\"1\" class=\"dataframe\">\n",
       "  <thead>\n",
       "    <tr style=\"text-align: right;\">\n",
       "      <th></th>\n",
       "      <th>Model_Name</th>\n",
       "      <th>val_f1_score</th>\n",
       "      <th>val_accuracy</th>\n",
       "      <th>test_f1_score</th>\n",
       "      <th>test_accuracy</th>\n",
       "    </tr>\n",
       "  </thead>\n",
       "  <tbody>\n",
       "    <tr>\n",
       "      <th>0</th>\n",
       "      <td>RandomForest</td>\n",
       "      <td>0.722581</td>\n",
       "      <td>0.7755</td>\n",
       "      <td>0.7097</td>\n",
       "      <td>0.766</td>\n",
       "    </tr>\n",
       "    <tr>\n",
       "      <th>0</th>\n",
       "      <td>GradientBoosting</td>\n",
       "      <td>0.699400</td>\n",
       "      <td>0.7500</td>\n",
       "      <td>0.6910</td>\n",
       "      <td>0.746</td>\n",
       "    </tr>\n",
       "    <tr>\n",
       "      <th>0</th>\n",
       "      <td>DecisionTree</td>\n",
       "      <td>0.686000</td>\n",
       "      <td>0.7245</td>\n",
       "      <td>0.6465</td>\n",
       "      <td>0.696</td>\n",
       "    </tr>\n",
       "  </tbody>\n",
       "</table>\n",
       "</div>"
      ],
      "text/plain": [
       "         Model_Name  val_f1_score  val_accuracy  test_f1_score  test_accuracy\n",
       "0      RandomForest      0.722581        0.7755         0.7097          0.766\n",
       "0  GradientBoosting      0.699400        0.7500         0.6910          0.746\n",
       "0      DecisionTree      0.686000        0.7245         0.6465          0.696"
      ]
     },
     "execution_count": 12,
     "metadata": {},
     "output_type": "execute_result"
    }
   ],
   "source": [
    "df_results"
   ]
  },
  {
   "cell_type": "markdown",
   "metadata": {},
   "source": [
    "### AdaBoost"
   ]
  },
  {
   "cell_type": "code",
   "execution_count": 13,
   "metadata": {},
   "outputs": [
    {
     "name": "stdout",
     "output_type": "stream",
     "text": [
      "F1 Score No Optimization: 0.6666666666666666\n",
      "Optimized Model F1 Score:  0.6452\n",
      "No Optimization has better f1 score than optimized model\n"
     ]
    }
   ],
   "source": [
    "model_name = 'AdaBoost'\n",
    "n_opt_trials = 20\n",
    "df_results_new, study = train_test_model(df_train=df_train, \n",
    "                                     df_test=df_test, \n",
    "                                     model_name=model_name, \n",
    "                                     models_func=models_func,\n",
    "                                     n_opt_trials=n_opt_trials)\n",
    "df_results = pd.concat([df_results, df_results_new], axis=0)"
   ]
  },
  {
   "cell_type": "code",
   "execution_count": 14,
   "metadata": {},
   "outputs": [
    {
     "data": {
      "application/vnd.microsoft.datawrangler.viewer.v0+json": {
       "columns": [
        {
         "name": "index",
         "rawType": "int64",
         "type": "integer"
        },
        {
         "name": "Model_Name",
         "rawType": "object",
         "type": "string"
        },
        {
         "name": "val_f1_score",
         "rawType": "float64",
         "type": "float"
        },
        {
         "name": "val_accuracy",
         "rawType": "float64",
         "type": "float"
        },
        {
         "name": "test_f1_score",
         "rawType": "float64",
         "type": "float"
        },
        {
         "name": "test_accuracy",
         "rawType": "float64",
         "type": "float"
        }
       ],
       "conversionMethod": "pd.DataFrame",
       "ref": "284ffdf7-0b78-4b91-89d3-aedf3c6be9cc",
       "rows": [
        [
         "0",
         "RandomForest",
         "0.7225806451612903",
         "0.7755",
         "0.7097",
         "0.766"
        ],
        [
         "0",
         "GradientBoosting",
         "0.6994",
         "0.75",
         "0.691",
         "0.746"
        ],
        [
         "0",
         "DecisionTree",
         "0.686",
         "0.7245",
         "0.6465",
         "0.696"
        ],
        [
         "0",
         "AdaBoost",
         "0.6666666666666666",
         "0.7194",
         "0.6699",
         "0.728"
        ]
       ],
       "shape": {
        "columns": 5,
        "rows": 4
       }
      },
      "text/html": [
       "<div>\n",
       "<style scoped>\n",
       "    .dataframe tbody tr th:only-of-type {\n",
       "        vertical-align: middle;\n",
       "    }\n",
       "\n",
       "    .dataframe tbody tr th {\n",
       "        vertical-align: top;\n",
       "    }\n",
       "\n",
       "    .dataframe thead th {\n",
       "        text-align: right;\n",
       "    }\n",
       "</style>\n",
       "<table border=\"1\" class=\"dataframe\">\n",
       "  <thead>\n",
       "    <tr style=\"text-align: right;\">\n",
       "      <th></th>\n",
       "      <th>Model_Name</th>\n",
       "      <th>val_f1_score</th>\n",
       "      <th>val_accuracy</th>\n",
       "      <th>test_f1_score</th>\n",
       "      <th>test_accuracy</th>\n",
       "    </tr>\n",
       "  </thead>\n",
       "  <tbody>\n",
       "    <tr>\n",
       "      <th>0</th>\n",
       "      <td>RandomForest</td>\n",
       "      <td>0.722581</td>\n",
       "      <td>0.7755</td>\n",
       "      <td>0.7097</td>\n",
       "      <td>0.766</td>\n",
       "    </tr>\n",
       "    <tr>\n",
       "      <th>0</th>\n",
       "      <td>GradientBoosting</td>\n",
       "      <td>0.699400</td>\n",
       "      <td>0.7500</td>\n",
       "      <td>0.6910</td>\n",
       "      <td>0.746</td>\n",
       "    </tr>\n",
       "    <tr>\n",
       "      <th>0</th>\n",
       "      <td>DecisionTree</td>\n",
       "      <td>0.686000</td>\n",
       "      <td>0.7245</td>\n",
       "      <td>0.6465</td>\n",
       "      <td>0.696</td>\n",
       "    </tr>\n",
       "    <tr>\n",
       "      <th>0</th>\n",
       "      <td>AdaBoost</td>\n",
       "      <td>0.666667</td>\n",
       "      <td>0.7194</td>\n",
       "      <td>0.6699</td>\n",
       "      <td>0.728</td>\n",
       "    </tr>\n",
       "  </tbody>\n",
       "</table>\n",
       "</div>"
      ],
      "text/plain": [
       "         Model_Name  val_f1_score  val_accuracy  test_f1_score  test_accuracy\n",
       "0      RandomForest      0.722581        0.7755         0.7097          0.766\n",
       "0  GradientBoosting      0.699400        0.7500         0.6910          0.746\n",
       "0      DecisionTree      0.686000        0.7245         0.6465          0.696\n",
       "0          AdaBoost      0.666667        0.7194         0.6699          0.728"
      ]
     },
     "execution_count": 14,
     "metadata": {},
     "output_type": "execute_result"
    }
   ],
   "source": [
    "df_results"
   ]
  },
  {
   "cell_type": "markdown",
   "metadata": {},
   "source": [
    "### Support Vector Machine Classifier"
   ]
  },
  {
   "cell_type": "code",
   "execution_count": 15,
   "metadata": {},
   "outputs": [
    {
     "name": "stdout",
     "output_type": "stream",
     "text": [
      "F1 Score No Optimization: 0.5\n",
      "Optimized Model F1 Score:  0.4962\n",
      "No Optimization has better f1 score than optimized model\n"
     ]
    }
   ],
   "source": [
    "model_name = 'SVC'\n",
    "n_opt_trials = 20\n",
    "df_results_new, study = train_test_model(df_train=df_train, \n",
    "                                     df_test=df_test, \n",
    "                                     model_name=model_name, \n",
    "                                     models_func=models_func,\n",
    "                                     n_opt_trials=n_opt_trials)\n",
    "df_results = pd.concat([df_results, df_results_new], axis=0)"
   ]
  },
  {
   "cell_type": "code",
   "execution_count": 17,
   "metadata": {},
   "outputs": [
    {
     "data": {
      "application/vnd.microsoft.datawrangler.viewer.v0+json": {
       "columns": [
        {
         "name": "index",
         "rawType": "int64",
         "type": "integer"
        },
        {
         "name": "Model_Name",
         "rawType": "object",
         "type": "string"
        },
        {
         "name": "val_f1_score",
         "rawType": "float64",
         "type": "float"
        },
        {
         "name": "val_accuracy",
         "rawType": "float64",
         "type": "float"
        },
        {
         "name": "test_f1_score",
         "rawType": "float64",
         "type": "float"
        },
        {
         "name": "test_accuracy",
         "rawType": "float64",
         "type": "float"
        }
       ],
       "conversionMethod": "pd.DataFrame",
       "ref": "8f23b239-fada-4a72-aeea-67fc57520256",
       "rows": [
        [
         "0",
         "RandomForest",
         "0.7225806451612903",
         "0.7755",
         "0.7097",
         "0.766"
        ],
        [
         "0",
         "GradientBoosting",
         "0.6994",
         "0.75",
         "0.691",
         "0.746"
        ],
        [
         "0",
         "DecisionTree",
         "0.686",
         "0.7245",
         "0.6465",
         "0.696"
        ],
        [
         "0",
         "AdaBoost",
         "0.6666666666666666",
         "0.7194",
         "0.6699",
         "0.728"
        ],
        [
         "0",
         "SVC",
         "0.5",
         "0.6582",
         "0.4641",
         "0.672"
        ]
       ],
       "shape": {
        "columns": 5,
        "rows": 5
       }
      },
      "text/html": [
       "<div>\n",
       "<style scoped>\n",
       "    .dataframe tbody tr th:only-of-type {\n",
       "        vertical-align: middle;\n",
       "    }\n",
       "\n",
       "    .dataframe tbody tr th {\n",
       "        vertical-align: top;\n",
       "    }\n",
       "\n",
       "    .dataframe thead th {\n",
       "        text-align: right;\n",
       "    }\n",
       "</style>\n",
       "<table border=\"1\" class=\"dataframe\">\n",
       "  <thead>\n",
       "    <tr style=\"text-align: right;\">\n",
       "      <th></th>\n",
       "      <th>Model_Name</th>\n",
       "      <th>val_f1_score</th>\n",
       "      <th>val_accuracy</th>\n",
       "      <th>test_f1_score</th>\n",
       "      <th>test_accuracy</th>\n",
       "    </tr>\n",
       "  </thead>\n",
       "  <tbody>\n",
       "    <tr>\n",
       "      <th>0</th>\n",
       "      <td>RandomForest</td>\n",
       "      <td>0.722581</td>\n",
       "      <td>0.7755</td>\n",
       "      <td>0.7097</td>\n",
       "      <td>0.766</td>\n",
       "    </tr>\n",
       "    <tr>\n",
       "      <th>0</th>\n",
       "      <td>GradientBoosting</td>\n",
       "      <td>0.699400</td>\n",
       "      <td>0.7500</td>\n",
       "      <td>0.6910</td>\n",
       "      <td>0.746</td>\n",
       "    </tr>\n",
       "    <tr>\n",
       "      <th>0</th>\n",
       "      <td>DecisionTree</td>\n",
       "      <td>0.686000</td>\n",
       "      <td>0.7245</td>\n",
       "      <td>0.6465</td>\n",
       "      <td>0.696</td>\n",
       "    </tr>\n",
       "    <tr>\n",
       "      <th>0</th>\n",
       "      <td>AdaBoost</td>\n",
       "      <td>0.666667</td>\n",
       "      <td>0.7194</td>\n",
       "      <td>0.6699</td>\n",
       "      <td>0.728</td>\n",
       "    </tr>\n",
       "    <tr>\n",
       "      <th>0</th>\n",
       "      <td>SVC</td>\n",
       "      <td>0.500000</td>\n",
       "      <td>0.6582</td>\n",
       "      <td>0.4641</td>\n",
       "      <td>0.672</td>\n",
       "    </tr>\n",
       "  </tbody>\n",
       "</table>\n",
       "</div>"
      ],
      "text/plain": [
       "         Model_Name  val_f1_score  val_accuracy  test_f1_score  test_accuracy\n",
       "0      RandomForest      0.722581        0.7755         0.7097          0.766\n",
       "0  GradientBoosting      0.699400        0.7500         0.6910          0.746\n",
       "0      DecisionTree      0.686000        0.7245         0.6465          0.696\n",
       "0          AdaBoost      0.666667        0.7194         0.6699          0.728\n",
       "0               SVC      0.500000        0.6582         0.4641          0.672"
      ]
     },
     "execution_count": 17,
     "metadata": {},
     "output_type": "execute_result"
    }
   ],
   "source": [
    "df_results"
   ]
  },
  {
   "cell_type": "markdown",
   "metadata": {},
   "source": [
    "### LGBM Classifier"
   ]
  },
  {
   "cell_type": "code",
   "execution_count": 35,
   "metadata": {},
   "outputs": [
    {
     "name": "stdout",
     "output_type": "stream",
     "text": [
      "F1 Score No Optimization: 0.7261904761904762\n",
      "Best hyperparameters from optuna: {'learning_rate': 0.03489227422254631, 'num_leaves': 475, 'subsample': 0.535214019507782, 'colsample_bytree': 0.4808815262310152, 'min_data_in_leaf': 44}\n",
      "Best f1_score from optuna: 0.7577639751552795\n",
      "Optimized Model F1 Score:  0.7453\n"
     ]
    }
   ],
   "source": [
    "model_name = 'LGBM'\n",
    "n_opt_trials = 20\n",
    "df_results_new, study = train_test_model(df_train=df_train, \n",
    "                                     df_test=df_test, \n",
    "                                     model_name=model_name, \n",
    "                                     models_func=models_func,\n",
    "                                     n_opt_trials=n_opt_trials)\n",
    "df_results = pd.concat([df_results, df_results_new], axis=0)\n"
   ]
  },
  {
   "cell_type": "code",
   "execution_count": 36,
   "metadata": {},
   "outputs": [
    {
     "data": {
      "application/vnd.microsoft.datawrangler.viewer.v0+json": {
       "columns": [
        {
         "name": "index",
         "rawType": "int64",
         "type": "integer"
        },
        {
         "name": "Model_Name",
         "rawType": "object",
         "type": "string"
        },
        {
         "name": "val_f1_score",
         "rawType": "float64",
         "type": "float"
        },
        {
         "name": "val_accuracy",
         "rawType": "float64",
         "type": "float"
        },
        {
         "name": "test_f1_score",
         "rawType": "float64",
         "type": "float"
        },
        {
         "name": "test_accuracy",
         "rawType": "float64",
         "type": "float"
        }
       ],
       "conversionMethod": "pd.DataFrame",
       "ref": "bd1d3d5a-f47e-4a74-bf24-37e2c9e1f288",
       "rows": [
        [
         "0",
         "RandomForest",
         "0.7225806451612903",
         "0.7755",
         "0.7097",
         "0.766"
        ],
        [
         "0",
         "GradientBoosting",
         "0.6994",
         "0.75",
         "0.691",
         "0.746"
        ],
        [
         "0",
         "DecisionTree",
         "0.686",
         "0.7245",
         "0.6465",
         "0.696"
        ],
        [
         "0",
         "AdaBoost",
         "0.6666666666666666",
         "0.7194",
         "0.6699",
         "0.728"
        ],
        [
         "0",
         "SVC",
         "0.5",
         "0.6582",
         "0.4641",
         "0.672"
        ],
        [
         "0",
         "LGBM",
         "0.7453",
         "0.7908",
         "0.6976",
         "0.752"
        ]
       ],
       "shape": {
        "columns": 5,
        "rows": 6
       }
      },
      "text/html": [
       "<div>\n",
       "<style scoped>\n",
       "    .dataframe tbody tr th:only-of-type {\n",
       "        vertical-align: middle;\n",
       "    }\n",
       "\n",
       "    .dataframe tbody tr th {\n",
       "        vertical-align: top;\n",
       "    }\n",
       "\n",
       "    .dataframe thead th {\n",
       "        text-align: right;\n",
       "    }\n",
       "</style>\n",
       "<table border=\"1\" class=\"dataframe\">\n",
       "  <thead>\n",
       "    <tr style=\"text-align: right;\">\n",
       "      <th></th>\n",
       "      <th>Model_Name</th>\n",
       "      <th>val_f1_score</th>\n",
       "      <th>val_accuracy</th>\n",
       "      <th>test_f1_score</th>\n",
       "      <th>test_accuracy</th>\n",
       "    </tr>\n",
       "  </thead>\n",
       "  <tbody>\n",
       "    <tr>\n",
       "      <th>0</th>\n",
       "      <td>RandomForest</td>\n",
       "      <td>0.722581</td>\n",
       "      <td>0.7755</td>\n",
       "      <td>0.7097</td>\n",
       "      <td>0.766</td>\n",
       "    </tr>\n",
       "    <tr>\n",
       "      <th>0</th>\n",
       "      <td>GradientBoosting</td>\n",
       "      <td>0.699400</td>\n",
       "      <td>0.7500</td>\n",
       "      <td>0.6910</td>\n",
       "      <td>0.746</td>\n",
       "    </tr>\n",
       "    <tr>\n",
       "      <th>0</th>\n",
       "      <td>DecisionTree</td>\n",
       "      <td>0.686000</td>\n",
       "      <td>0.7245</td>\n",
       "      <td>0.6465</td>\n",
       "      <td>0.696</td>\n",
       "    </tr>\n",
       "    <tr>\n",
       "      <th>0</th>\n",
       "      <td>AdaBoost</td>\n",
       "      <td>0.666667</td>\n",
       "      <td>0.7194</td>\n",
       "      <td>0.6699</td>\n",
       "      <td>0.728</td>\n",
       "    </tr>\n",
       "    <tr>\n",
       "      <th>0</th>\n",
       "      <td>SVC</td>\n",
       "      <td>0.500000</td>\n",
       "      <td>0.6582</td>\n",
       "      <td>0.4641</td>\n",
       "      <td>0.672</td>\n",
       "    </tr>\n",
       "    <tr>\n",
       "      <th>0</th>\n",
       "      <td>LGBM</td>\n",
       "      <td>0.745300</td>\n",
       "      <td>0.7908</td>\n",
       "      <td>0.6976</td>\n",
       "      <td>0.752</td>\n",
       "    </tr>\n",
       "  </tbody>\n",
       "</table>\n",
       "</div>"
      ],
      "text/plain": [
       "         Model_Name  val_f1_score  val_accuracy  test_f1_score  test_accuracy\n",
       "0      RandomForest      0.722581        0.7755         0.7097          0.766\n",
       "0  GradientBoosting      0.699400        0.7500         0.6910          0.746\n",
       "0      DecisionTree      0.686000        0.7245         0.6465          0.696\n",
       "0          AdaBoost      0.666667        0.7194         0.6699          0.728\n",
       "0               SVC      0.500000        0.6582         0.4641          0.672\n",
       "0              LGBM      0.745300        0.7908         0.6976          0.752"
      ]
     },
     "execution_count": 36,
     "metadata": {},
     "output_type": "execute_result"
    }
   ],
   "source": [
    "df_results"
   ]
  },
  {
   "cell_type": "code",
   "execution_count": 38,
   "metadata": {},
   "outputs": [
    {
     "data": {
      "image/png": "[encoded data removed]",
      "text/plain": [
       "<Figure size 1500x600 with 1 Axes>"
      ]
     },
     "metadata": {},
     "output_type": "display_data"
    }
   ],
   "source": [
    "plt.figure(figsize=(15, 6))\n",
    "\n",
    "bar_height = 0.4\n",
    "y = range(len(df_results))\n",
    "\n",
    "# Bars for Accuracy\n",
    "plt.barh(y, df_results['val_accuracy'], height=bar_height, color='cornflowerblue', label='Accuracy')\n",
    "for i, value in enumerate(df_results['val_accuracy']):\n",
    "    plt.text(value + 0.001, i, f'{value:.3f}', va='center', fontsize=10)  # Adds label to Accuracy bars\n",
    "\n",
    "# Bars for F1-Score (shifted downward)\n",
    "plt.barh([pos + bar_height for pos in y], df_results['val_f1_score'], height=bar_height, color='lightcoral', label='F1-Score')\n",
    "for i, value in enumerate(df_results['val_f1_score']):\n",
    "    plt.text(value + 0.001, i + bar_height, f'{value:.3f}', va='center', fontsize=10)  # Adds label to F1-Score bars\n",
    "\n",
    "# Customize axis labels and title\n",
    "plt.ylabel('Model Name')\n",
    "plt.xlabel('Score')\n",
    "plt.yticks([pos + bar_height / 2 for pos in y], df_results['Model_Name'])\n",
    "plt.title('Comparison of Accuracy and F1-Score for Validation Dataset (20 % of Training Data)')\n",
    "plt.legend()\n",
    "plt.gca().invert_yaxis()\n",
    "plt.xlim(0.5, 0.9) \n",
    "plt.tight_layout()\n",
    "plt.show()"
   ]
  },
  {
   "cell_type": "code",
   "execution_count": 39,
   "metadata": {},
   "outputs": [
    {
     "data": {
      "image/png": "[encoded data removed]",
      "text/plain": [
       "<Figure size 1500x600 with 1 Axes>"
      ]
     },
     "metadata": {},
     "output_type": "display_data"
    }
   ],
   "source": [
    "plt.figure(figsize=(15, 6))\n",
    "\n",
    "bar_height = 0.4\n",
    "y = range(len(df_results))\n",
    "\n",
    "# Bars for Accuracy\n",
    "plt.barh(y, df_results['test_accuracy'], height=bar_height, color='cornflowerblue', label='Accuracy')\n",
    "for i, value in enumerate(df_results['test_accuracy']):\n",
    "    plt.text(value + 0.001, i, f'{value:.3f}', va='center', fontsize=10)  # Adds label to Accuracy bars\n",
    "\n",
    "# Bars for F1-Score (shifted downward)\n",
    "plt.barh([pos + bar_height for pos in y], df_results['test_f1_score'], height=bar_height, color='lightcoral', label='F1-Score')\n",
    "for i, value in enumerate(df_results['test_f1_score']):\n",
    "    plt.text(value + 0.001, i + bar_height, f'{value:.3f}', va='center', fontsize=10)  # Adds label to F1-Score bars\n",
    "\n",
    "# Customize axis labels and title\n",
    "plt.ylabel('Model Name')\n",
    "plt.xlabel('Score')\n",
    "plt.yticks([pos + bar_height / 2 for pos in y], df_results['Model_Name'])\n",
    "plt.title('Comparison of Accuracy and F1-Score on Test Data')\n",
    "plt.legend()\n",
    "plt.gca().invert_yaxis()\n",
    "plt.xlim(0.5, 0.9) \n",
    "plt.tight_layout()\n",
    "plt.show()"
   ]
  },
  {
   "cell_type": "code",
   "execution_count": null,
   "metadata": {},
   "outputs": [],
   "source": []
  }
 ],
 "metadata": {
  "kernelspec": {
   "display_name": ".venv",
   "language": "python",
   "name": "python3"
  },
  "language_info": {
   "codemirror_mode": {
    "name": "ipython",
    "version": 3
   },
   "file_extension": ".py",
   "mimetype": "text/x-python",
   "name": "python",
   "nbconvert_exporter": "python",
   "pygments_lexer": "ipython3",
   "version": "3.12.7"
  }
 },
 "nbformat": 4,
 "nbformat_minor": 2
}
