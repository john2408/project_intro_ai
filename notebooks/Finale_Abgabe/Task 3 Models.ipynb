{
 "cells": [
  {
   "cell_type": "markdown",
   "metadata": {},
   "source": [
    "# Task 3: Model optimization\n",
    "\n",
    "\n",
    "Gruppe Nummer: 1\n",
    "- Samuel Hempelt\n",
    "- Andreas Luakat\n",
    "- John Torres\n",
    "\n",
    "In this step we will use the data create after applying the preprocessed steps on Step 3, since this generated the best model from all other preprocessed steps: \n",
    "\n",
    "- Step 3: Outlier Cleaning\n",
    "    - Missing Values: Average for numeric, Mode for Category\n",
    "    - Deletion of entries with missing values in the target colunm\n",
    "    - Listwise deletion (all rows with multiple missing values, more than 2)\n",
    "    - Identify outlier with IQR\n",
    "    - Impute outliers with regression imputation\n",
    "    - Impute categorical values with random imputation\n",
    "\n",
    "Models: \n",
    "\n",
    "- **RandomForest**\n",
    "- **GradientBoosting**\n",
    "- **BaggingClassifier**\n",
    "- **DecisionTree**\n",
    "- **AdaBoost**\n",
    "- **SVC**\n",
    "- **LGBM**\n",
    "- **Feature Tokenizer Transformer**"
   ]
  },
  {
   "cell_type": "code",
   "execution_count": 63,
   "metadata": {},
   "outputs": [],
   "source": [
    "import pandas as pd\n",
    "import os\n",
    "import seaborn as sns  \n",
    "import matplotlib.pyplot as plt\n",
    "import pandas as pd\n",
    "import numpy as np\n",
    "from sklearn.metrics import accuracy_score, f1_score\n",
    "from sklearn.ensemble import RandomForestClassifier\n",
    "from sklearn.model_selection import cross_val_score\n",
    "from sklearn.ensemble import GradientBoostingClassifier\n",
    "from sklearn.model_selection import train_test_split\n",
    "from sklearn.tree import DecisionTreeClassifier\n",
    "from sklearn.ensemble import AdaBoostClassifier\n",
    "from sklearn.ensemble import BaggingClassifier\n",
    "from sklearn.svm import SVC\n",
    "import optuna\n",
    "from lightgbm import LGBMClassifier\n",
    "\n"
   ]
  },
  {
   "cell_type": "markdown",
   "metadata": {},
   "source": [
    "## Functions"
   ]
  },
  {
   "cell_type": "code",
   "execution_count": 64,
   "metadata": {},
   "outputs": [],
   "source": [
    "def train_bagging_classifier(train_x: pd.DataFrame, \n",
    "                             val_x: pd.DataFrame, \n",
    "                             train_y: pd.DataFrame, \n",
    "                             val_y: pd.DataFrame,\n",
    "                             random_seed: int = 123,\n",
    "                             n_opt_trials = 20,\n",
    "                             cv: int = 5) -> tuple:\n",
    "\n",
    "    # Train model without optimization\n",
    "    model_no_opt = BaggingClassifier(random_state=random_seed)\n",
    "    model_no_opt.fit(train_x, train_y)\n",
    "    y_pred = model_no_opt.predict(val_x)\n",
    "    f1_no_opt = f1_score(val_y, y_pred)\n",
    "\n",
    "    print(f\"F1 Score No Optimization: {f1_no_opt}\")\n",
    "    \n",
    "    def objective(trial):\n",
    "        n_estimators = trial.suggest_int(\"n_estimators\", 10, 100)\n",
    "        max_samples = trial.suggest_float(\"max_samples\", 0.1, 1.0)\n",
    "        classifier_obj = BaggingClassifier(\n",
    "            n_estimators=n_estimators,\n",
    "            max_samples=max_samples,\n",
    "            random_state=random_seed\n",
    "        )\n",
    "\n",
    "        score = cross_val_score(classifier_obj, train_x, train_y, n_jobs=-1, cv=cv, scoring=\"f1_weighted\")\n",
    "        return score.mean()\n",
    "    \n",
    "    optuna.logging.set_verbosity(optuna.logging.WARNING)\n",
    "    study = optuna.create_study(direction=\"maximize\")\n",
    "    study.optimize(objective, n_trials=n_opt_trials)\n",
    "\n",
    "    # train model with optimized hyperparameters\n",
    "    model = BaggingClassifier(n_estimators=study.best_params[\"n_estimators\"], \n",
    "                              max_samples=study.best_params[\"max_samples\"], \n",
    "                              random_state=random_seed)\n",
    "\n",
    "    model.fit(train_x, train_y)\n",
    "\n",
    "    # prediction\n",
    "    y_pred = model.predict(val_x)\n",
    "    val_f1_score = round(f1_score(val_y, y_pred),4)\n",
    "    val_accuracy = round(accuracy_score(val_y, y_pred),4)\n",
    "    \n",
    "    print(\"Optimized Model F1 Score: \", val_f1_score)\n",
    "    \n",
    "    # check if no optimization has better f1 score\n",
    "    if f1_no_opt > val_f1_score:\n",
    "        print(\"No Optimization has better f1 score than optimized model\")\n",
    "        model = model_no_opt\n",
    "        val_f1_score = f1_no_opt\n",
    "    \n",
    "    return model, study, val_f1_score, val_accuracy"
   ]
  },
  {
   "cell_type": "code",
   "execution_count": 65,
   "metadata": {},
   "outputs": [],
   "source": [
    "def train_random_forest(train_x: pd.DataFrame, \n",
    "                        val_x: pd.DataFrame, \n",
    "                        train_y: pd.DataFrame, \n",
    "                        val_y: pd.DataFrame,\n",
    "                        random_seed: int = 123,\n",
    "                        n_opt_trials = 20,\n",
    "                        cv: int = 5) -> tuple:\n",
    "\n",
    "    # Train model without optimization\n",
    "    model_no_opt = RandomForestClassifier(random_state=random_seed)\n",
    "    model_no_opt.fit(train_x, train_y)\n",
    "    y_pred = model_no_opt.predict(val_x)\n",
    "    f1_no_opt = f1_score(val_y, y_pred)\n",
    "\n",
    "    print(f\"F1 Score No Optimization: {f1_no_opt}\")\n",
    "    \n",
    "    def objective(trial):\n",
    "\n",
    "        rf_max_depth = trial.suggest_int(\"rf_max_depth\", 2, 32, log=True)\n",
    "        n_estimators = trial.suggest_int(\"n_estimators\", 10, 100)\n",
    "        classifier_obj = RandomForestClassifier(\n",
    "            max_depth=rf_max_depth, \n",
    "            n_estimators=n_estimators,\n",
    "            random_state=random_seed\n",
    "        )\n",
    "\n",
    "        score = cross_val_score(classifier_obj, train_x, train_y, n_jobs=-1, cv=cv, scoring=\"f1_weighted\")\n",
    "        return score.mean()\n",
    "    \n",
    "    optuna.logging.set_verbosity(optuna.logging.WARNING)\n",
    "    study = optuna.create_study(direction=\"maximize\")\n",
    "    study.optimize(objective, n_trials=n_opt_trials)\n",
    "\n",
    "    # train model with optimized hyperparameters\n",
    "    model = RandomForestClassifier(max_depth=study.best_params[\"rf_max_depth\"], \n",
    "                                    n_estimators=study.best_params[\"n_estimators\"], \n",
    "                                    random_state=random_seed)\n",
    "\n",
    "    model.fit(train_x, train_y)\n",
    "\n",
    "    # prediction\n",
    "    y_pred = model.predict(val_x)\n",
    "    val_f1_score = round(f1_score(val_y, y_pred),4)\n",
    "    val_accuracy = round(accuracy_score(val_y, y_pred),4)\n",
    "    \n",
    "    print(\"Optimized Model F1 Score: \", val_f1_score)\n",
    "    \n",
    "    # check if no optimization has better f1 score\n",
    "    if f1_no_opt > val_f1_score:\n",
    "        print(\"No Optimization has better f1 score than optimized model\")\n",
    "        model = model_no_opt\n",
    "        val_f1_score = f1_no_opt\n",
    "    \n",
    "    return model, study, val_f1_score, val_accuracy\n",
    "\n",
    "def train_gradient_boosting(train_x: pd.DataFrame, \n",
    "                        val_x: pd.DataFrame, \n",
    "                        train_y: pd.DataFrame, \n",
    "                        val_y: pd.DataFrame,\n",
    "                        random_seed: int = 123,\n",
    "                        n_opt_trials = 20,\n",
    "                        cv: int = 5) -> tuple:\n",
    "\n",
    "    # Train model without optimization\n",
    "    model_no_opt = GradientBoostingClassifier(random_state=random_seed)\n",
    "    model_no_opt.fit(train_x, train_y)\n",
    "    y_pred = model_no_opt.predict(val_x)\n",
    "    f1_no_opt = f1_score(val_y, y_pred)\n",
    "\n",
    "    print(f\"F1 Score No Optimization: {f1_no_opt}\")\n",
    "    \n",
    "    def objective(trial):\n",
    "        rf_max_depth = trial.suggest_int(\"max_depth\", 2, 32, log=True)\n",
    "        n_estimators = trial.suggest_int(\"n_estimators\", 10, 100)\n",
    "        learning_rate = trial.suggest_float(\"learning_rate\", 0.01, 1.0, log=True)\n",
    "        classifier_obj = GradientBoostingClassifier(\n",
    "            max_depth=rf_max_depth, \n",
    "            n_estimators=n_estimators, \n",
    "            learning_rate=learning_rate,\n",
    "            random_state=random_seed\n",
    "        )\n",
    "\n",
    "        score = cross_val_score(classifier_obj, train_x, train_y, n_jobs=-1, cv=cv, scoring=\"f1_weighted\")\n",
    "        return score.mean()\n",
    "    \n",
    "    optuna.logging.set_verbosity(optuna.logging.WARNING)\n",
    "    study = optuna.create_study(direction=\"maximize\")\n",
    "    study.optimize(objective, n_trials=n_opt_trials)\n",
    "\n",
    "    # train model with optimized hyperparameters\n",
    "    model = GradientBoostingClassifier(max_depth=study.best_params[\"max_depth\"], \n",
    "                                    n_estimators=study.best_params[\"n_estimators\"], \n",
    "                                    random_state=random_seed,)\n",
    "\n",
    "    model.fit(train_x, train_y)\n",
    "\n",
    "    # prediction\n",
    "    y_pred = model.predict(val_x)\n",
    "    val_f1_score = round(f1_score(val_y, y_pred),4)\n",
    "    val_accuracy = round(accuracy_score(val_y, y_pred),4)\n",
    "    \n",
    "    print(\"Optimized Model F1 Score: \", val_f1_score)\n",
    "    \n",
    "    # check if no optimization has better f1 score\n",
    "    if f1_no_opt > val_f1_score:\n",
    "        print(\"No Optimization has better f1 score than optimized model\")\n",
    "        model = model_no_opt\n",
    "        val_f1_score = f1_no_opt\n",
    "    \n",
    "    return model, study, val_f1_score, val_accuracy\n",
    "\n",
    "\n",
    "def train_deicision_tree(train_x: pd.DataFrame, \n",
    "                        val_x: pd.DataFrame, \n",
    "                        train_y: pd.DataFrame, \n",
    "                        val_y: pd.DataFrame,\n",
    "                        random_seed: int = 123,\n",
    "                        n_opt_trials = 20,\n",
    "                        cv: int = 5) -> tuple:\n",
    "\n",
    "    # Train model without optimization\n",
    "    model_no_opt = DecisionTreeClassifier(random_state=random_seed)\n",
    "    model_no_opt.fit(train_x, train_y)\n",
    "    y_pred = model_no_opt.predict(val_x)\n",
    "    f1_no_opt = f1_score(val_y, y_pred)\n",
    "\n",
    "    print(f\"F1 Score No Optimization: {f1_no_opt}\")\n",
    "    \n",
    "    def objective(trial):\n",
    "        max_depth = trial.suggest_int(\"max_depth\", 2, 32, log=True)\n",
    "        classifier_obj = DecisionTreeClassifier(\n",
    "            max_depth=max_depth\n",
    "        )\n",
    "\n",
    "        score = cross_val_score(classifier_obj, train_x, train_y, n_jobs=-1, cv=cv, scoring=\"f1_weighted\")\n",
    "        return score.mean()\n",
    "    \n",
    "    optuna.logging.set_verbosity(optuna.logging.WARNING)\n",
    "    study = optuna.create_study(direction=\"maximize\")\n",
    "    study.optimize(objective, n_trials=n_opt_trials)\n",
    "\n",
    "    # train model with optimized hyperparameters\n",
    "    model = DecisionTreeClassifier(max_depth=study.best_params[\"max_depth\"],\n",
    "                                    random_state=random_seed)\n",
    "\n",
    "    model.fit(train_x, train_y)\n",
    "\n",
    "    # prediction\n",
    "    y_pred = model.predict(val_x)\n",
    "    val_f1_score = round(f1_score(val_y, y_pred),4)\n",
    "    val_accuracy = round(accuracy_score(val_y, y_pred),4)\n",
    "    \n",
    "    print(\"Optimized Model F1 Score: \", val_f1_score)\n",
    "    \n",
    "    # check if no optimization has better f1 score\n",
    "    if f1_no_opt > val_f1_score:\n",
    "        print(\"No Optimization has better f1 score than optimized model\")\n",
    "        model = model_no_opt\n",
    "        val_f1_score = f1_no_opt\n",
    "    \n",
    "    return model, study, val_f1_score, val_accuracy\n",
    "\n",
    "def train_adaboost(train_x: pd.DataFrame, \n",
    "                        val_x: pd.DataFrame, \n",
    "                        train_y: pd.DataFrame, \n",
    "                        val_y: pd.DataFrame,\n",
    "                        random_seed: int = 123,\n",
    "                        n_opt_trials = 20,\n",
    "                        cv: int = 5) -> tuple:\n",
    "\n",
    "    # Train model without optimization\n",
    "    model_no_opt = AdaBoostClassifier(random_state=random_seed)\n",
    "    model_no_opt.fit(train_x, train_y)\n",
    "    y_pred = model_no_opt.predict(val_x)\n",
    "    f1_no_opt = f1_score(val_y, y_pred)\n",
    "\n",
    "    print(f\"F1 Score No Optimization: {f1_no_opt}\")\n",
    "    \n",
    "    def objective(trial):\n",
    "        n_estimators = trial.suggest_int(\"n_estimators\", 10, 100)\n",
    "        learning_rate = trial.suggest_float(\"learning_rate\", 0.01, 1.0, log=True)\n",
    "        classifier_obj = AdaBoostClassifier(\n",
    "            n_estimators=n_estimators,\n",
    "            learning_rate=learning_rate,\n",
    "            random_state=random_seed    \n",
    "        )\n",
    "\n",
    "        score = cross_val_score(classifier_obj, train_x, train_y, n_jobs=-1, cv=cv, scoring=\"f1_weighted\")\n",
    "        return score.mean()\n",
    "    \n",
    "    optuna.logging.set_verbosity(optuna.logging.WARNING)\n",
    "    study = optuna.create_study(direction=\"maximize\")\n",
    "    study.optimize(objective, n_trials=n_opt_trials)\n",
    "\n",
    "    # train model with optimized hyperparameters\n",
    "    model = AdaBoostClassifier(n_estimators=study.best_params[\"n_estimators\"], \n",
    "                               learning_rate=study.best_params[\"learning_rate\"],\n",
    "                               random_state=random_seed  )\n",
    "\n",
    "    model.fit(train_x, train_y)\n",
    "\n",
    "    # prediction\n",
    "    y_pred = model.predict(val_x)\n",
    "    val_f1_score = round(f1_score(val_y, y_pred),4)\n",
    "    val_accuracy = round(accuracy_score(val_y, y_pred),4)\n",
    "    \n",
    "    print(\"Optimized Model F1 Score: \", val_f1_score)\n",
    "    \n",
    "    # check if no optimization has better f1 score\n",
    "    if f1_no_opt > val_f1_score:\n",
    "        print(\"No Optimization has better f1 score than optimized model\")\n",
    "        model = model_no_opt\n",
    "        val_f1_score = f1_no_opt\n",
    "    \n",
    "    return model, study, val_f1_score, val_accuracy\n",
    "\n",
    "def train_svc(train_x: pd.DataFrame, \n",
    "                        val_x: pd.DataFrame, \n",
    "                        train_y: pd.DataFrame, \n",
    "                        val_y: pd.DataFrame,\n",
    "                        random_seed: int = 123,\n",
    "                        n_opt_trials = 20,\n",
    "                        cv: int = 5) -> tuple:\n",
    "\n",
    "    # Train model without optimization\n",
    "    model_no_opt = SVC(random_state=random_seed)\n",
    "    model_no_opt.fit(train_x, train_y)\n",
    "    y_pred = model_no_opt.predict(val_x)\n",
    "    f1_no_opt = f1_score(val_y, y_pred)\n",
    "\n",
    "    print(f\"F1 Score No Optimization: {f1_no_opt}\")\n",
    "    \n",
    "    def objective(trial):\n",
    "        C = trial.suggest_float(\"C\", 0.1, 10, log=True)\n",
    "        #kernel = trial.suggest_categorical(\"kernel\", [\"linear\", \"poly\", \"rbf\", \"sigmoid\"])\n",
    "        classifier_obj = SVC(\n",
    "            C=C,\n",
    "            #kernel=kernel,\n",
    "            random_state=random_seed    \n",
    "        )\n",
    "\n",
    "        score = cross_val_score(classifier_obj, train_x, train_y, n_jobs=-1, cv=cv, scoring=\"f1_weighted\")\n",
    "        return score.mean()\n",
    "    \n",
    "    optuna.logging.set_verbosity(optuna.logging.WARNING)\n",
    "    study = optuna.create_study(direction=\"maximize\")\n",
    "    study.optimize(objective, n_trials=n_opt_trials)\n",
    "\n",
    "    # train model with optimized hyperparameters\n",
    "    model = SVC(C=study.best_params[\"C\"],\n",
    "                    random_state=random_seed  )\n",
    "\n",
    "    model.fit(train_x, train_y)\n",
    "\n",
    "    # prediction\n",
    "    y_pred = model.predict(val_x)\n",
    "    val_f1_score = round(f1_score(val_y, y_pred),4)\n",
    "    val_accuracy = round(accuracy_score(val_y, y_pred),4)\n",
    "    \n",
    "    print(\"Optimized Model F1 Score: \", val_f1_score)\n",
    "    \n",
    "    # check if no optimization has better f1 score\n",
    "    if f1_no_opt > val_f1_score:\n",
    "        print(\"No Optimization has better f1 score than optimized model\")\n",
    "        model = model_no_opt\n",
    "        val_f1_score = f1_no_opt\n",
    "    \n",
    "    return model, study, val_f1_score, val_accuracy\n",
    "\n",
    "\n",
    "def train_lgbm(train_x: pd.DataFrame, \n",
    "                        val_x: pd.DataFrame, \n",
    "                        train_y: pd.DataFrame, \n",
    "                        val_y: pd.DataFrame,\n",
    "                        random_seed: int = 123,\n",
    "                        n_opt_trials = 20) -> tuple:\n",
    "\n",
    "    params = {\n",
    "        \"objective\": \"binary\",\n",
    "        \"metric\": \"f1_score\",\n",
    "        \"verbosity\": -1,\n",
    "        \"boosting_type\": \"gbdt\",\n",
    "        \"random_seed\": random_seed,\n",
    "    }\n",
    "    \n",
    "    model_no_opt = LGBMClassifier(**params)\n",
    "    model_no_opt.fit(train_x, train_y, eval_set=[(val_x, val_y)])\n",
    "    y_pred = model_no_opt.predict(val_x)\n",
    "    f1_no_opt = f1_score(val_y, y_pred)\n",
    "\n",
    "    print(f\"F1 Score No Optimization: {f1_no_opt}\")\n",
    "    \n",
    "    # callable for optimization\n",
    "    def objective(trial):\n",
    "        # Parameters\n",
    "        params_tuning = {\n",
    "            \"objective\": \"binary\",\n",
    "            \"metric\": \"f1_score\",\n",
    "            \"verbosity\": -1,\n",
    "            \"boosting_type\": \"gbdt\",\n",
    "            \"learning_rate\": trial.suggest_float(\"learning_rate\", 1e-3, 0.1, log=True),\n",
    "            \"num_leaves\": trial.suggest_int(\"num_leaves\", 2, 2**10),\n",
    "            \"subsample\": trial.suggest_float(\"subsample\", 0.05, 1.0),\n",
    "            \"colsample_bytree\": trial.suggest_float(\"colsample_bytree\", 0.05, 1.0),\n",
    "            \"min_data_in_leaf\": trial.suggest_int(\"min_data_in_leaf\", 1, 100),\n",
    "            \"feature_pre_filter\": False,\n",
    "        }\n",
    "\n",
    "        gbm = LGBMClassifier(**params_tuning)\n",
    "        gbm.fit(train_x, train_y, eval_set=[(val_x, val_y)])\n",
    "        y_pred = gbm.predict(val_x)\n",
    "        return -f1_score(val_y, y_pred)\n",
    "\n",
    "    # start hyperparameter tuning\n",
    "    optuna.logging.set_verbosity(optuna.logging.WARNING)\n",
    "    study = optuna.create_study(direction=\"minimize\")\n",
    "    study.optimize(objective, n_trials=n_opt_trials)\n",
    "\n",
    "    print(\"Best hyperparameters from optuna:\", study.best_params)\n",
    "    print(\"Best f1_score from optuna:\", study.best_value*(-1))\n",
    "\n",
    "    \n",
    "    best_params = study.best_params\n",
    "    best_params.update({\"objective\": \"binary\", \"metric\": \"f1_score\", \"verbosity\": -1, \"boosting_type\": \"gbdt\"})\n",
    "    model = LGBMClassifier(**best_params)\n",
    "\n",
    "    model.fit(train_x, train_y)\n",
    "\n",
    "    # prediction\n",
    "    y_pred = model.predict(val_x)\n",
    "    val_f1_score = round(f1_score(val_y, y_pred),4)\n",
    "    val_accuracy = round(accuracy_score(val_y, y_pred),4)\n",
    "    \n",
    "    print(\"Optimized Model F1 Score: \", val_f1_score)\n",
    "    \n",
    "    # check if no optimization has better f1 score\n",
    "    if f1_no_opt > val_f1_score:\n",
    "        print(\"No Optimization has better f1 score than optimized model\")\n",
    "        model = model_no_opt\n",
    "        val_f1_score = f1_no_opt\n",
    "    \n",
    "    return model, study, val_f1_score, val_accuracy"
   ]
  },
  {
   "cell_type": "code",
   "execution_count": 66,
   "metadata": {},
   "outputs": [],
   "source": [
    "def split_train_test_data(df_train: pd.DataFrame,\n",
    "                df_test: pd.DataFrame,) -> tuple:\n",
    "    \"\"\"\n",
    "    - Split the data into features (X) and target variable (y)\n",
    "    - OneHot-Encoding for categorical columns\n",
    "    - Split the data into training. validation and testing sets\n",
    "    \n",
    "    Args:\n",
    "        df (pd.DataFrame): DataFrame train data\n",
    "        df_test (pd.DataFrame): DataFrame test data\n",
    "\n",
    "    Returns:\n",
    "        tuple: train_x, test_y, val_x, val_y, X_test, y_test\n",
    "    \"\"\"\n",
    "    \n",
    "        # Define features (X) and target variable (y)\n",
    "    X_train = df_train.drop(columns=['user_of_latest_model'])  # Features\n",
    "    y_train = df_train['user_of_latest_model']  # Target variable\n",
    "    \n",
    "    X_test = df_test.drop(columns=['user_of_latest_model'])  # Features\n",
    "    y_test = df_test['user_of_latest_model']  # Target variable\n",
    "\n",
    "    # OneHot-Encoding for categorical columns\n",
    "    X_train = pd.get_dummies(X_train, columns=df_train.select_dtypes(include=['object']).columns.to_list(), drop_first=True)\n",
    "    X_test = pd.get_dummies(X_test, columns=df_test.select_dtypes(include=['object']).columns.to_list(), drop_first=True)\n",
    "    \n",
    "    train_x, val_x, train_y, val_y = train_test_split(X_train, y_train, test_size=0.2, random_state=123)\n",
    "    \n",
    "    return train_x, val_x, train_y, val_y, X_test, y_test\n",
    "\n",
    "\n",
    "def train_test_model(df_train: pd.DataFrame,\n",
    "                        df_test: pd.DataFrame, \n",
    "                        model_name: str, \n",
    "                        models_func: str,\n",
    "                        n_opt_trials: int= 20) -> pd.DataFrame: \n",
    "    \"\"\"\n",
    "    - Adjust format of categorical columns\n",
    "    - train model on full training data\n",
    "    - Make predictions on the test data\n",
    "    - Evaluate the model using accuracy and F1-score\n",
    "\n",
    "    Args:\n",
    "        df (pd.DataFrame): DataFrame train data\n",
    "        df_test (pd.DataFrame): DataFrame test data\n",
    "        model_name (str): model name\n",
    "\n",
    "    Returns:\n",
    "        pd.DataFrame: df metrics\n",
    "    \"\"\"\n",
    "    \n",
    "    train_x, val_x, train_y, val_y, X_test, y_test = split_train_test_data(df_train, df_test)\n",
    "           \n",
    "    # Train the model\n",
    "    model, study, val_f1_score, val_accuracy = models_func[model_name](train_x, val_x, train_y, val_y, n_opt_trials=n_opt_trials)\n",
    "    \n",
    "    # Evaluate the model\n",
    "    y_pred = model.predict(X_test)\n",
    "    test_accuracy = round(accuracy_score(y_test, y_pred),4)\n",
    "    test_f1_score = round(f1_score(y_test, y_pred),4)\n",
    "\n",
    "    # Store results in DataFrame\n",
    "    df_results = pd.DataFrame({'Model_Name': [model_name], \n",
    "                               'val_f1_score': [val_f1_score], \n",
    "                               'val_accuracy': [val_accuracy], \n",
    "                               'test_f1_score': [test_f1_score],\n",
    "                               'test_accuracy': [test_accuracy]})\n",
    "\n",
    "    return df_results, study"
   ]
  },
  {
   "cell_type": "markdown",
   "metadata": {},
   "source": [
    "## Import Data"
   ]
  },
  {
   "cell_type": "code",
   "execution_count": 67,
   "metadata": {},
   "outputs": [],
   "source": [
    "# Store the dataframe to use them in the next step\n",
    "df_train = pd.read_csv(\"../../data/processed/task2_best_model_step3_train_data.csv\")\n",
    "df_test = pd.read_csv(\"../../data/processed/task2_best_model_step3_test_data.csv\")"
   ]
  },
  {
   "cell_type": "code",
   "execution_count": 68,
   "metadata": {},
   "outputs": [
    {
     "data": {
      "application/vnd.microsoft.datawrangler.viewer.v0+json": {
       "columns": [
        {
         "name": "index",
         "rawType": "int64",
         "type": "integer"
        },
        {
         "name": "age_of_customer",
         "rawType": "float64",
         "type": "float"
        },
        {
         "name": "sex",
         "rawType": "object",
         "type": "string"
        },
        {
         "name": "ctry",
         "rawType": "object",
         "type": "string"
        },
        {
         "name": "town",
         "rawType": "object",
         "type": "string"
        },
        {
         "name": "swimming_hours_per_week",
         "rawType": "float64",
         "type": "float"
        },
        {
         "name": "biking_hours_per_week",
         "rawType": "float64",
         "type": "float"
        },
        {
         "name": "running_hours_per_week",
         "rawType": "float64",
         "type": "float"
        },
        {
         "name": "total_training_hours_per_week",
         "rawType": "float64",
         "type": "float"
        },
        {
         "name": "vo2_max",
         "rawType": "float64",
         "type": "float"
        },
        {
         "name": "10k_running_time_prediction",
         "rawType": "float64",
         "type": "float"
        },
        {
         "name": "calories_burned_per_week",
         "rawType": "float64",
         "type": "float"
        },
        {
         "name": "support_cases_of_customer",
         "rawType": "int64",
         "type": "integer"
        },
        {
         "name": "customer_years",
         "rawType": "int64",
         "type": "integer"
        },
        {
         "name": "most_current_software_update",
         "rawType": "int64",
         "type": "integer"
        },
        {
         "name": "goal_of_training",
         "rawType": "object",
         "type": "string"
        },
        {
         "name": "preferred_training_daytime",
         "rawType": "object",
         "type": "string"
        },
        {
         "name": "subscription_type",
         "rawType": "object",
         "type": "string"
        },
        {
         "name": "color_of_watch",
         "rawType": "object",
         "type": "string"
        },
        {
         "name": "synchronisation",
         "rawType": "object",
         "type": "string"
        },
        {
         "name": "user_of_latest_model",
         "rawType": "int64",
         "type": "integer"
        }
       ],
       "conversionMethod": "pd.DataFrame",
       "ref": "4e565cba-108d-481a-91b6-f28c797231e4",
       "rows": [
        [
         "0",
         "60.0",
         "Other",
         "Germany",
         "Hamburg",
         "1.8",
         "4.44",
         "0.34",
         "6.58",
         "23.02",
         "59.52",
         "3062.83",
         "3",
         "4",
         "391",
         "Recreation",
         "Evening",
         "Premium",
         "Black",
         "No",
         "0"
        ],
        [
         "1",
         "53.0",
         "Male",
         "Germayn",
         "Berlin",
         "1.77",
         "5.42",
         "5.6",
         "12.79",
         "52.46",
         "50.26",
         "6651.29",
         "2",
         "4",
         "251",
         "Recreation",
         "Evening",
         "Free",
         "White",
         "Yes",
         "0"
        ],
        [
         "2",
         "30.0",
         "Other",
         "UK",
         "London",
         "4.05",
         "6.98",
         "4.03",
         "15.07",
         "73.21",
         "35.87",
         "7506.12",
         "0",
         "6",
         "0",
         "Competition",
         "Morning",
         "Free",
         "Black",
         "Yes",
         "1"
        ],
        [
         "3",
         "24.0",
         "Other",
         "Germany",
         "Hamburg",
         "3.22",
         "10.54",
         "4.23",
         "17.99",
         "74.64",
         "36.51",
         "9134.26",
         "3",
         "6",
         "427",
         "Competition",
         "Morning",
         "Premium",
         "White",
         "No",
         "1"
        ],
        [
         "4",
         "53.0",
         "Male",
         "USA",
         "Los Angeles",
         "3.15",
         "3.03",
         "5.4",
         "11.58",
         "51.22",
         "48.41",
         "5709.64",
         "3",
         "8",
         "7",
         "Fitness",
         "Afternoon",
         "Free",
         "Black",
         "Yes",
         "0"
        ]
       ],
       "shape": {
        "columns": 20,
        "rows": 5
       }
      },
      "text/html": [
       "<div>\n",
       "<style scoped>\n",
       "    .dataframe tbody tr th:only-of-type {\n",
       "        vertical-align: middle;\n",
       "    }\n",
       "\n",
       "    .dataframe tbody tr th {\n",
       "        vertical-align: top;\n",
       "    }\n",
       "\n",
       "    .dataframe thead th {\n",
       "        text-align: right;\n",
       "    }\n",
       "</style>\n",
       "<table border=\"1\" class=\"dataframe\">\n",
       "  <thead>\n",
       "    <tr style=\"text-align: right;\">\n",
       "      <th></th>\n",
       "      <th>age_of_customer</th>\n",
       "      <th>sex</th>\n",
       "      <th>ctry</th>\n",
       "      <th>town</th>\n",
       "      <th>swimming_hours_per_week</th>\n",
       "      <th>biking_hours_per_week</th>\n",
       "      <th>running_hours_per_week</th>\n",
       "      <th>total_training_hours_per_week</th>\n",
       "      <th>vo2_max</th>\n",
       "      <th>10k_running_time_prediction</th>\n",
       "      <th>calories_burned_per_week</th>\n",
       "      <th>support_cases_of_customer</th>\n",
       "      <th>customer_years</th>\n",
       "      <th>most_current_software_update</th>\n",
       "      <th>goal_of_training</th>\n",
       "      <th>preferred_training_daytime</th>\n",
       "      <th>subscription_type</th>\n",
       "      <th>color_of_watch</th>\n",
       "      <th>synchronisation</th>\n",
       "      <th>user_of_latest_model</th>\n",
       "    </tr>\n",
       "  </thead>\n",
       "  <tbody>\n",
       "    <tr>\n",
       "      <th>0</th>\n",
       "      <td>60.0</td>\n",
       "      <td>Other</td>\n",
       "      <td>Germany</td>\n",
       "      <td>Hamburg</td>\n",
       "      <td>1.80</td>\n",
       "      <td>4.44</td>\n",
       "      <td>0.34</td>\n",
       "      <td>6.58</td>\n",
       "      <td>23.02</td>\n",
       "      <td>59.52</td>\n",
       "      <td>3062.83</td>\n",
       "      <td>3</td>\n",
       "      <td>4</td>\n",
       "      <td>391</td>\n",
       "      <td>Recreation</td>\n",
       "      <td>Evening</td>\n",
       "      <td>Premium</td>\n",
       "      <td>Black</td>\n",
       "      <td>No</td>\n",
       "      <td>0</td>\n",
       "    </tr>\n",
       "    <tr>\n",
       "      <th>1</th>\n",
       "      <td>53.0</td>\n",
       "      <td>Male</td>\n",
       "      <td>Germayn</td>\n",
       "      <td>Berlin</td>\n",
       "      <td>1.77</td>\n",
       "      <td>5.42</td>\n",
       "      <td>5.60</td>\n",
       "      <td>12.79</td>\n",
       "      <td>52.46</td>\n",
       "      <td>50.26</td>\n",
       "      <td>6651.29</td>\n",
       "      <td>2</td>\n",
       "      <td>4</td>\n",
       "      <td>251</td>\n",
       "      <td>Recreation</td>\n",
       "      <td>Evening</td>\n",
       "      <td>Free</td>\n",
       "      <td>White</td>\n",
       "      <td>Yes</td>\n",
       "      <td>0</td>\n",
       "    </tr>\n",
       "    <tr>\n",
       "      <th>2</th>\n",
       "      <td>30.0</td>\n",
       "      <td>Other</td>\n",
       "      <td>UK</td>\n",
       "      <td>London</td>\n",
       "      <td>4.05</td>\n",
       "      <td>6.98</td>\n",
       "      <td>4.03</td>\n",
       "      <td>15.07</td>\n",
       "      <td>73.21</td>\n",
       "      <td>35.87</td>\n",
       "      <td>7506.12</td>\n",
       "      <td>0</td>\n",
       "      <td>6</td>\n",
       "      <td>0</td>\n",
       "      <td>Competition</td>\n",
       "      <td>Morning</td>\n",
       "      <td>Free</td>\n",
       "      <td>Black</td>\n",
       "      <td>Yes</td>\n",
       "      <td>1</td>\n",
       "    </tr>\n",
       "    <tr>\n",
       "      <th>3</th>\n",
       "      <td>24.0</td>\n",
       "      <td>Other</td>\n",
       "      <td>Germany</td>\n",
       "      <td>Hamburg</td>\n",
       "      <td>3.22</td>\n",
       "      <td>10.54</td>\n",
       "      <td>4.23</td>\n",
       "      <td>17.99</td>\n",
       "      <td>74.64</td>\n",
       "      <td>36.51</td>\n",
       "      <td>9134.26</td>\n",
       "      <td>3</td>\n",
       "      <td>6</td>\n",
       "      <td>427</td>\n",
       "      <td>Competition</td>\n",
       "      <td>Morning</td>\n",
       "      <td>Premium</td>\n",
       "      <td>White</td>\n",
       "      <td>No</td>\n",
       "      <td>1</td>\n",
       "    </tr>\n",
       "    <tr>\n",
       "      <th>4</th>\n",
       "      <td>53.0</td>\n",
       "      <td>Male</td>\n",
       "      <td>USA</td>\n",
       "      <td>Los Angeles</td>\n",
       "      <td>3.15</td>\n",
       "      <td>3.03</td>\n",
       "      <td>5.40</td>\n",
       "      <td>11.58</td>\n",
       "      <td>51.22</td>\n",
       "      <td>48.41</td>\n",
       "      <td>5709.64</td>\n",
       "      <td>3</td>\n",
       "      <td>8</td>\n",
       "      <td>7</td>\n",
       "      <td>Fitness</td>\n",
       "      <td>Afternoon</td>\n",
       "      <td>Free</td>\n",
       "      <td>Black</td>\n",
       "      <td>Yes</td>\n",
       "      <td>0</td>\n",
       "    </tr>\n",
       "  </tbody>\n",
       "</table>\n",
       "</div>"
      ],
      "text/plain": [
       "   age_of_customer    sex     ctry         town  swimming_hours_per_week  \\\n",
       "0             60.0  Other  Germany      Hamburg                     1.80   \n",
       "1             53.0   Male  Germayn       Berlin                     1.77   \n",
       "2             30.0  Other       UK       London                     4.05   \n",
       "3             24.0  Other  Germany      Hamburg                     3.22   \n",
       "4             53.0   Male      USA  Los Angeles                     3.15   \n",
       "\n",
       "   biking_hours_per_week  running_hours_per_week  \\\n",
       "0                   4.44                    0.34   \n",
       "1                   5.42                    5.60   \n",
       "2                   6.98                    4.03   \n",
       "3                  10.54                    4.23   \n",
       "4                   3.03                    5.40   \n",
       "\n",
       "   total_training_hours_per_week  vo2_max  10k_running_time_prediction  \\\n",
       "0                           6.58    23.02                        59.52   \n",
       "1                          12.79    52.46                        50.26   \n",
       "2                          15.07    73.21                        35.87   \n",
       "3                          17.99    74.64                        36.51   \n",
       "4                          11.58    51.22                        48.41   \n",
       "\n",
       "   calories_burned_per_week  support_cases_of_customer  customer_years  \\\n",
       "0                   3062.83                          3               4   \n",
       "1                   6651.29                          2               4   \n",
       "2                   7506.12                          0               6   \n",
       "3                   9134.26                          3               6   \n",
       "4                   5709.64                          3               8   \n",
       "\n",
       "   most_current_software_update goal_of_training preferred_training_daytime  \\\n",
       "0                           391       Recreation                    Evening   \n",
       "1                           251       Recreation                    Evening   \n",
       "2                             0      Competition                    Morning   \n",
       "3                           427      Competition                    Morning   \n",
       "4                             7          Fitness                  Afternoon   \n",
       "\n",
       "  subscription_type color_of_watch synchronisation  user_of_latest_model  \n",
       "0           Premium          Black              No                     0  \n",
       "1              Free          White             Yes                     0  \n",
       "2              Free          Black             Yes                     1  \n",
       "3           Premium          White              No                     1  \n",
       "4              Free          Black             Yes                     0  "
      ]
     },
     "execution_count": 68,
     "metadata": {},
     "output_type": "execute_result"
    }
   ],
   "source": [
    "df_test.head()"
   ]
  },
  {
   "cell_type": "markdown",
   "metadata": {},
   "source": [
    "## Model Evaluation"
   ]
  },
  {
   "cell_type": "code",
   "execution_count": 69,
   "metadata": {},
   "outputs": [],
   "source": [
    "models_func = {'RandomForest': train_random_forest, \n",
    "               'BaggingClassifier':train_bagging_classifier,\n",
    "               'GradientBoosting': train_gradient_boosting, \n",
    "               'DecisionTree': train_deicision_tree,\n",
    "               'AdaBoost': train_adaboost, \n",
    "               'SVC': train_svc, \n",
    "               'LGBM': train_lgbm}"
   ]
  },
  {
   "cell_type": "code",
   "execution_count": 70,
   "metadata": {},
   "outputs": [],
   "source": [
    "df_results = pd.DataFrame()"
   ]
  },
  {
   "cell_type": "markdown",
   "metadata": {},
   "source": [
    "### Random Forest"
   ]
  },
  {
   "cell_type": "code",
   "execution_count": 71,
   "metadata": {},
   "outputs": [
    {
     "name": "stdout",
     "output_type": "stream",
     "text": [
      "F1 Score No Optimization: 0.7225806451612903\n",
      "Optimized Model F1 Score:  0.7105\n",
      "No Optimization has better f1 score than optimized model\n"
     ]
    }
   ],
   "source": [
    "model_name = 'RandomForest'\n",
    "n_opt_trials = 20\n",
    "df_results_new, study = train_test_model(df_train=df_train, \n",
    "                                     df_test=df_test, \n",
    "                                     model_name=model_name, \n",
    "                                     models_func=models_func,\n",
    "                                     n_opt_trials=n_opt_trials)\n",
    "\n",
    "df_results = pd.concat([df_results, df_results_new], axis=0)"
   ]
  },
  {
   "cell_type": "code",
   "execution_count": 72,
   "metadata": {},
   "outputs": [
    {
     "data": {
      "application/vnd.microsoft.datawrangler.viewer.v0+json": {
       "columns": [
        {
         "name": "index",
         "rawType": "int64",
         "type": "integer"
        },
        {
         "name": "Model_Name",
         "rawType": "object",
         "type": "string"
        },
        {
         "name": "val_f1_score",
         "rawType": "float64",
         "type": "float"
        },
        {
         "name": "val_accuracy",
         "rawType": "float64",
         "type": "float"
        },
        {
         "name": "test_f1_score",
         "rawType": "float64",
         "type": "float"
        },
        {
         "name": "test_accuracy",
         "rawType": "float64",
         "type": "float"
        }
       ],
       "conversionMethod": "pd.DataFrame",
       "ref": "c3b5b9da-cf58-4ad4-b8dc-2cd795e86c18",
       "rows": [
        [
         "0",
         "RandomForest",
         "0.7225806451612903",
         "0.7755",
         "0.7097",
         "0.766"
        ]
       ],
       "shape": {
        "columns": 5,
        "rows": 1
       }
      },
      "text/html": [
       "<div>\n",
       "<style scoped>\n",
       "    .dataframe tbody tr th:only-of-type {\n",
       "        vertical-align: middle;\n",
       "    }\n",
       "\n",
       "    .dataframe tbody tr th {\n",
       "        vertical-align: top;\n",
       "    }\n",
       "\n",
       "    .dataframe thead th {\n",
       "        text-align: right;\n",
       "    }\n",
       "</style>\n",
       "<table border=\"1\" class=\"dataframe\">\n",
       "  <thead>\n",
       "    <tr style=\"text-align: right;\">\n",
       "      <th></th>\n",
       "      <th>Model_Name</th>\n",
       "      <th>val_f1_score</th>\n",
       "      <th>val_accuracy</th>\n",
       "      <th>test_f1_score</th>\n",
       "      <th>test_accuracy</th>\n",
       "    </tr>\n",
       "  </thead>\n",
       "  <tbody>\n",
       "    <tr>\n",
       "      <th>0</th>\n",
       "      <td>RandomForest</td>\n",
       "      <td>0.722581</td>\n",
       "      <td>0.7755</td>\n",
       "      <td>0.7097</td>\n",
       "      <td>0.766</td>\n",
       "    </tr>\n",
       "  </tbody>\n",
       "</table>\n",
       "</div>"
      ],
      "text/plain": [
       "     Model_Name  val_f1_score  val_accuracy  test_f1_score  test_accuracy\n",
       "0  RandomForest      0.722581        0.7755         0.7097          0.766"
      ]
     },
     "execution_count": 72,
     "metadata": {},
     "output_type": "execute_result"
    }
   ],
   "source": [
    "df_results"
   ]
  },
  {
   "cell_type": "markdown",
   "metadata": {},
   "source": [
    "### BaggingClassifier"
   ]
  },
  {
   "cell_type": "code",
   "execution_count": 73,
   "metadata": {},
   "outputs": [
    {
     "name": "stdout",
     "output_type": "stream",
     "text": [
      "F1 Score No Optimization: 0.6751592356687898\n",
      "Optimized Model F1 Score:  0.7394\n"
     ]
    }
   ],
   "source": [
    "model_name = 'BaggingClassifier'\n",
    "n_opt_trials = 20\n",
    "df_results_new, study = train_test_model(df_train=df_train, \n",
    "                                     df_test=df_test, \n",
    "                                     model_name=model_name, \n",
    "                                     models_func=models_func,\n",
    "                                     n_opt_trials=n_opt_trials)\n",
    "df_results = pd.concat([df_results, df_results_new], axis=0)"
   ]
  },
  {
   "cell_type": "markdown",
   "metadata": {},
   "source": [
    "### Gradient Boosting Classifier"
   ]
  },
  {
   "cell_type": "code",
   "execution_count": 74,
   "metadata": {},
   "outputs": [
    {
     "name": "stdout",
     "output_type": "stream",
     "text": [
      "F1 Score No Optimization: 0.6951219512195121\n",
      "Optimized Model F1 Score:  0.6957\n"
     ]
    }
   ],
   "source": [
    "model_name = 'GradientBoosting' \n",
    "n_opt_trials = 20\n",
    "df_results_new, study = train_test_model(df_train=df_train, \n",
    "                                     df_test=df_test, \n",
    "                                     model_name=model_name, \n",
    "                                     models_func=models_func,\n",
    "                                     n_opt_trials=n_opt_trials)\n",
    "df_results = pd.concat([df_results, df_results_new], axis=0)"
   ]
  },
  {
   "cell_type": "code",
   "execution_count": 75,
   "metadata": {},
   "outputs": [
    {
     "data": {
      "application/vnd.microsoft.datawrangler.viewer.v0+json": {
       "columns": [
        {
         "name": "index",
         "rawType": "int64",
         "type": "integer"
        },
        {
         "name": "Model_Name",
         "rawType": "object",
         "type": "string"
        },
        {
         "name": "val_f1_score",
         "rawType": "float64",
         "type": "float"
        },
        {
         "name": "val_accuracy",
         "rawType": "float64",
         "type": "float"
        },
        {
         "name": "test_f1_score",
         "rawType": "float64",
         "type": "float"
        },
        {
         "name": "test_accuracy",
         "rawType": "float64",
         "type": "float"
        }
       ],
       "conversionMethod": "pd.DataFrame",
       "ref": "52d687d0-9cb3-4d63-99b6-13846e0497c5",
       "rows": [
        [
         "0",
         "RandomForest",
         "0.7225806451612903",
         "0.7755",
         "0.7097",
         "0.766"
        ],
        [
         "0",
         "BaggingClassifier",
         "0.7394",
         "0.7806",
         "0.6954",
         "0.746"
        ],
        [
         "0",
         "GradientBoosting",
         "0.6957",
         "0.75",
         "0.7036",
         "0.754"
        ]
       ],
       "shape": {
        "columns": 5,
        "rows": 3
       }
      },
      "text/html": [
       "<div>\n",
       "<style scoped>\n",
       "    .dataframe tbody tr th:only-of-type {\n",
       "        vertical-align: middle;\n",
       "    }\n",
       "\n",
       "    .dataframe tbody tr th {\n",
       "        vertical-align: top;\n",
       "    }\n",
       "\n",
       "    .dataframe thead th {\n",
       "        text-align: right;\n",
       "    }\n",
       "</style>\n",
       "<table border=\"1\" class=\"dataframe\">\n",
       "  <thead>\n",
       "    <tr style=\"text-align: right;\">\n",
       "      <th></th>\n",
       "      <th>Model_Name</th>\n",
       "      <th>val_f1_score</th>\n",
       "      <th>val_accuracy</th>\n",
       "      <th>test_f1_score</th>\n",
       "      <th>test_accuracy</th>\n",
       "    </tr>\n",
       "  </thead>\n",
       "  <tbody>\n",
       "    <tr>\n",
       "      <th>0</th>\n",
       "      <td>RandomForest</td>\n",
       "      <td>0.722581</td>\n",
       "      <td>0.7755</td>\n",
       "      <td>0.7097</td>\n",
       "      <td>0.766</td>\n",
       "    </tr>\n",
       "    <tr>\n",
       "      <th>0</th>\n",
       "      <td>BaggingClassifier</td>\n",
       "      <td>0.739400</td>\n",
       "      <td>0.7806</td>\n",
       "      <td>0.6954</td>\n",
       "      <td>0.746</td>\n",
       "    </tr>\n",
       "    <tr>\n",
       "      <th>0</th>\n",
       "      <td>GradientBoosting</td>\n",
       "      <td>0.695700</td>\n",
       "      <td>0.7500</td>\n",
       "      <td>0.7036</td>\n",
       "      <td>0.754</td>\n",
       "    </tr>\n",
       "  </tbody>\n",
       "</table>\n",
       "</div>"
      ],
      "text/plain": [
       "          Model_Name  val_f1_score  val_accuracy  test_f1_score  test_accuracy\n",
       "0       RandomForest      0.722581        0.7755         0.7097          0.766\n",
       "0  BaggingClassifier      0.739400        0.7806         0.6954          0.746\n",
       "0   GradientBoosting      0.695700        0.7500         0.7036          0.754"
      ]
     },
     "execution_count": 75,
     "metadata": {},
     "output_type": "execute_result"
    }
   ],
   "source": [
    "df_results"
   ]
  },
  {
   "cell_type": "markdown",
   "metadata": {},
   "source": [
    "### Decision Tree"
   ]
  },
  {
   "cell_type": "code",
   "execution_count": 76,
   "metadata": {},
   "outputs": [
    {
     "name": "stdout",
     "output_type": "stream",
     "text": [
      "F1 Score No Optimization: 0.6190476190476191\n",
      "Optimized Model F1 Score:  0.686\n"
     ]
    }
   ],
   "source": [
    "model_name = 'DecisionTree'\n",
    "n_opt_trials = 20\n",
    "df_results_new, study = train_test_model(df_train=df_train, \n",
    "                                     df_test=df_test, \n",
    "                                     model_name=model_name, \n",
    "                                     models_func=models_func,\n",
    "                                     n_opt_trials=n_opt_trials)\n",
    "df_results = pd.concat([df_results, df_results_new], axis=0)"
   ]
  },
  {
   "cell_type": "code",
   "execution_count": 77,
   "metadata": {},
   "outputs": [
    {
     "data": {
      "application/vnd.microsoft.datawrangler.viewer.v0+json": {
       "columns": [
        {
         "name": "index",
         "rawType": "int64",
         "type": "integer"
        },
        {
         "name": "Model_Name",
         "rawType": "object",
         "type": "string"
        },
        {
         "name": "val_f1_score",
         "rawType": "float64",
         "type": "float"
        },
        {
         "name": "val_accuracy",
         "rawType": "float64",
         "type": "float"
        },
        {
         "name": "test_f1_score",
         "rawType": "float64",
         "type": "float"
        },
        {
         "name": "test_accuracy",
         "rawType": "float64",
         "type": "float"
        }
       ],
       "conversionMethod": "pd.DataFrame",
       "ref": "7a0d112f-0984-4640-9711-db202c33adc9",
       "rows": [
        [
         "0",
         "RandomForest",
         "0.7225806451612903",
         "0.7755",
         "0.7097",
         "0.766"
        ],
        [
         "0",
         "BaggingClassifier",
         "0.7394",
         "0.7806",
         "0.6954",
         "0.746"
        ],
        [
         "0",
         "GradientBoosting",
         "0.6957",
         "0.75",
         "0.7036",
         "0.754"
        ],
        [
         "0",
         "DecisionTree",
         "0.686",
         "0.7245",
         "0.6465",
         "0.696"
        ]
       ],
       "shape": {
        "columns": 5,
        "rows": 4
       }
      },
      "text/html": [
       "<div>\n",
       "<style scoped>\n",
       "    .dataframe tbody tr th:only-of-type {\n",
       "        vertical-align: middle;\n",
       "    }\n",
       "\n",
       "    .dataframe tbody tr th {\n",
       "        vertical-align: top;\n",
       "    }\n",
       "\n",
       "    .dataframe thead th {\n",
       "        text-align: right;\n",
       "    }\n",
       "</style>\n",
       "<table border=\"1\" class=\"dataframe\">\n",
       "  <thead>\n",
       "    <tr style=\"text-align: right;\">\n",
       "      <th></th>\n",
       "      <th>Model_Name</th>\n",
       "      <th>val_f1_score</th>\n",
       "      <th>val_accuracy</th>\n",
       "      <th>test_f1_score</th>\n",
       "      <th>test_accuracy</th>\n",
       "    </tr>\n",
       "  </thead>\n",
       "  <tbody>\n",
       "    <tr>\n",
       "      <th>0</th>\n",
       "      <td>RandomForest</td>\n",
       "      <td>0.722581</td>\n",
       "      <td>0.7755</td>\n",
       "      <td>0.7097</td>\n",
       "      <td>0.766</td>\n",
       "    </tr>\n",
       "    <tr>\n",
       "      <th>0</th>\n",
       "      <td>BaggingClassifier</td>\n",
       "      <td>0.739400</td>\n",
       "      <td>0.7806</td>\n",
       "      <td>0.6954</td>\n",
       "      <td>0.746</td>\n",
       "    </tr>\n",
       "    <tr>\n",
       "      <th>0</th>\n",
       "      <td>GradientBoosting</td>\n",
       "      <td>0.695700</td>\n",
       "      <td>0.7500</td>\n",
       "      <td>0.7036</td>\n",
       "      <td>0.754</td>\n",
       "    </tr>\n",
       "    <tr>\n",
       "      <th>0</th>\n",
       "      <td>DecisionTree</td>\n",
       "      <td>0.686000</td>\n",
       "      <td>0.7245</td>\n",
       "      <td>0.6465</td>\n",
       "      <td>0.696</td>\n",
       "    </tr>\n",
       "  </tbody>\n",
       "</table>\n",
       "</div>"
      ],
      "text/plain": [
       "          Model_Name  val_f1_score  val_accuracy  test_f1_score  test_accuracy\n",
       "0       RandomForest      0.722581        0.7755         0.7097          0.766\n",
       "0  BaggingClassifier      0.739400        0.7806         0.6954          0.746\n",
       "0   GradientBoosting      0.695700        0.7500         0.7036          0.754\n",
       "0       DecisionTree      0.686000        0.7245         0.6465          0.696"
      ]
     },
     "execution_count": 77,
     "metadata": {},
     "output_type": "execute_result"
    }
   ],
   "source": [
    "df_results"
   ]
  },
  {
   "cell_type": "markdown",
   "metadata": {},
   "source": [
    "### AdaBoost"
   ]
  },
  {
   "cell_type": "code",
   "execution_count": 78,
   "metadata": {},
   "outputs": [
    {
     "name": "stdout",
     "output_type": "stream",
     "text": [
      "F1 Score No Optimization: 0.6666666666666666\n",
      "Optimized Model F1 Score:  0.671\n"
     ]
    }
   ],
   "source": [
    "model_name = 'AdaBoost'\n",
    "n_opt_trials = 20\n",
    "df_results_new, study = train_test_model(df_train=df_train, \n",
    "                                     df_test=df_test, \n",
    "                                     model_name=model_name, \n",
    "                                     models_func=models_func,\n",
    "                                     n_opt_trials=n_opt_trials)\n",
    "df_results = pd.concat([df_results, df_results_new], axis=0)"
   ]
  },
  {
   "cell_type": "code",
   "execution_count": 79,
   "metadata": {},
   "outputs": [
    {
     "data": {
      "application/vnd.microsoft.datawrangler.viewer.v0+json": {
       "columns": [
        {
         "name": "index",
         "rawType": "int64",
         "type": "integer"
        },
        {
         "name": "Model_Name",
         "rawType": "object",
         "type": "string"
        },
        {
         "name": "val_f1_score",
         "rawType": "float64",
         "type": "float"
        },
        {
         "name": "val_accuracy",
         "rawType": "float64",
         "type": "float"
        },
        {
         "name": "test_f1_score",
         "rawType": "float64",
         "type": "float"
        },
        {
         "name": "test_accuracy",
         "rawType": "float64",
         "type": "float"
        }
       ],
       "conversionMethod": "pd.DataFrame",
       "ref": "4884b671-9259-4976-8c90-c8e218b02203",
       "rows": [
        [
         "0",
         "RandomForest",
         "0.7225806451612903",
         "0.7755",
         "0.7097",
         "0.766"
        ],
        [
         "0",
         "BaggingClassifier",
         "0.7394",
         "0.7806",
         "0.6954",
         "0.746"
        ],
        [
         "0",
         "GradientBoosting",
         "0.6957",
         "0.75",
         "0.7036",
         "0.754"
        ],
        [
         "0",
         "DecisionTree",
         "0.686",
         "0.7245",
         "0.6465",
         "0.696"
        ],
        [
         "0",
         "AdaBoost",
         "0.671",
         "0.7398",
         "0.6801",
         "0.746"
        ]
       ],
       "shape": {
        "columns": 5,
        "rows": 5
       }
      },
      "text/html": [
       "<div>\n",
       "<style scoped>\n",
       "    .dataframe tbody tr th:only-of-type {\n",
       "        vertical-align: middle;\n",
       "    }\n",
       "\n",
       "    .dataframe tbody tr th {\n",
       "        vertical-align: top;\n",
       "    }\n",
       "\n",
       "    .dataframe thead th {\n",
       "        text-align: right;\n",
       "    }\n",
       "</style>\n",
       "<table border=\"1\" class=\"dataframe\">\n",
       "  <thead>\n",
       "    <tr style=\"text-align: right;\">\n",
       "      <th></th>\n",
       "      <th>Model_Name</th>\n",
       "      <th>val_f1_score</th>\n",
       "      <th>val_accuracy</th>\n",
       "      <th>test_f1_score</th>\n",
       "      <th>test_accuracy</th>\n",
       "    </tr>\n",
       "  </thead>\n",
       "  <tbody>\n",
       "    <tr>\n",
       "      <th>0</th>\n",
       "      <td>RandomForest</td>\n",
       "      <td>0.722581</td>\n",
       "      <td>0.7755</td>\n",
       "      <td>0.7097</td>\n",
       "      <td>0.766</td>\n",
       "    </tr>\n",
       "    <tr>\n",
       "      <th>0</th>\n",
       "      <td>BaggingClassifier</td>\n",
       "      <td>0.739400</td>\n",
       "      <td>0.7806</td>\n",
       "      <td>0.6954</td>\n",
       "      <td>0.746</td>\n",
       "    </tr>\n",
       "    <tr>\n",
       "      <th>0</th>\n",
       "      <td>GradientBoosting</td>\n",
       "      <td>0.695700</td>\n",
       "      <td>0.7500</td>\n",
       "      <td>0.7036</td>\n",
       "      <td>0.754</td>\n",
       "    </tr>\n",
       "    <tr>\n",
       "      <th>0</th>\n",
       "      <td>DecisionTree</td>\n",
       "      <td>0.686000</td>\n",
       "      <td>0.7245</td>\n",
       "      <td>0.6465</td>\n",
       "      <td>0.696</td>\n",
       "    </tr>\n",
       "    <tr>\n",
       "      <th>0</th>\n",
       "      <td>AdaBoost</td>\n",
       "      <td>0.671000</td>\n",
       "      <td>0.7398</td>\n",
       "      <td>0.6801</td>\n",
       "      <td>0.746</td>\n",
       "    </tr>\n",
       "  </tbody>\n",
       "</table>\n",
       "</div>"
      ],
      "text/plain": [
       "          Model_Name  val_f1_score  val_accuracy  test_f1_score  test_accuracy\n",
       "0       RandomForest      0.722581        0.7755         0.7097          0.766\n",
       "0  BaggingClassifier      0.739400        0.7806         0.6954          0.746\n",
       "0   GradientBoosting      0.695700        0.7500         0.7036          0.754\n",
       "0       DecisionTree      0.686000        0.7245         0.6465          0.696\n",
       "0           AdaBoost      0.671000        0.7398         0.6801          0.746"
      ]
     },
     "execution_count": 79,
     "metadata": {},
     "output_type": "execute_result"
    }
   ],
   "source": [
    "df_results"
   ]
  },
  {
   "cell_type": "markdown",
   "metadata": {},
   "source": [
    "### Support Vector Machine Classifier"
   ]
  },
  {
   "cell_type": "code",
   "execution_count": 80,
   "metadata": {},
   "outputs": [
    {
     "name": "stdout",
     "output_type": "stream",
     "text": [
      "F1 Score No Optimization: 0.5\n",
      "Optimized Model F1 Score:  0.4962\n",
      "No Optimization has better f1 score than optimized model\n"
     ]
    }
   ],
   "source": [
    "model_name = 'SVC'\n",
    "n_opt_trials = 20\n",
    "df_results_new, study = train_test_model(df_train=df_train, \n",
    "                                     df_test=df_test, \n",
    "                                     model_name=model_name, \n",
    "                                     models_func=models_func,\n",
    "                                     n_opt_trials=n_opt_trials)\n",
    "df_results = pd.concat([df_results, df_results_new], axis=0)"
   ]
  },
  {
   "cell_type": "code",
   "execution_count": 81,
   "metadata": {},
   "outputs": [
    {
     "data": {
      "application/vnd.microsoft.datawrangler.viewer.v0+json": {
       "columns": [
        {
         "name": "index",
         "rawType": "int64",
         "type": "integer"
        },
        {
         "name": "Model_Name",
         "rawType": "object",
         "type": "string"
        },
        {
         "name": "val_f1_score",
         "rawType": "float64",
         "type": "float"
        },
        {
         "name": "val_accuracy",
         "rawType": "float64",
         "type": "float"
        },
        {
         "name": "test_f1_score",
         "rawType": "float64",
         "type": "float"
        },
        {
         "name": "test_accuracy",
         "rawType": "float64",
         "type": "float"
        }
       ],
       "conversionMethod": "pd.DataFrame",
       "ref": "7bd52111-72d8-4164-ac45-68e8d9306a4e",
       "rows": [
        [
         "0",
         "RandomForest",
         "0.7225806451612903",
         "0.7755",
         "0.7097",
         "0.766"
        ],
        [
         "0",
         "BaggingClassifier",
         "0.7394",
         "0.7806",
         "0.6954",
         "0.746"
        ],
        [
         "0",
         "GradientBoosting",
         "0.6957",
         "0.75",
         "0.7036",
         "0.754"
        ],
        [
         "0",
         "DecisionTree",
         "0.686",
         "0.7245",
         "0.6465",
         "0.696"
        ],
        [
         "0",
         "AdaBoost",
         "0.671",
         "0.7398",
         "0.6801",
         "0.746"
        ],
        [
         "0",
         "SVC",
         "0.5",
         "0.6582",
         "0.4641",
         "0.672"
        ]
       ],
       "shape": {
        "columns": 5,
        "rows": 6
       }
      },
      "text/html": [
       "<div>\n",
       "<style scoped>\n",
       "    .dataframe tbody tr th:only-of-type {\n",
       "        vertical-align: middle;\n",
       "    }\n",
       "\n",
       "    .dataframe tbody tr th {\n",
       "        vertical-align: top;\n",
       "    }\n",
       "\n",
       "    .dataframe thead th {\n",
       "        text-align: right;\n",
       "    }\n",
       "</style>\n",
       "<table border=\"1\" class=\"dataframe\">\n",
       "  <thead>\n",
       "    <tr style=\"text-align: right;\">\n",
       "      <th></th>\n",
       "      <th>Model_Name</th>\n",
       "      <th>val_f1_score</th>\n",
       "      <th>val_accuracy</th>\n",
       "      <th>test_f1_score</th>\n",
       "      <th>test_accuracy</th>\n",
       "    </tr>\n",
       "  </thead>\n",
       "  <tbody>\n",
       "    <tr>\n",
       "      <th>0</th>\n",
       "      <td>RandomForest</td>\n",
       "      <td>0.722581</td>\n",
       "      <td>0.7755</td>\n",
       "      <td>0.7097</td>\n",
       "      <td>0.766</td>\n",
       "    </tr>\n",
       "    <tr>\n",
       "      <th>0</th>\n",
       "      <td>BaggingClassifier</td>\n",
       "      <td>0.739400</td>\n",
       "      <td>0.7806</td>\n",
       "      <td>0.6954</td>\n",
       "      <td>0.746</td>\n",
       "    </tr>\n",
       "    <tr>\n",
       "      <th>0</th>\n",
       "      <td>GradientBoosting</td>\n",
       "      <td>0.695700</td>\n",
       "      <td>0.7500</td>\n",
       "      <td>0.7036</td>\n",
       "      <td>0.754</td>\n",
       "    </tr>\n",
       "    <tr>\n",
       "      <th>0</th>\n",
       "      <td>DecisionTree</td>\n",
       "      <td>0.686000</td>\n",
       "      <td>0.7245</td>\n",
       "      <td>0.6465</td>\n",
       "      <td>0.696</td>\n",
       "    </tr>\n",
       "    <tr>\n",
       "      <th>0</th>\n",
       "      <td>AdaBoost</td>\n",
       "      <td>0.671000</td>\n",
       "      <td>0.7398</td>\n",
       "      <td>0.6801</td>\n",
       "      <td>0.746</td>\n",
       "    </tr>\n",
       "    <tr>\n",
       "      <th>0</th>\n",
       "      <td>SVC</td>\n",
       "      <td>0.500000</td>\n",
       "      <td>0.6582</td>\n",
       "      <td>0.4641</td>\n",
       "      <td>0.672</td>\n",
       "    </tr>\n",
       "  </tbody>\n",
       "</table>\n",
       "</div>"
      ],
      "text/plain": [
       "          Model_Name  val_f1_score  val_accuracy  test_f1_score  test_accuracy\n",
       "0       RandomForest      0.722581        0.7755         0.7097          0.766\n",
       "0  BaggingClassifier      0.739400        0.7806         0.6954          0.746\n",
       "0   GradientBoosting      0.695700        0.7500         0.7036          0.754\n",
       "0       DecisionTree      0.686000        0.7245         0.6465          0.696\n",
       "0           AdaBoost      0.671000        0.7398         0.6801          0.746\n",
       "0                SVC      0.500000        0.6582         0.4641          0.672"
      ]
     },
     "execution_count": 81,
     "metadata": {},
     "output_type": "execute_result"
    }
   ],
   "source": [
    "df_results"
   ]
  },
  {
   "cell_type": "markdown",
   "metadata": {},
   "source": [
    "### LGBM Classifier"
   ]
  },
  {
   "cell_type": "code",
   "execution_count": 82,
   "metadata": {},
   "outputs": [
    {
     "name": "stdout",
     "output_type": "stream",
     "text": [
      "F1 Score No Optimization: 0.7261904761904762\n",
      "Best hyperparameters from optuna: {'learning_rate': 0.03353897994364096, 'num_leaves': 995, 'subsample': 0.9569019915789719, 'colsample_bytree': 0.30805381343243743, 'min_data_in_leaf': 31}\n",
      "Best f1_score from optuna: 0.7547169811320755\n",
      "Optimized Model F1 Score:  0.7308\n"
     ]
    }
   ],
   "source": [
    "model_name = 'LGBM'\n",
    "n_opt_trials = 20\n",
    "df_results_new, study = train_test_model(df_train=df_train, \n",
    "                                     df_test=df_test, \n",
    "                                     model_name=model_name, \n",
    "                                     models_func=models_func,\n",
    "                                     n_opt_trials=n_opt_trials)\n",
    "df_results = pd.concat([df_results, df_results_new], axis=0)\n"
   ]
  },
  {
   "cell_type": "code",
   "execution_count": 83,
   "metadata": {},
   "outputs": [
    {
     "data": {
      "application/vnd.microsoft.datawrangler.viewer.v0+json": {
       "columns": [
        {
         "name": "index",
         "rawType": "int64",
         "type": "integer"
        },
        {
         "name": "Model_Name",
         "rawType": "object",
         "type": "string"
        },
        {
         "name": "val_f1_score",
         "rawType": "float64",
         "type": "float"
        },
        {
         "name": "val_accuracy",
         "rawType": "float64",
         "type": "float"
        },
        {
         "name": "test_f1_score",
         "rawType": "float64",
         "type": "float"
        },
        {
         "name": "test_accuracy",
         "rawType": "float64",
         "type": "float"
        }
       ],
       "conversionMethod": "pd.DataFrame",
       "ref": "204371f6-0575-41dd-b311-d029e45cc9da",
       "rows": [
        [
         "0",
         "RandomForest",
         "0.7225806451612903",
         "0.7755",
         "0.7097",
         "0.766"
        ],
        [
         "0",
         "BaggingClassifier",
         "0.7394",
         "0.7806",
         "0.6954",
         "0.746"
        ],
        [
         "0",
         "GradientBoosting",
         "0.6957",
         "0.75",
         "0.7036",
         "0.754"
        ],
        [
         "0",
         "DecisionTree",
         "0.686",
         "0.7245",
         "0.6465",
         "0.696"
        ],
        [
         "0",
         "AdaBoost",
         "0.671",
         "0.7398",
         "0.6801",
         "0.746"
        ],
        [
         "0",
         "SVC",
         "0.5",
         "0.6582",
         "0.4641",
         "0.672"
        ],
        [
         "0",
         "LGBM",
         "0.7308",
         "0.7857",
         "0.695",
         "0.756"
        ]
       ],
       "shape": {
        "columns": 5,
        "rows": 7
       }
      },
      "text/html": [
       "<div>\n",
       "<style scoped>\n",
       "    .dataframe tbody tr th:only-of-type {\n",
       "        vertical-align: middle;\n",
       "    }\n",
       "\n",
       "    .dataframe tbody tr th {\n",
       "        vertical-align: top;\n",
       "    }\n",
       "\n",
       "    .dataframe thead th {\n",
       "        text-align: right;\n",
       "    }\n",
       "</style>\n",
       "<table border=\"1\" class=\"dataframe\">\n",
       "  <thead>\n",
       "    <tr style=\"text-align: right;\">\n",
       "      <th></th>\n",
       "      <th>Model_Name</th>\n",
       "      <th>val_f1_score</th>\n",
       "      <th>val_accuracy</th>\n",
       "      <th>test_f1_score</th>\n",
       "      <th>test_accuracy</th>\n",
       "    </tr>\n",
       "  </thead>\n",
       "  <tbody>\n",
       "    <tr>\n",
       "      <th>0</th>\n",
       "      <td>RandomForest</td>\n",
       "      <td>0.722581</td>\n",
       "      <td>0.7755</td>\n",
       "      <td>0.7097</td>\n",
       "      <td>0.766</td>\n",
       "    </tr>\n",
       "    <tr>\n",
       "      <th>0</th>\n",
       "      <td>BaggingClassifier</td>\n",
       "      <td>0.739400</td>\n",
       "      <td>0.7806</td>\n",
       "      <td>0.6954</td>\n",
       "      <td>0.746</td>\n",
       "    </tr>\n",
       "    <tr>\n",
       "      <th>0</th>\n",
       "      <td>GradientBoosting</td>\n",
       "      <td>0.695700</td>\n",
       "      <td>0.7500</td>\n",
       "      <td>0.7036</td>\n",
       "      <td>0.754</td>\n",
       "    </tr>\n",
       "    <tr>\n",
       "      <th>0</th>\n",
       "      <td>DecisionTree</td>\n",
       "      <td>0.686000</td>\n",
       "      <td>0.7245</td>\n",
       "      <td>0.6465</td>\n",
       "      <td>0.696</td>\n",
       "    </tr>\n",
       "    <tr>\n",
       "      <th>0</th>\n",
       "      <td>AdaBoost</td>\n",
       "      <td>0.671000</td>\n",
       "      <td>0.7398</td>\n",
       "      <td>0.6801</td>\n",
       "      <td>0.746</td>\n",
       "    </tr>\n",
       "    <tr>\n",
       "      <th>0</th>\n",
       "      <td>SVC</td>\n",
       "      <td>0.500000</td>\n",
       "      <td>0.6582</td>\n",
       "      <td>0.4641</td>\n",
       "      <td>0.672</td>\n",
       "    </tr>\n",
       "    <tr>\n",
       "      <th>0</th>\n",
       "      <td>LGBM</td>\n",
       "      <td>0.730800</td>\n",
       "      <td>0.7857</td>\n",
       "      <td>0.6950</td>\n",
       "      <td>0.756</td>\n",
       "    </tr>\n",
       "  </tbody>\n",
       "</table>\n",
       "</div>"
      ],
      "text/plain": [
       "          Model_Name  val_f1_score  val_accuracy  test_f1_score  test_accuracy\n",
       "0       RandomForest      0.722581        0.7755         0.7097          0.766\n",
       "0  BaggingClassifier      0.739400        0.7806         0.6954          0.746\n",
       "0   GradientBoosting      0.695700        0.7500         0.7036          0.754\n",
       "0       DecisionTree      0.686000        0.7245         0.6465          0.696\n",
       "0           AdaBoost      0.671000        0.7398         0.6801          0.746\n",
       "0                SVC      0.500000        0.6582         0.4641          0.672\n",
       "0               LGBM      0.730800        0.7857         0.6950          0.756"
      ]
     },
     "execution_count": 83,
     "metadata": {},
     "output_type": "execute_result"
    }
   ],
   "source": [
    "df_results"
   ]
  },
  {
   "cell_type": "markdown",
   "metadata": {},
   "source": [
    "### Featur Tokenizer Transformer\n",
    "\n",
    "Ref: https://arxiv.org/pdf/2106.11959\n",
    "\n",
    "In order to run the Deep Learning Feature Tokenizer Transformer. Create environment for deep learning:\n",
    "\n",
    "```bash\n",
    "python -m venv .venv\n",
    "source .venv/bin/activate\n",
    "pip install -r requirements_deep_learning.txt\n",
    "```\n",
    "\n",
    "Then run the file: \n",
    "\n",
    "```bash\n",
    "python FTT_Tabular_optuna.py\n",
    "```"
   ]
  },
  {
   "cell_type": "code",
   "execution_count": 84,
   "metadata": {},
   "outputs": [],
   "source": [
    "import pickle\n",
    "with open(os.path.join(\"../../data/processed/ftt_model_results_optuna.pkl\"), \"rb\") as f:\n",
    "    df_results_new = pickle.load(f)"
   ]
  },
  {
   "cell_type": "code",
   "execution_count": 85,
   "metadata": {},
   "outputs": [],
   "source": [
    "df_results = pd.concat([df_results, df_results_new], axis=0)"
   ]
  },
  {
   "cell_type": "code",
   "execution_count": 86,
   "metadata": {},
   "outputs": [
    {
     "data": {
      "application/vnd.microsoft.datawrangler.viewer.v0+json": {
       "columns": [
        {
         "name": "index",
         "rawType": "int64",
         "type": "integer"
        },
        {
         "name": "Model_Name",
         "rawType": "object",
         "type": "string"
        },
        {
         "name": "val_f1_score",
         "rawType": "float64",
         "type": "float"
        },
        {
         "name": "val_accuracy",
         "rawType": "float64",
         "type": "float"
        },
        {
         "name": "test_f1_score",
         "rawType": "float64",
         "type": "float"
        },
        {
         "name": "test_accuracy",
         "rawType": "float64",
         "type": "float"
        }
       ],
       "conversionMethod": "pd.DataFrame",
       "ref": "42c6f1d6-6469-46f8-b321-6b0be1e19e43",
       "rows": [
        [
         "0",
         "RandomForest",
         "0.7225806451612903",
         "0.7755",
         "0.7097",
         "0.766"
        ],
        [
         "0",
         "BaggingClassifier",
         "0.7394",
         "0.7806",
         "0.6954",
         "0.746"
        ],
        [
         "0",
         "GradientBoosting",
         "0.6957",
         "0.75",
         "0.7036",
         "0.754"
        ],
        [
         "0",
         "DecisionTree",
         "0.686",
         "0.7245",
         "0.6465",
         "0.696"
        ],
        [
         "0",
         "AdaBoost",
         "0.671",
         "0.7398",
         "0.6801",
         "0.746"
        ],
        [
         "0",
         "SVC",
         "0.5",
         "0.6582",
         "0.4641",
         "0.672"
        ],
        [
         "0",
         "LGBM",
         "0.7308",
         "0.7857",
         "0.695",
         "0.756"
        ],
        [
         "0",
         "FTTabular",
         "0.7831",
         "0.8163",
         "0.7585",
         "0.8"
        ]
       ],
       "shape": {
        "columns": 5,
        "rows": 8
       }
      },
      "text/html": [
       "<div>\n",
       "<style scoped>\n",
       "    .dataframe tbody tr th:only-of-type {\n",
       "        vertical-align: middle;\n",
       "    }\n",
       "\n",
       "    .dataframe tbody tr th {\n",
       "        vertical-align: top;\n",
       "    }\n",
       "\n",
       "    .dataframe thead th {\n",
       "        text-align: right;\n",
       "    }\n",
       "</style>\n",
       "<table border=\"1\" class=\"dataframe\">\n",
       "  <thead>\n",
       "    <tr style=\"text-align: right;\">\n",
       "      <th></th>\n",
       "      <th>Model_Name</th>\n",
       "      <th>val_f1_score</th>\n",
       "      <th>val_accuracy</th>\n",
       "      <th>test_f1_score</th>\n",
       "      <th>test_accuracy</th>\n",
       "    </tr>\n",
       "  </thead>\n",
       "  <tbody>\n",
       "    <tr>\n",
       "      <th>0</th>\n",
       "      <td>RandomForest</td>\n",
       "      <td>0.722581</td>\n",
       "      <td>0.7755</td>\n",
       "      <td>0.7097</td>\n",
       "      <td>0.766</td>\n",
       "    </tr>\n",
       "    <tr>\n",
       "      <th>0</th>\n",
       "      <td>BaggingClassifier</td>\n",
       "      <td>0.739400</td>\n",
       "      <td>0.7806</td>\n",
       "      <td>0.6954</td>\n",
       "      <td>0.746</td>\n",
       "    </tr>\n",
       "    <tr>\n",
       "      <th>0</th>\n",
       "      <td>GradientBoosting</td>\n",
       "      <td>0.695700</td>\n",
       "      <td>0.7500</td>\n",
       "      <td>0.7036</td>\n",
       "      <td>0.754</td>\n",
       "    </tr>\n",
       "    <tr>\n",
       "      <th>0</th>\n",
       "      <td>DecisionTree</td>\n",
       "      <td>0.686000</td>\n",
       "      <td>0.7245</td>\n",
       "      <td>0.6465</td>\n",
       "      <td>0.696</td>\n",
       "    </tr>\n",
       "    <tr>\n",
       "      <th>0</th>\n",
       "      <td>AdaBoost</td>\n",
       "      <td>0.671000</td>\n",
       "      <td>0.7398</td>\n",
       "      <td>0.6801</td>\n",
       "      <td>0.746</td>\n",
       "    </tr>\n",
       "    <tr>\n",
       "      <th>0</th>\n",
       "      <td>SVC</td>\n",
       "      <td>0.500000</td>\n",
       "      <td>0.6582</td>\n",
       "      <td>0.4641</td>\n",
       "      <td>0.672</td>\n",
       "    </tr>\n",
       "    <tr>\n",
       "      <th>0</th>\n",
       "      <td>LGBM</td>\n",
       "      <td>0.730800</td>\n",
       "      <td>0.7857</td>\n",
       "      <td>0.6950</td>\n",
       "      <td>0.756</td>\n",
       "    </tr>\n",
       "    <tr>\n",
       "      <th>0</th>\n",
       "      <td>FTTabular</td>\n",
       "      <td>0.783100</td>\n",
       "      <td>0.8163</td>\n",
       "      <td>0.7585</td>\n",
       "      <td>0.800</td>\n",
       "    </tr>\n",
       "  </tbody>\n",
       "</table>\n",
       "</div>"
      ],
      "text/plain": [
       "          Model_Name  val_f1_score  val_accuracy  test_f1_score  test_accuracy\n",
       "0       RandomForest      0.722581        0.7755         0.7097          0.766\n",
       "0  BaggingClassifier      0.739400        0.7806         0.6954          0.746\n",
       "0   GradientBoosting      0.695700        0.7500         0.7036          0.754\n",
       "0       DecisionTree      0.686000        0.7245         0.6465          0.696\n",
       "0           AdaBoost      0.671000        0.7398         0.6801          0.746\n",
       "0                SVC      0.500000        0.6582         0.4641          0.672\n",
       "0               LGBM      0.730800        0.7857         0.6950          0.756\n",
       "0          FTTabular      0.783100        0.8163         0.7585          0.800"
      ]
     },
     "execution_count": 86,
     "metadata": {},
     "output_type": "execute_result"
    }
   ],
   "source": [
    "df_results"
   ]
  },
  {
   "cell_type": "markdown",
   "metadata": {},
   "source": [
    "## Results"
   ]
  },
  {
   "cell_type": "code",
   "execution_count": 87,
   "metadata": {},
   "outputs": [
    {
     "data": {
      "image/png": "[encoded data removed]",
      "text/plain": [
       "<Figure size 1500x600 with 1 Axes>"
      ]
     },
     "metadata": {},
     "output_type": "display_data"
    }
   ],
   "source": [
    "plt.figure(figsize=(15, 6))\n",
    "\n",
    "bar_height = 0.4\n",
    "y = range(len(df_results))\n",
    "\n",
    "# Bars for Accuracy\n",
    "plt.barh(y, df_results['val_accuracy'], height=bar_height, color='cornflowerblue', label='Accuracy')\n",
    "for i, value in enumerate(df_results['val_accuracy']):\n",
    "    plt.text(value + 0.001, i, f'{value:.3f}', va='center', fontsize=10)  # Adds label to Accuracy bars\n",
    "\n",
    "# Bars for F1-Score (shifted downward)\n",
    "plt.barh([pos + bar_height for pos in y], df_results['val_f1_score'], height=bar_height, color='lightcoral', label='F1-Score')\n",
    "for i, value in enumerate(df_results['val_f1_score']):\n",
    "    plt.text(value + 0.001, i + bar_height, f'{value:.3f}', va='center', fontsize=10)  # Adds label to F1-Score bars\n",
    "\n",
    "# Customize axis labels and title\n",
    "plt.ylabel('Model Name')\n",
    "plt.xlabel('Score')\n",
    "plt.yticks([pos + bar_height / 2 for pos in y], df_results['Model_Name'])\n",
    "plt.title('Comparison of Accuracy and F1-Score for Validation Dataset (20 % of Training Data)')\n",
    "plt.legend()\n",
    "plt.gca().invert_yaxis()\n",
    "plt.xlim(0.5, 0.9) \n",
    "plt.tight_layout()\n",
    "plt.show()"
   ]
  },
  {
   "cell_type": "markdown",
   "metadata": {},
   "source": [
    "We used for validation dataset 20% of the data from the file **train**. The best performing model in the validation set is FTTabular with an Accuracy of **0.816%** and F1-Score **0.783**. Followed by the LightGBM model with an accuracy of **0.786** and F1-Score of **0.731**. The worst performing model was the Support Vector Classifier. "
   ]
  },
  {
   "cell_type": "code",
   "execution_count": 88,
   "metadata": {},
   "outputs": [
    {
     "data": {
      "image/png": "[encoded data removed]",
      "text/plain": [
       "<Figure size 1500x600 with 1 Axes>"
      ]
     },
     "metadata": {},
     "output_type": "display_data"
    }
   ],
   "source": [
    "plt.figure(figsize=(15, 6))\n",
    "\n",
    "bar_height = 0.4\n",
    "y = range(len(df_results))\n",
    "\n",
    "# Bars for Accuracy\n",
    "plt.barh(y, df_results['test_accuracy'], height=bar_height, color='cornflowerblue', label='Accuracy')\n",
    "for i, value in enumerate(df_results['test_accuracy']):\n",
    "    plt.text(value + 0.001, i, f'{value:.3f}', va='center', fontsize=10)  # Adds label to Accuracy bars\n",
    "\n",
    "# Bars for F1-Score (shifted downward)\n",
    "plt.barh([pos + bar_height for pos in y], df_results['test_f1_score'], height=bar_height, color='lightcoral', label='F1-Score')\n",
    "for i, value in enumerate(df_results['test_f1_score']):\n",
    "    plt.text(value + 0.001, i + bar_height, f'{value:.3f}', va='center', fontsize=10)  # Adds label to F1-Score bars\n",
    "\n",
    "# Customize axis labels and title\n",
    "plt.ylabel('Model Name')\n",
    "plt.xlabel('Score')\n",
    "plt.yticks([pos + bar_height / 2 for pos in y], df_results['Model_Name'])\n",
    "plt.title('Comparison of Accuracy and F1-Score on Test Data')\n",
    "plt.legend()\n",
    "plt.gca().invert_yaxis()\n",
    "plt.xlim(0.5, 0.9) \n",
    "plt.tight_layout()\n",
    "plt.show()"
   ]
  },
  {
   "cell_type": "markdown",
   "metadata": {},
   "source": [
    "For the test data set, the FTTabular again has the highest performance with an accuracy of **0.8** and an F1-Score of **0.758**."
   ]
  },
  {
   "cell_type": "markdown",
   "metadata": {},
   "source": []
  }
 ],
 "metadata": {
  "kernelspec": {
   "display_name": ".venv",
   "language": "python",
   "name": "python3"
  },
  "language_info": {
   "codemirror_mode": {
    "name": "ipython",
    "version": 3
   },
   "file_extension": ".py",
   "mimetype": "text/x-python",
   "name": "python",
   "nbconvert_exporter": "python",
   "pygments_lexer": "ipython3",
   "version": "3.12.7"
  }
 },
 "nbformat": 4,
 "nbformat_minor": 2
}
