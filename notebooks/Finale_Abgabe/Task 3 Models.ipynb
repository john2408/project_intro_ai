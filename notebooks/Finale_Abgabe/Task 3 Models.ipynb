{
 "cells": [
  {
   "cell_type": "markdown",
   "metadata": {},
   "source": [
    "# Task 3: Model optimization\n",
    "\n",
    "\n",
    "Gruppe Nummer: 1\n",
    "- Samuel Hempelt\n",
    "- Andreas Luakat\n",
    "- John Torres\n",
    "\n",
    "In this step we will use the data create after applying the preprocessed steps on Step 3, since this generated the best model from all other preprocessed steps: \n",
    "\n",
    "- Step 3: Outlier Cleaning\n",
    "    - Missing Values: Average for numeric, Mode for Category\n",
    "    - Deletion of entries with missing values in the target colunm\n",
    "    - Listwise deletion (all rows with multiple missing values, more than 2)\n",
    "    - Identify outlier with IQR\n",
    "    - Impute outliers with regression imputation\n",
    "    - Impute categorical values with random imputation\n",
    "\n",
    "Models: \n",
    "\n",
    "- **Logistic Regression**: Basline Model.\n",
    "- **RandomForest**\n",
    "- **GradientBoosting**\n",
    "- **BaggingClassifier**\n",
    "- **DecisionTree**\n",
    "- **AdaBoost**\n",
    "- **SVC**\n",
    "- **LGBM**\n",
    "- **Feature Tokenizer Transformer**"
   ]
  },
  {
   "cell_type": "code",
   "execution_count": 1,
   "metadata": {},
   "outputs": [
    {
     "name": "stderr",
     "output_type": "stream",
     "text": [
      "/Users/JOHTORR/Repos/project_intro_ai/.venv/lib/python3.12/site-packages/tqdm/auto.py:21: TqdmWarning: IProgress not found. Please update jupyter and ipywidgets. See https://ipywidgets.readthedocs.io/en/stable/user_install.html\n",
      "  from .autonotebook import tqdm as notebook_tqdm\n"
     ]
    }
   ],
   "source": [
    "import pandas as pd\n",
    "import os\n",
    "import seaborn as sns  \n",
    "import matplotlib.pyplot as plt\n",
    "import pandas as pd\n",
    "import numpy as np\n",
    "from sklearn.metrics import accuracy_score, f1_score\n",
    "from sklearn.ensemble import RandomForestClassifier\n",
    "from sklearn.model_selection import cross_val_score\n",
    "from sklearn.ensemble import GradientBoostingClassifier\n",
    "from sklearn.model_selection import train_test_split\n",
    "from sklearn.tree import DecisionTreeClassifier\n",
    "from sklearn.ensemble import BaggingClassifier, AdaBoostClassifier\n",
    "from sklearn.neighbors import KNeighborsClassifier\n",
    "from sklearn.svm import SVC\n",
    "from sklearn.linear_model import LogisticRegression\n",
    "from sklearn.tree import plot_tree\n",
    "import matplotlib.pyplot as plt\n",
    "import optuna\n",
    "from lightgbm import LGBMClassifier\n",
    "from lightgbm import plot_tree as lgb_plot_tree\n",
    "\n",
    "\n",
    "import warnings\n",
    "\n",
    "warnings.filterwarnings(\"ignore\")"
   ]
  },
  {
   "cell_type": "markdown",
   "metadata": {},
   "source": [
    "## Functions"
   ]
  },
  {
   "cell_type": "code",
   "execution_count": 2,
   "metadata": {},
   "outputs": [],
   "source": [
    "def train_kneighbors_classifier(train_x: pd.DataFrame, \n",
    "                                val_x: pd.DataFrame, \n",
    "                                train_y: pd.DataFrame, \n",
    "                                val_y: pd.DataFrame,\n",
    "                                random_seed: int = 123,\n",
    "                                n_opt_trials = 20,\n",
    "                                cv: int = 5) -> tuple:\n",
    "\n",
    "    # Train model without optimization\n",
    "    model_no_opt = KNeighborsClassifier()\n",
    "    model_no_opt.fit(train_x, train_y)\n",
    "    y_pred = model_no_opt.predict(val_x)\n",
    "    f1_no_opt = f1_score(val_y, y_pred)\n",
    "\n",
    "    print(f\"F1 Score No Optimization: {f1_no_opt}\")\n",
    "    \n",
    "    def objective(trial):\n",
    "        n_neighbors = trial.suggest_int(\"n_neighbors\", 1, 50)\n",
    "        weights = trial.suggest_categorical(\"weights\", [\"uniform\", \"distance\"])\n",
    "        p = trial.suggest_int(\"p\", 1, 2)\n",
    "        classifier_obj = KNeighborsClassifier(\n",
    "            n_neighbors=n_neighbors,\n",
    "            weights=weights,\n",
    "            p=p\n",
    "        )\n",
    "\n",
    "        score = cross_val_score(classifier_obj, train_x, train_y, n_jobs=-1, cv=cv, scoring=\"f1_weighted\")\n",
    "        return score.mean()\n",
    "    \n",
    "    optuna.logging.set_verbosity(optuna.logging.WARNING)\n",
    "    study = optuna.create_study(direction=\"maximize\")\n",
    "    study.optimize(objective, n_trials=n_opt_trials)\n",
    "\n",
    "    # train model with optimized hyperparameters\n",
    "    model = KNeighborsClassifier(n_neighbors=study.best_params[\"n_neighbors\"], \n",
    "                                 weights=study.best_params[\"weights\"], \n",
    "                                 p=study.best_params[\"p\"])\n",
    "\n",
    "    model.fit(train_x, train_y)\n",
    "\n",
    "    # prediction\n",
    "    y_pred = model.predict(val_x)\n",
    "    val_f1_score = round(f1_score(val_y, y_pred), 4)\n",
    "    val_accuracy = round(accuracy_score(val_y, y_pred), 4)\n",
    "    \n",
    "    print(\"Optimized Model F1 Score: \", val_f1_score)\n",
    "    \n",
    "    # check if no optimization has better f1 score\n",
    "    if f1_no_opt > val_f1_score:\n",
    "        print(\"No Optimization has better f1 score than optimized model\")\n",
    "        model = model_no_opt\n",
    "        val_f1_score = f1_no_opt\n",
    "    \n",
    "    return model, study, val_f1_score, val_accuracy\n",
    "\n",
    "\n",
    "def train_logistic_regression(train_x: pd.DataFrame, \n",
    "                              val_x: pd.DataFrame, \n",
    "                              train_y: pd.DataFrame, \n",
    "                              val_y: pd.DataFrame,\n",
    "                              random_seed: int = 123,\n",
    "                              n_opt_trials = 20,\n",
    "                              cv: int = 5) -> tuple:\n",
    "\n",
    "    # Train model without optimization\n",
    "    model_no_opt = LogisticRegression(random_state=random_seed, max_iter=1000)\n",
    "    model_no_opt.fit(train_x, train_y)\n",
    "    y_pred = model_no_opt.predict(val_x)\n",
    "    f1_no_opt = f1_score(val_y, y_pred)\n",
    "\n",
    "    print(f\"F1 Score No Optimization: {f1_no_opt}\")\n",
    "    \n",
    "    def objective(trial):\n",
    "        C = trial.suggest_float(\"C\", 0.01, 10.0, log=True)\n",
    "        solver = trial.suggest_categorical(\"solver\", [\"liblinear\", \"saga\"])\n",
    "        classifier_obj = LogisticRegression(\n",
    "            C=C,\n",
    "            solver=solver,\n",
    "            random_state=random_seed,\n",
    "            max_iter=1000\n",
    "        )\n",
    "\n",
    "        score = cross_val_score(classifier_obj, train_x, train_y, n_jobs=-1, cv=cv, scoring=\"f1_weighted\")\n",
    "        return score.mean()\n",
    "    \n",
    "    optuna.logging.set_verbosity(optuna.logging.WARNING)\n",
    "    study = optuna.create_study(direction=\"maximize\")\n",
    "    study.optimize(objective, n_trials=n_opt_trials)\n",
    "\n",
    "    # train model with optimized hyperparameters\n",
    "    model = LogisticRegression(C=study.best_params[\"C\"], \n",
    "                               solver=study.best_params[\"solver\"], \n",
    "                               random_state=random_seed,\n",
    "                               max_iter=1000)\n",
    "\n",
    "    model.fit(train_x, train_y)\n",
    "\n",
    "    # prediction\n",
    "    y_pred = model.predict(val_x)\n",
    "    val_f1_score = round(f1_score(val_y, y_pred), 4)\n",
    "    val_accuracy = round(accuracy_score(val_y, y_pred), 4)\n",
    "    \n",
    "    print(\"Optimized Model F1 Score: \", val_f1_score)\n",
    "    \n",
    "    # check if no optimization has better f1 score\n",
    "    if f1_no_opt > val_f1_score:\n",
    "        print(\"No Optimization has better f1 score than optimized model\")\n",
    "        model = model_no_opt\n",
    "        val_f1_score = f1_no_opt\n",
    "    \n",
    "    return model, study, val_f1_score, val_accuracy\n",
    "\n",
    "\n",
    "\n",
    "def train_bagging_classifier(train_x: pd.DataFrame, \n",
    "                             val_x: pd.DataFrame, \n",
    "                             train_y: pd.DataFrame, \n",
    "                             val_y: pd.DataFrame,\n",
    "                             random_seed: int = 123,\n",
    "                             n_opt_trials = 20,\n",
    "                             cv: int = 5) -> tuple:\n",
    "\n",
    "    # Train model without optimization\n",
    "    model_no_opt = BaggingClassifier(random_state=random_seed)\n",
    "    model_no_opt.fit(train_x, train_y)\n",
    "    y_pred = model_no_opt.predict(val_x)\n",
    "    f1_no_opt = f1_score(val_y, y_pred)\n",
    "\n",
    "    print(f\"F1 Score No Optimization: {f1_no_opt}\")\n",
    "    \n",
    "    def objective(trial):\n",
    "        n_estimators = trial.suggest_int(\"n_estimators\", 10, 100)\n",
    "        max_samples = trial.suggest_float(\"max_samples\", 0.1, 1.0)\n",
    "        classifier_obj = BaggingClassifier(\n",
    "            n_estimators=n_estimators,\n",
    "            max_samples=max_samples,\n",
    "            random_state=random_seed\n",
    "        )\n",
    "\n",
    "        score = cross_val_score(classifier_obj, train_x, train_y, n_jobs=-1, cv=cv, scoring=\"f1_weighted\")\n",
    "        return score.mean()\n",
    "    \n",
    "    optuna.logging.set_verbosity(optuna.logging.WARNING)\n",
    "    study = optuna.create_study(direction=\"maximize\")\n",
    "    study.optimize(objective, n_trials=n_opt_trials)\n",
    "\n",
    "    # train model with optimized hyperparameters\n",
    "    model = BaggingClassifier(n_estimators=study.best_params[\"n_estimators\"], \n",
    "                              max_samples=study.best_params[\"max_samples\"], \n",
    "                              random_state=random_seed)\n",
    "\n",
    "    model.fit(train_x, train_y)\n",
    "\n",
    "    # prediction\n",
    "    y_pred = model.predict(val_x)\n",
    "    val_f1_score = round(f1_score(val_y, y_pred),4)\n",
    "    val_accuracy = round(accuracy_score(val_y, y_pred),4)\n",
    "    \n",
    "    print(\"Optimized Model F1 Score: \", val_f1_score)\n",
    "    \n",
    "    # check if no optimization has better f1 score\n",
    "    if f1_no_opt > val_f1_score:\n",
    "        print(\"No Optimization has better f1 score than optimized model\")\n",
    "        model = model_no_opt\n",
    "        val_f1_score = f1_no_opt\n",
    "    \n",
    "    return model, study, val_f1_score, val_accuracy"
   ]
  },
  {
   "cell_type": "code",
   "execution_count": 3,
   "metadata": {},
   "outputs": [],
   "source": [
    "def train_random_forest(train_x: pd.DataFrame, \n",
    "                        val_x: pd.DataFrame, \n",
    "                        train_y: pd.DataFrame, \n",
    "                        val_y: pd.DataFrame,\n",
    "                        random_seed: int = 123,\n",
    "                        n_opt_trials = 20,\n",
    "                        cv: int = 5) -> tuple:\n",
    "\n",
    "    # Train model without optimization\n",
    "    model_no_opt = RandomForestClassifier(random_state=random_seed)\n",
    "    model_no_opt.fit(train_x, train_y)\n",
    "    y_pred = model_no_opt.predict(val_x)\n",
    "    f1_no_opt = f1_score(val_y, y_pred)\n",
    "\n",
    "    print(f\"F1 Score No Optimization: {f1_no_opt}\")\n",
    "    \n",
    "    def objective(trial):\n",
    "\n",
    "        rf_max_depth = trial.suggest_int(\"rf_max_depth\", 2, 32, log=True)\n",
    "        n_estimators = trial.suggest_int(\"n_estimators\", 10, 100)\n",
    "        classifier_obj = RandomForestClassifier(\n",
    "            max_depth=rf_max_depth, \n",
    "            n_estimators=n_estimators,\n",
    "            random_state=random_seed\n",
    "        )\n",
    "\n",
    "        score = cross_val_score(classifier_obj, train_x, train_y, n_jobs=-1, cv=cv, scoring=\"f1_weighted\")\n",
    "        return score.mean()\n",
    "    \n",
    "    optuna.logging.set_verbosity(optuna.logging.WARNING)\n",
    "    study = optuna.create_study(direction=\"maximize\")\n",
    "    study.optimize(objective, n_trials=n_opt_trials)\n",
    "\n",
    "    # train model with optimized hyperparameters\n",
    "    model = RandomForestClassifier(max_depth=study.best_params[\"rf_max_depth\"], \n",
    "                                    n_estimators=study.best_params[\"n_estimators\"], \n",
    "                                    random_state=random_seed)\n",
    "\n",
    "    model.fit(train_x, train_y)\n",
    "\n",
    "    # prediction\n",
    "    y_pred = model.predict(val_x)\n",
    "    val_f1_score = round(f1_score(val_y, y_pred),4)\n",
    "    val_accuracy = round(accuracy_score(val_y, y_pred),4)\n",
    "    \n",
    "    print(\"Optimized Model F1 Score: \", val_f1_score)\n",
    "    \n",
    "    # check if no optimization has better f1 score\n",
    "    if f1_no_opt > val_f1_score:\n",
    "        print(\"No Optimization has better f1 score than optimized model\")\n",
    "        model = model_no_opt\n",
    "        val_f1_score = f1_no_opt\n",
    "    \n",
    "    return model, study, val_f1_score, val_accuracy\n",
    "\n",
    "def train_gradient_boosting(train_x: pd.DataFrame, \n",
    "                        val_x: pd.DataFrame, \n",
    "                        train_y: pd.DataFrame, \n",
    "                        val_y: pd.DataFrame,\n",
    "                        random_seed: int = 123,\n",
    "                        n_opt_trials = 20,\n",
    "                        cv: int = 5) -> tuple:\n",
    "\n",
    "    # Train model without optimization\n",
    "    model_no_opt = GradientBoostingClassifier(random_state=random_seed)\n",
    "    model_no_opt.fit(train_x, train_y)\n",
    "    y_pred = model_no_opt.predict(val_x)\n",
    "    f1_no_opt = f1_score(val_y, y_pred)\n",
    "\n",
    "    print(f\"F1 Score No Optimization: {f1_no_opt}\")\n",
    "    \n",
    "    def objective(trial):\n",
    "        rf_max_depth = trial.suggest_int(\"max_depth\", 2, 32, log=True)\n",
    "        n_estimators = trial.suggest_int(\"n_estimators\", 10, 100)\n",
    "        learning_rate = trial.suggest_float(\"learning_rate\", 0.01, 1.0, log=True)\n",
    "        classifier_obj = GradientBoostingClassifier(\n",
    "            max_depth=rf_max_depth, \n",
    "            n_estimators=n_estimators, \n",
    "            learning_rate=learning_rate,\n",
    "            random_state=random_seed\n",
    "        )\n",
    "\n",
    "        score = cross_val_score(classifier_obj, train_x, train_y, n_jobs=-1, cv=cv, scoring=\"f1_weighted\")\n",
    "        return score.mean()\n",
    "    \n",
    "    optuna.logging.set_verbosity(optuna.logging.WARNING)\n",
    "    study = optuna.create_study(direction=\"maximize\")\n",
    "    study.optimize(objective, n_trials=n_opt_trials)\n",
    "\n",
    "    # train model with optimized hyperparameters\n",
    "    model = GradientBoostingClassifier(max_depth=study.best_params[\"max_depth\"], \n",
    "                                    n_estimators=study.best_params[\"n_estimators\"], \n",
    "                                    random_state=random_seed,)\n",
    "\n",
    "    model.fit(train_x, train_y)\n",
    "\n",
    "    # prediction\n",
    "    y_pred = model.predict(val_x)\n",
    "    val_f1_score = round(f1_score(val_y, y_pred),4)\n",
    "    val_accuracy = round(accuracy_score(val_y, y_pred),4)\n",
    "    \n",
    "    print(\"Optimized Model F1 Score: \", val_f1_score)\n",
    "    \n",
    "    # check if no optimization has better f1 score\n",
    "    if f1_no_opt > val_f1_score:\n",
    "        print(\"No Optimization has better f1 score than optimized model\")\n",
    "        model = model_no_opt\n",
    "        val_f1_score = f1_no_opt\n",
    "    \n",
    "    return model, study, val_f1_score, val_accuracy\n",
    "\n",
    "\n",
    "def train_deicision_tree(train_x: pd.DataFrame, \n",
    "                        val_x: pd.DataFrame, \n",
    "                        train_y: pd.DataFrame, \n",
    "                        val_y: pd.DataFrame,\n",
    "                        random_seed: int = 123,\n",
    "                        n_opt_trials = 20,\n",
    "                        cv: int = 5) -> tuple:\n",
    "\n",
    "    # Train model without optimization\n",
    "    model_no_opt = DecisionTreeClassifier(random_state=random_seed)\n",
    "    model_no_opt.fit(train_x, train_y)\n",
    "    y_pred = model_no_opt.predict(val_x)\n",
    "    f1_no_opt = f1_score(val_y, y_pred)\n",
    "\n",
    "    print(f\"F1 Score No Optimization: {f1_no_opt}\")\n",
    "    \n",
    "    def objective(trial):\n",
    "        max_depth = trial.suggest_int(\"max_depth\", 2, 32, log=True)\n",
    "        classifier_obj = DecisionTreeClassifier(\n",
    "            max_depth=max_depth\n",
    "        )\n",
    "\n",
    "        score = cross_val_score(classifier_obj, train_x, train_y, n_jobs=-1, cv=cv, scoring=\"f1_weighted\")\n",
    "        return score.mean()\n",
    "    \n",
    "    optuna.logging.set_verbosity(optuna.logging.WARNING)\n",
    "    study = optuna.create_study(direction=\"maximize\")\n",
    "    study.optimize(objective, n_trials=n_opt_trials)\n",
    "\n",
    "    # train model with optimized hyperparameters\n",
    "    model = DecisionTreeClassifier(max_depth=study.best_params[\"max_depth\"],\n",
    "                                    random_state=random_seed)\n",
    "\n",
    "    model.fit(train_x, train_y)\n",
    "\n",
    "    # prediction\n",
    "    y_pred = model.predict(val_x)\n",
    "    val_f1_score = round(f1_score(val_y, y_pred),4)\n",
    "    val_accuracy = round(accuracy_score(val_y, y_pred),4)\n",
    "    \n",
    "    print(\"Optimized Model F1 Score: \", val_f1_score)\n",
    "    \n",
    "    # check if no optimization has better f1 score\n",
    "    if f1_no_opt > val_f1_score:\n",
    "        print(\"No Optimization has better f1 score than optimized model\")\n",
    "        model = model_no_opt\n",
    "        val_f1_score = f1_no_opt\n",
    "    \n",
    "    return model, study, val_f1_score, val_accuracy\n",
    "\n",
    "def train_adaboost(train_x: pd.DataFrame, \n",
    "                        val_x: pd.DataFrame, \n",
    "                        train_y: pd.DataFrame, \n",
    "                        val_y: pd.DataFrame,\n",
    "                        random_seed: int = 123,\n",
    "                        n_opt_trials = 20,\n",
    "                        cv: int = 5) -> tuple:\n",
    "\n",
    "    # Train model without optimization\n",
    "    model_no_opt = AdaBoostClassifier(random_state=random_seed)\n",
    "    model_no_opt.fit(train_x, train_y)\n",
    "    y_pred = model_no_opt.predict(val_x)\n",
    "    f1_no_opt = f1_score(val_y, y_pred)\n",
    "\n",
    "    print(f\"F1 Score No Optimization: {f1_no_opt}\")\n",
    "    \n",
    "    def objective(trial):\n",
    "        n_estimators = trial.suggest_int(\"n_estimators\", 10, 100)\n",
    "        learning_rate = trial.suggest_float(\"learning_rate\", 0.01, 1.0, log=True)\n",
    "        classifier_obj = AdaBoostClassifier(\n",
    "            n_estimators=n_estimators,\n",
    "            learning_rate=learning_rate,\n",
    "            random_state=random_seed    \n",
    "        )\n",
    "\n",
    "        score = cross_val_score(classifier_obj, train_x, train_y, n_jobs=-1, cv=cv, scoring=\"f1_weighted\")\n",
    "        return score.mean()\n",
    "    \n",
    "    optuna.logging.set_verbosity(optuna.logging.WARNING)\n",
    "    study = optuna.create_study(direction=\"maximize\")\n",
    "    study.optimize(objective, n_trials=n_opt_trials)\n",
    "\n",
    "    # train model with optimized hyperparameters\n",
    "    model = AdaBoostClassifier(n_estimators=study.best_params[\"n_estimators\"], \n",
    "                               learning_rate=study.best_params[\"learning_rate\"],\n",
    "                               random_state=random_seed  )\n",
    "\n",
    "    model.fit(train_x, train_y)\n",
    "\n",
    "    # prediction\n",
    "    y_pred = model.predict(val_x)\n",
    "    val_f1_score = round(f1_score(val_y, y_pred),4)\n",
    "    val_accuracy = round(accuracy_score(val_y, y_pred),4)\n",
    "    \n",
    "    print(\"Optimized Model F1 Score: \", val_f1_score)\n",
    "    \n",
    "    # check if no optimization has better f1 score\n",
    "    if f1_no_opt > val_f1_score:\n",
    "        print(\"No Optimization has better f1 score than optimized model\")\n",
    "        model = model_no_opt\n",
    "        val_f1_score = f1_no_opt\n",
    "    \n",
    "    return model, study, val_f1_score, val_accuracy\n",
    "\n",
    "def train_svc(train_x: pd.DataFrame, \n",
    "                        val_x: pd.DataFrame, \n",
    "                        train_y: pd.DataFrame, \n",
    "                        val_y: pd.DataFrame,\n",
    "                        random_seed: int = 123,\n",
    "                        n_opt_trials = 20,\n",
    "                        cv: int = 5) -> tuple:\n",
    "\n",
    "    # Train model without optimization\n",
    "    model_no_opt = SVC(random_state=random_seed)\n",
    "    model_no_opt.fit(train_x, train_y)\n",
    "    y_pred = model_no_opt.predict(val_x)\n",
    "    f1_no_opt = f1_score(val_y, y_pred)\n",
    "\n",
    "    print(f\"F1 Score No Optimization: {f1_no_opt}\")\n",
    "    \n",
    "    def objective(trial):\n",
    "        C = trial.suggest_float(\"C\", 0.1, 10, log=True)\n",
    "        #kernel = trial.suggest_categorical(\"kernel\", [\"linear\", \"poly\", \"rbf\", \"sigmoid\"])\n",
    "        classifier_obj = SVC(\n",
    "            C=C,\n",
    "            #kernel=kernel,\n",
    "            random_state=random_seed    \n",
    "        )\n",
    "\n",
    "        score = cross_val_score(classifier_obj, train_x, train_y, n_jobs=-1, cv=cv, scoring=\"f1_weighted\")\n",
    "        return score.mean()\n",
    "    \n",
    "    optuna.logging.set_verbosity(optuna.logging.WARNING)\n",
    "    study = optuna.create_study(direction=\"maximize\")\n",
    "    study.optimize(objective, n_trials=n_opt_trials)\n",
    "\n",
    "    # train model with optimized hyperparameters\n",
    "    model = SVC(C=study.best_params[\"C\"],\n",
    "                    random_state=random_seed  )\n",
    "\n",
    "    model.fit(train_x, train_y)\n",
    "\n",
    "    # prediction\n",
    "    y_pred = model.predict(val_x)\n",
    "    val_f1_score = round(f1_score(val_y, y_pred),4)\n",
    "    val_accuracy = round(accuracy_score(val_y, y_pred),4)\n",
    "    \n",
    "    print(\"Optimized Model F1 Score: \", val_f1_score)\n",
    "    \n",
    "    # check if no optimization has better f1 score\n",
    "    if f1_no_opt > val_f1_score:\n",
    "        print(\"No Optimization has better f1 score than optimized model\")\n",
    "        model = model_no_opt\n",
    "        val_f1_score = f1_no_opt\n",
    "    \n",
    "    return model, study, val_f1_score, val_accuracy\n",
    "\n",
    "\n",
    "def train_lgbm(train_x: pd.DataFrame, \n",
    "                        val_x: pd.DataFrame, \n",
    "                        train_y: pd.DataFrame, \n",
    "                        val_y: pd.DataFrame,\n",
    "                        random_seed: int = 123,\n",
    "                        n_opt_trials = 20) -> tuple:\n",
    "\n",
    "    params = {\n",
    "        \"objective\": \"binary\",\n",
    "        \"metric\": \"f1_score\",\n",
    "        \"verbosity\": -1,\n",
    "        \"boosting_type\": \"gbdt\",\n",
    "        \"random_seed\": random_seed,\n",
    "    }\n",
    "    \n",
    "    model_no_opt = LGBMClassifier(**params)\n",
    "    model_no_opt.fit(train_x, train_y, eval_set=[(val_x, val_y)])\n",
    "    y_pred = model_no_opt.predict(val_x)\n",
    "    f1_no_opt = f1_score(val_y, y_pred)\n",
    "\n",
    "    print(f\"F1 Score No Optimization: {f1_no_opt}\")\n",
    "    \n",
    "    # callable for optimization\n",
    "    def objective(trial):\n",
    "        # Parameters\n",
    "        params_tuning = {\n",
    "            \"objective\": \"binary\",\n",
    "            \"metric\": \"f1_score\",\n",
    "            \"verbosity\": -1,\n",
    "            \"boosting_type\": \"gbdt\",\n",
    "            \"learning_rate\": trial.suggest_float(\"learning_rate\", 1e-3, 0.1, log=True),\n",
    "            \"num_leaves\": trial.suggest_int(\"num_leaves\", 2, 2**10),\n",
    "            \"subsample\": trial.suggest_float(\"subsample\", 0.05, 1.0),\n",
    "            \"colsample_bytree\": trial.suggest_float(\"colsample_bytree\", 0.05, 1.0),\n",
    "            \"min_data_in_leaf\": trial.suggest_int(\"min_data_in_leaf\", 1, 100),\n",
    "            \"feature_pre_filter\": False,\n",
    "        }\n",
    "\n",
    "        gbm = LGBMClassifier(**params_tuning)\n",
    "        gbm.fit(train_x, train_y, eval_set=[(val_x, val_y)])\n",
    "        y_pred = gbm.predict(val_x)\n",
    "        return -f1_score(val_y, y_pred)\n",
    "\n",
    "    # start hyperparameter tuning\n",
    "    optuna.logging.set_verbosity(optuna.logging.WARNING)\n",
    "    study = optuna.create_study(direction=\"minimize\")\n",
    "    study.optimize(objective, n_trials=n_opt_trials)\n",
    "\n",
    "    print(\"Best hyperparameters from optuna:\", study.best_params)\n",
    "    print(\"Best f1_score from optuna:\", study.best_value*(-1))\n",
    "\n",
    "    \n",
    "    best_params = study.best_params\n",
    "    best_params.update({\"objective\": \"binary\", \"metric\": \"f1_score\", \"verbosity\": -1, \"boosting_type\": \"gbdt\"})\n",
    "    model = LGBMClassifier(**best_params)\n",
    "\n",
    "    model.fit(train_x, train_y)\n",
    "\n",
    "    # prediction\n",
    "    y_pred = model.predict(val_x)\n",
    "    val_f1_score = round(f1_score(val_y, y_pred),4)\n",
    "    val_accuracy = round(accuracy_score(val_y, y_pred),4)\n",
    "    \n",
    "    print(\"Optimized Model F1 Score: \", val_f1_score)\n",
    "    \n",
    "    # check if no optimization has better f1 score\n",
    "    if f1_no_opt > val_f1_score:\n",
    "        print(\"No Optimization has better f1 score than optimized model\")\n",
    "        model = model_no_opt\n",
    "        val_f1_score = f1_no_opt\n",
    "    \n",
    "    return model, study, val_f1_score, val_accuracy"
   ]
  },
  {
   "cell_type": "code",
   "execution_count": 4,
   "metadata": {},
   "outputs": [],
   "source": [
    "def split_train_test_data(df_train: pd.DataFrame,\n",
    "                df_test: pd.DataFrame,) -> tuple:\n",
    "    \"\"\"\n",
    "    - Split the data into features (X) and target variable (y)\n",
    "    - OneHot-Encoding for categorical columns\n",
    "    - Split the data into training. validation and testing sets\n",
    "    \n",
    "    Args:\n",
    "        df (pd.DataFrame): DataFrame train data\n",
    "        df_test (pd.DataFrame): DataFrame test data\n",
    "\n",
    "    Returns:\n",
    "        tuple: train_x, test_y, val_x, val_y, X_test, y_test\n",
    "    \"\"\"\n",
    "    \n",
    "        # Define features (X) and target variable (y)\n",
    "    X_train = df_train.drop(columns=['user_of_latest_model'])  # Features\n",
    "    y_train = df_train['user_of_latest_model']  # Target variable\n",
    "    \n",
    "    X_test = df_test.drop(columns=['user_of_latest_model'])  # Features\n",
    "    y_test = df_test['user_of_latest_model']  # Target variable\n",
    "\n",
    "    # OneHot-Encoding for categorical columns\n",
    "    X_train = pd.get_dummies(X_train, columns=df_train.select_dtypes(include=['object']).columns.to_list(), drop_first=True)\n",
    "    X_test = pd.get_dummies(X_test, columns=df_test.select_dtypes(include=['object']).columns.to_list(), drop_first=True)\n",
    "    \n",
    "    train_x, val_x, train_y, val_y = train_test_split(X_train, y_train, test_size=0.2, random_state=123)\n",
    "    \n",
    "    feature_names = train_x.columns\n",
    "    \n",
    "    return train_x, val_x, train_y, val_y, X_test, y_test, feature_names\n",
    "\n",
    "\n",
    "def train_test_model(df_train: pd.DataFrame,\n",
    "                        df_test: pd.DataFrame, \n",
    "                        model_name: str, \n",
    "                        models_func: str,\n",
    "                        n_opt_trials: int= 20) -> pd.DataFrame: \n",
    "    \"\"\"\n",
    "    - Adjust format of categorical columns\n",
    "    - train model on full training data\n",
    "    - Make predictions on the test data\n",
    "    - Evaluate the model using accuracy and F1-score\n",
    "\n",
    "    Args:\n",
    "        df (pd.DataFrame): DataFrame train data\n",
    "        df_test (pd.DataFrame): DataFrame test data\n",
    "        model_name (str): model name\n",
    "\n",
    "    Returns:\n",
    "        pd.DataFrame: df metrics\n",
    "    \"\"\"\n",
    "    \n",
    "    train_x, val_x, train_y, val_y, X_test, y_test, feature_names = split_train_test_data(df_train, df_test)\n",
    "           \n",
    "    # Train the model\n",
    "    model, study, val_f1_score, val_accuracy = models_func[model_name](train_x, val_x, train_y, val_y, n_opt_trials=n_opt_trials)\n",
    "    \n",
    "    # Evaluate the model\n",
    "    y_pred = model.predict(X_test)\n",
    "    test_accuracy = round(accuracy_score(y_test, y_pred),4)\n",
    "    test_f1_score = round(f1_score(y_test, y_pred),4)\n",
    "\n",
    "    # Store results in DataFrame\n",
    "    df_results = pd.DataFrame({'Model_Name': [model_name], \n",
    "                               'val_f1_score': [val_f1_score], \n",
    "                               'val_accuracy': [val_accuracy], \n",
    "                               'test_f1_score': [test_f1_score],\n",
    "                               'test_accuracy': [test_accuracy]})\n",
    "\n",
    "    return df_results, model, feature_names"
   ]
  },
  {
   "cell_type": "markdown",
   "metadata": {},
   "source": [
    "## Import Data"
   ]
  },
  {
   "cell_type": "code",
   "execution_count": 5,
   "metadata": {},
   "outputs": [],
   "source": [
    "# Store the dataframe to use them in the next step\n",
    "df_train = pd.read_csv(\"../../data/processed/task2_best_model_step3_train_data.csv\")\n",
    "df_test = pd.read_csv(\"../../data/processed/task2_best_model_step3_test_data.csv\")"
   ]
  },
  {
   "cell_type": "code",
   "execution_count": 6,
   "metadata": {},
   "outputs": [
    {
     "data": {
      "application/vnd.microsoft.datawrangler.viewer.v0+json": {
       "columns": [
        {
         "name": "index",
         "rawType": "int64",
         "type": "integer"
        },
        {
         "name": "age_of_customer",
         "rawType": "float64",
         "type": "float"
        },
        {
         "name": "sex",
         "rawType": "object",
         "type": "string"
        },
        {
         "name": "ctry",
         "rawType": "object",
         "type": "string"
        },
        {
         "name": "town",
         "rawType": "object",
         "type": "string"
        },
        {
         "name": "swimming_hours_per_week",
         "rawType": "float64",
         "type": "float"
        },
        {
         "name": "biking_hours_per_week",
         "rawType": "float64",
         "type": "float"
        },
        {
         "name": "running_hours_per_week",
         "rawType": "float64",
         "type": "float"
        },
        {
         "name": "total_training_hours_per_week",
         "rawType": "float64",
         "type": "float"
        },
        {
         "name": "vo2_max",
         "rawType": "float64",
         "type": "float"
        },
        {
         "name": "10k_running_time_prediction",
         "rawType": "float64",
         "type": "float"
        },
        {
         "name": "calories_burned_per_week",
         "rawType": "float64",
         "type": "float"
        },
        {
         "name": "support_cases_of_customer",
         "rawType": "int64",
         "type": "integer"
        },
        {
         "name": "customer_years",
         "rawType": "int64",
         "type": "integer"
        },
        {
         "name": "most_current_software_update",
         "rawType": "int64",
         "type": "integer"
        },
        {
         "name": "goal_of_training",
         "rawType": "object",
         "type": "string"
        },
        {
         "name": "preferred_training_daytime",
         "rawType": "object",
         "type": "string"
        },
        {
         "name": "subscription_type",
         "rawType": "object",
         "type": "string"
        },
        {
         "name": "color_of_watch",
         "rawType": "object",
         "type": "string"
        },
        {
         "name": "synchronisation",
         "rawType": "object",
         "type": "string"
        },
        {
         "name": "user_of_latest_model",
         "rawType": "int64",
         "type": "integer"
        }
       ],
       "conversionMethod": "pd.DataFrame",
       "ref": "d276b4cb-0fb3-489a-afbd-d9d64851852a",
       "rows": [
        [
         "0",
         "60.0",
         "Other",
         "Germany",
         "Hamburg",
         "1.8",
         "4.44",
         "0.34",
         "6.58",
         "23.02",
         "59.52",
         "3062.83",
         "3",
         "4",
         "391",
         "Recreation",
         "Evening",
         "Premium",
         "Black",
         "No",
         "0"
        ],
        [
         "1",
         "53.0",
         "Male",
         "Germayn",
         "Berlin",
         "1.77",
         "5.42",
         "5.6",
         "12.79",
         "52.46",
         "50.26",
         "6651.29",
         "2",
         "4",
         "251",
         "Recreation",
         "Evening",
         "Free",
         "White",
         "Yes",
         "0"
        ],
        [
         "2",
         "30.0",
         "Other",
         "UK",
         "London",
         "4.05",
         "6.98",
         "4.03",
         "15.07",
         "73.21",
         "35.87",
         "7506.12",
         "0",
         "6",
         "0",
         "Competition",
         "Morning",
         "Free",
         "Black",
         "Yes",
         "1"
        ],
        [
         "3",
         "24.0",
         "Other",
         "Germany",
         "Hamburg",
         "3.22",
         "10.54",
         "4.23",
         "17.99",
         "74.64",
         "36.51",
         "9134.26",
         "3",
         "6",
         "427",
         "Competition",
         "Morning",
         "Premium",
         "White",
         "No",
         "1"
        ],
        [
         "4",
         "53.0",
         "Male",
         "USA",
         "Los Angeles",
         "3.15",
         "3.03",
         "5.4",
         "11.58",
         "51.22",
         "48.41",
         "5709.64",
         "3",
         "8",
         "7",
         "Fitness",
         "Afternoon",
         "Free",
         "Black",
         "Yes",
         "0"
        ]
       ],
       "shape": {
        "columns": 20,
        "rows": 5
       }
      },
      "text/html": [
       "<div>\n",
       "<style scoped>\n",
       "    .dataframe tbody tr th:only-of-type {\n",
       "        vertical-align: middle;\n",
       "    }\n",
       "\n",
       "    .dataframe tbody tr th {\n",
       "        vertical-align: top;\n",
       "    }\n",
       "\n",
       "    .dataframe thead th {\n",
       "        text-align: right;\n",
       "    }\n",
       "</style>\n",
       "<table border=\"1\" class=\"dataframe\">\n",
       "  <thead>\n",
       "    <tr style=\"text-align: right;\">\n",
       "      <th></th>\n",
       "      <th>age_of_customer</th>\n",
       "      <th>sex</th>\n",
       "      <th>ctry</th>\n",
       "      <th>town</th>\n",
       "      <th>swimming_hours_per_week</th>\n",
       "      <th>biking_hours_per_week</th>\n",
       "      <th>running_hours_per_week</th>\n",
       "      <th>total_training_hours_per_week</th>\n",
       "      <th>vo2_max</th>\n",
       "      <th>10k_running_time_prediction</th>\n",
       "      <th>calories_burned_per_week</th>\n",
       "      <th>support_cases_of_customer</th>\n",
       "      <th>customer_years</th>\n",
       "      <th>most_current_software_update</th>\n",
       "      <th>goal_of_training</th>\n",
       "      <th>preferred_training_daytime</th>\n",
       "      <th>subscription_type</th>\n",
       "      <th>color_of_watch</th>\n",
       "      <th>synchronisation</th>\n",
       "      <th>user_of_latest_model</th>\n",
       "    </tr>\n",
       "  </thead>\n",
       "  <tbody>\n",
       "    <tr>\n",
       "      <th>0</th>\n",
       "      <td>60.0</td>\n",
       "      <td>Other</td>\n",
       "      <td>Germany</td>\n",
       "      <td>Hamburg</td>\n",
       "      <td>1.80</td>\n",
       "      <td>4.44</td>\n",
       "      <td>0.34</td>\n",
       "      <td>6.58</td>\n",
       "      <td>23.02</td>\n",
       "      <td>59.52</td>\n",
       "      <td>3062.83</td>\n",
       "      <td>3</td>\n",
       "      <td>4</td>\n",
       "      <td>391</td>\n",
       "      <td>Recreation</td>\n",
       "      <td>Evening</td>\n",
       "      <td>Premium</td>\n",
       "      <td>Black</td>\n",
       "      <td>No</td>\n",
       "      <td>0</td>\n",
       "    </tr>\n",
       "    <tr>\n",
       "      <th>1</th>\n",
       "      <td>53.0</td>\n",
       "      <td>Male</td>\n",
       "      <td>Germayn</td>\n",
       "      <td>Berlin</td>\n",
       "      <td>1.77</td>\n",
       "      <td>5.42</td>\n",
       "      <td>5.60</td>\n",
       "      <td>12.79</td>\n",
       "      <td>52.46</td>\n",
       "      <td>50.26</td>\n",
       "      <td>6651.29</td>\n",
       "      <td>2</td>\n",
       "      <td>4</td>\n",
       "      <td>251</td>\n",
       "      <td>Recreation</td>\n",
       "      <td>Evening</td>\n",
       "      <td>Free</td>\n",
       "      <td>White</td>\n",
       "      <td>Yes</td>\n",
       "      <td>0</td>\n",
       "    </tr>\n",
       "    <tr>\n",
       "      <th>2</th>\n",
       "      <td>30.0</td>\n",
       "      <td>Other</td>\n",
       "      <td>UK</td>\n",
       "      <td>London</td>\n",
       "      <td>4.05</td>\n",
       "      <td>6.98</td>\n",
       "      <td>4.03</td>\n",
       "      <td>15.07</td>\n",
       "      <td>73.21</td>\n",
       "      <td>35.87</td>\n",
       "      <td>7506.12</td>\n",
       "      <td>0</td>\n",
       "      <td>6</td>\n",
       "      <td>0</td>\n",
       "      <td>Competition</td>\n",
       "      <td>Morning</td>\n",
       "      <td>Free</td>\n",
       "      <td>Black</td>\n",
       "      <td>Yes</td>\n",
       "      <td>1</td>\n",
       "    </tr>\n",
       "    <tr>\n",
       "      <th>3</th>\n",
       "      <td>24.0</td>\n",
       "      <td>Other</td>\n",
       "      <td>Germany</td>\n",
       "      <td>Hamburg</td>\n",
       "      <td>3.22</td>\n",
       "      <td>10.54</td>\n",
       "      <td>4.23</td>\n",
       "      <td>17.99</td>\n",
       "      <td>74.64</td>\n",
       "      <td>36.51</td>\n",
       "      <td>9134.26</td>\n",
       "      <td>3</td>\n",
       "      <td>6</td>\n",
       "      <td>427</td>\n",
       "      <td>Competition</td>\n",
       "      <td>Morning</td>\n",
       "      <td>Premium</td>\n",
       "      <td>White</td>\n",
       "      <td>No</td>\n",
       "      <td>1</td>\n",
       "    </tr>\n",
       "    <tr>\n",
       "      <th>4</th>\n",
       "      <td>53.0</td>\n",
       "      <td>Male</td>\n",
       "      <td>USA</td>\n",
       "      <td>Los Angeles</td>\n",
       "      <td>3.15</td>\n",
       "      <td>3.03</td>\n",
       "      <td>5.40</td>\n",
       "      <td>11.58</td>\n",
       "      <td>51.22</td>\n",
       "      <td>48.41</td>\n",
       "      <td>5709.64</td>\n",
       "      <td>3</td>\n",
       "      <td>8</td>\n",
       "      <td>7</td>\n",
       "      <td>Fitness</td>\n",
       "      <td>Afternoon</td>\n",
       "      <td>Free</td>\n",
       "      <td>Black</td>\n",
       "      <td>Yes</td>\n",
       "      <td>0</td>\n",
       "    </tr>\n",
       "  </tbody>\n",
       "</table>\n",
       "</div>"
      ],
      "text/plain": [
       "   age_of_customer    sex     ctry         town  swimming_hours_per_week  \\\n",
       "0             60.0  Other  Germany      Hamburg                     1.80   \n",
       "1             53.0   Male  Germayn       Berlin                     1.77   \n",
       "2             30.0  Other       UK       London                     4.05   \n",
       "3             24.0  Other  Germany      Hamburg                     3.22   \n",
       "4             53.0   Male      USA  Los Angeles                     3.15   \n",
       "\n",
       "   biking_hours_per_week  running_hours_per_week  \\\n",
       "0                   4.44                    0.34   \n",
       "1                   5.42                    5.60   \n",
       "2                   6.98                    4.03   \n",
       "3                  10.54                    4.23   \n",
       "4                   3.03                    5.40   \n",
       "\n",
       "   total_training_hours_per_week  vo2_max  10k_running_time_prediction  \\\n",
       "0                           6.58    23.02                        59.52   \n",
       "1                          12.79    52.46                        50.26   \n",
       "2                          15.07    73.21                        35.87   \n",
       "3                          17.99    74.64                        36.51   \n",
       "4                          11.58    51.22                        48.41   \n",
       "\n",
       "   calories_burned_per_week  support_cases_of_customer  customer_years  \\\n",
       "0                   3062.83                          3               4   \n",
       "1                   6651.29                          2               4   \n",
       "2                   7506.12                          0               6   \n",
       "3                   9134.26                          3               6   \n",
       "4                   5709.64                          3               8   \n",
       "\n",
       "   most_current_software_update goal_of_training preferred_training_daytime  \\\n",
       "0                           391       Recreation                    Evening   \n",
       "1                           251       Recreation                    Evening   \n",
       "2                             0      Competition                    Morning   \n",
       "3                           427      Competition                    Morning   \n",
       "4                             7          Fitness                  Afternoon   \n",
       "\n",
       "  subscription_type color_of_watch synchronisation  user_of_latest_model  \n",
       "0           Premium          Black              No                     0  \n",
       "1              Free          White             Yes                     0  \n",
       "2              Free          Black             Yes                     1  \n",
       "3           Premium          White              No                     1  \n",
       "4              Free          Black             Yes                     0  "
      ]
     },
     "execution_count": 6,
     "metadata": {},
     "output_type": "execute_result"
    }
   ],
   "source": [
    "df_test.head()"
   ]
  },
  {
   "cell_type": "markdown",
   "metadata": {},
   "source": [
    "## Model Evaluation"
   ]
  },
  {
   "cell_type": "code",
   "execution_count": 7,
   "metadata": {},
   "outputs": [],
   "source": [
    "models_func = {'LogisticRegression': train_logistic_regression,\n",
    "                'KNeighborsClassifier': train_kneighbors_classifier,\n",
    "                'RandomForest': train_random_forest, \n",
    "               'BaggingClassifier':train_bagging_classifier,\n",
    "               'GradientBoosting': train_gradient_boosting, \n",
    "               'DecisionTree': train_deicision_tree,\n",
    "               'AdaBoost': train_adaboost, \n",
    "               'SVC': train_svc, \n",
    "               'LGBM': train_lgbm}"
   ]
  },
  {
   "cell_type": "code",
   "execution_count": 8,
   "metadata": {},
   "outputs": [],
   "source": [
    "df_results = pd.DataFrame()"
   ]
  },
  {
   "cell_type": "markdown",
   "metadata": {},
   "source": [
    "### Baseline Model: Logistics Regression"
   ]
  },
  {
   "cell_type": "code",
   "execution_count": 9,
   "metadata": {},
   "outputs": [
    {
     "name": "stdout",
     "output_type": "stream",
     "text": [
      "F1 Score No Optimization: 0.7354838709677419\n"
     ]
    },
    {
     "name": "stderr",
     "output_type": "stream",
     "text": [
      "/Users/JOHTORR/Repos/project_intro_ai/.venv/lib/python3.12/site-packages/sklearn/linear_model/_sag.py:348: ConvergenceWarning: The max_iter was reached which means the coef_ did not converge\n",
      "  warnings.warn(\n",
      "/Users/JOHTORR/Repos/project_intro_ai/.venv/lib/python3.12/site-packages/sklearn/linear_model/_sag.py:348: ConvergenceWarning: The max_iter was reached which means the coef_ did not converge\n",
      "  warnings.warn(\n",
      "/Users/JOHTORR/Repos/project_intro_ai/.venv/lib/python3.12/site-packages/sklearn/linear_model/_sag.py:348: ConvergenceWarning: The max_iter was reached which means the coef_ did not converge\n",
      "  warnings.warn(\n",
      "/Users/JOHTORR/Repos/project_intro_ai/.venv/lib/python3.12/site-packages/sklearn/linear_model/_sag.py:348: ConvergenceWarning: The max_iter was reached which means the coef_ did not converge\n",
      "  warnings.warn(\n",
      "/Users/JOHTORR/Repos/project_intro_ai/.venv/lib/python3.12/site-packages/sklearn/linear_model/_sag.py:348: ConvergenceWarning: The max_iter was reached which means the coef_ did not converge\n",
      "  warnings.warn(\n",
      "/Users/JOHTORR/Repos/project_intro_ai/.venv/lib/python3.12/site-packages/sklearn/linear_model/_sag.py:348: ConvergenceWarning: The max_iter was reached which means the coef_ did not converge\n",
      "  warnings.warn(\n",
      "/Users/JOHTORR/Repos/project_intro_ai/.venv/lib/python3.12/site-packages/sklearn/linear_model/_sag.py:348: ConvergenceWarning: The max_iter was reached which means the coef_ did not converge\n",
      "  warnings.warn(\n",
      "/Users/JOHTORR/Repos/project_intro_ai/.venv/lib/python3.12/site-packages/sklearn/linear_model/_sag.py:348: ConvergenceWarning: The max_iter was reached which means the coef_ did not converge\n",
      "  warnings.warn(\n",
      "/Users/JOHTORR/Repos/project_intro_ai/.venv/lib/python3.12/site-packages/sklearn/linear_model/_sag.py:348: ConvergenceWarning: The max_iter was reached which means the coef_ did not converge\n",
      "  warnings.warn(\n",
      "/Users/JOHTORR/Repos/project_intro_ai/.venv/lib/python3.12/site-packages/sklearn/linear_model/_sag.py:348: ConvergenceWarning: The max_iter was reached which means the coef_ did not converge\n",
      "  warnings.warn(\n",
      "/Users/JOHTORR/Repos/project_intro_ai/.venv/lib/python3.12/site-packages/sklearn/linear_model/_sag.py:348: ConvergenceWarning: The max_iter was reached which means the coef_ did not converge\n",
      "  warnings.warn(\n",
      "/Users/JOHTORR/Repos/project_intro_ai/.venv/lib/python3.12/site-packages/sklearn/linear_model/_sag.py:348: ConvergenceWarning: The max_iter was reached which means the coef_ did not converge\n",
      "  warnings.warn(\n",
      "/Users/JOHTORR/Repos/project_intro_ai/.venv/lib/python3.12/site-packages/sklearn/linear_model/_sag.py:348: ConvergenceWarning: The max_iter was reached which means the coef_ did not converge\n",
      "  warnings.warn(\n",
      "/Users/JOHTORR/Repos/project_intro_ai/.venv/lib/python3.12/site-packages/sklearn/linear_model/_sag.py:348: ConvergenceWarning: The max_iter was reached which means the coef_ did not converge\n",
      "  warnings.warn(\n",
      "/Users/JOHTORR/Repos/project_intro_ai/.venv/lib/python3.12/site-packages/sklearn/linear_model/_sag.py:348: ConvergenceWarning: The max_iter was reached which means the coef_ did not converge\n",
      "  warnings.warn(\n",
      "/Users/JOHTORR/Repos/project_intro_ai/.venv/lib/python3.12/site-packages/sklearn/linear_model/_sag.py:348: ConvergenceWarning: The max_iter was reached which means the coef_ did not converge\n",
      "  warnings.warn(\n",
      "/Users/JOHTORR/Repos/project_intro_ai/.venv/lib/python3.12/site-packages/sklearn/linear_model/_sag.py:348: ConvergenceWarning: The max_iter was reached which means the coef_ did not converge\n",
      "  warnings.warn(\n",
      "/Users/JOHTORR/Repos/project_intro_ai/.venv/lib/python3.12/site-packages/sklearn/linear_model/_sag.py:348: ConvergenceWarning: The max_iter was reached which means the coef_ did not converge\n",
      "  warnings.warn(\n",
      "/Users/JOHTORR/Repos/project_intro_ai/.venv/lib/python3.12/site-packages/sklearn/linear_model/_sag.py:348: ConvergenceWarning: The max_iter was reached which means the coef_ did not converge\n",
      "  warnings.warn(\n",
      "/Users/JOHTORR/Repos/project_intro_ai/.venv/lib/python3.12/site-packages/sklearn/linear_model/_sag.py:348: ConvergenceWarning: The max_iter was reached which means the coef_ did not converge\n",
      "  warnings.warn(\n",
      "/Users/JOHTORR/Repos/project_intro_ai/.venv/lib/python3.12/site-packages/sklearn/linear_model/_sag.py:348: ConvergenceWarning: The max_iter was reached which means the coef_ did not converge\n",
      "  warnings.warn(\n",
      "/Users/JOHTORR/Repos/project_intro_ai/.venv/lib/python3.12/site-packages/sklearn/linear_model/_sag.py:348: ConvergenceWarning: The max_iter was reached which means the coef_ did not converge\n",
      "  warnings.warn(\n",
      "/Users/JOHTORR/Repos/project_intro_ai/.venv/lib/python3.12/site-packages/sklearn/linear_model/_sag.py:348: ConvergenceWarning: The max_iter was reached which means the coef_ did not converge\n",
      "  warnings.warn(\n",
      "/Users/JOHTORR/Repos/project_intro_ai/.venv/lib/python3.12/site-packages/sklearn/linear_model/_sag.py:348: ConvergenceWarning: The max_iter was reached which means the coef_ did not converge\n",
      "  warnings.warn(\n",
      "/Users/JOHTORR/Repos/project_intro_ai/.venv/lib/python3.12/site-packages/sklearn/linear_model/_sag.py:348: ConvergenceWarning: The max_iter was reached which means the coef_ did not converge\n",
      "  warnings.warn(\n"
     ]
    },
    {
     "name": "stdout",
     "output_type": "stream",
     "text": [
      "Optimized Model F1 Score:  0.7261\n",
      "No Optimization has better f1 score than optimized model\n"
     ]
    },
    {
     "name": "stderr",
     "output_type": "stream",
     "text": [
      "/Users/JOHTORR/Repos/project_intro_ai/.venv/lib/python3.12/site-packages/sklearn/linear_model/_sag.py:348: ConvergenceWarning: The max_iter was reached which means the coef_ did not converge\n",
      "  warnings.warn(\n",
      "/Users/JOHTORR/Repos/project_intro_ai/.venv/lib/python3.12/site-packages/sklearn/linear_model/_sag.py:348: ConvergenceWarning: The max_iter was reached which means the coef_ did not converge\n",
      "  warnings.warn(\n",
      "/Users/JOHTORR/Repos/project_intro_ai/.venv/lib/python3.12/site-packages/sklearn/linear_model/_sag.py:348: ConvergenceWarning: The max_iter was reached which means the coef_ did not converge\n",
      "  warnings.warn(\n",
      "/Users/JOHTORR/Repos/project_intro_ai/.venv/lib/python3.12/site-packages/sklearn/linear_model/_sag.py:348: ConvergenceWarning: The max_iter was reached which means the coef_ did not converge\n",
      "  warnings.warn(\n",
      "/Users/JOHTORR/Repos/project_intro_ai/.venv/lib/python3.12/site-packages/sklearn/linear_model/_sag.py:348: ConvergenceWarning: The max_iter was reached which means the coef_ did not converge\n",
      "  warnings.warn(\n"
     ]
    }
   ],
   "source": [
    "model_name = 'LogisticRegression'\n",
    "n_opt_trials = 20   \n",
    "df_results_new, model, feature_names = train_test_model(df_train=df_train, \n",
    "                                     df_test=df_test, \n",
    "                                     model_name=model_name, \n",
    "                                     models_func=models_func,\n",
    "                                     n_opt_trials=n_opt_trials)\n",
    "\n",
    "df_results = pd.concat([df_results, df_results_new], axis=0)"
   ]
  },
  {
   "cell_type": "code",
   "execution_count": 10,
   "metadata": {},
   "outputs": [
    {
     "data": {
      "application/vnd.microsoft.datawrangler.viewer.v0+json": {
       "columns": [
        {
         "name": "index",
         "rawType": "int64",
         "type": "integer"
        },
        {
         "name": "Model_Name",
         "rawType": "object",
         "type": "string"
        },
        {
         "name": "val_f1_score",
         "rawType": "float64",
         "type": "float"
        },
        {
         "name": "val_accuracy",
         "rawType": "float64",
         "type": "float"
        },
        {
         "name": "test_f1_score",
         "rawType": "float64",
         "type": "float"
        },
        {
         "name": "test_accuracy",
         "rawType": "float64",
         "type": "float"
        }
       ],
       "conversionMethod": "pd.DataFrame",
       "ref": "46714daa-0a6a-4a0b-a6cf-59baecd138b9",
       "rows": [
        [
         "0",
         "LogisticRegression",
         "0.7354838709677419",
         "0.7806",
         "0.7202",
         "0.784"
        ]
       ],
       "shape": {
        "columns": 5,
        "rows": 1
       }
      },
      "text/html": [
       "<div>\n",
       "<style scoped>\n",
       "    .dataframe tbody tr th:only-of-type {\n",
       "        vertical-align: middle;\n",
       "    }\n",
       "\n",
       "    .dataframe tbody tr th {\n",
       "        vertical-align: top;\n",
       "    }\n",
       "\n",
       "    .dataframe thead th {\n",
       "        text-align: right;\n",
       "    }\n",
       "</style>\n",
       "<table border=\"1\" class=\"dataframe\">\n",
       "  <thead>\n",
       "    <tr style=\"text-align: right;\">\n",
       "      <th></th>\n",
       "      <th>Model_Name</th>\n",
       "      <th>val_f1_score</th>\n",
       "      <th>val_accuracy</th>\n",
       "      <th>test_f1_score</th>\n",
       "      <th>test_accuracy</th>\n",
       "    </tr>\n",
       "  </thead>\n",
       "  <tbody>\n",
       "    <tr>\n",
       "      <th>0</th>\n",
       "      <td>LogisticRegression</td>\n",
       "      <td>0.735484</td>\n",
       "      <td>0.7806</td>\n",
       "      <td>0.7202</td>\n",
       "      <td>0.784</td>\n",
       "    </tr>\n",
       "  </tbody>\n",
       "</table>\n",
       "</div>"
      ],
      "text/plain": [
       "           Model_Name  val_f1_score  val_accuracy  test_f1_score  \\\n",
       "0  LogisticRegression      0.735484        0.7806         0.7202   \n",
       "\n",
       "   test_accuracy  \n",
       "0          0.784  "
      ]
     },
     "execution_count": 10,
     "metadata": {},
     "output_type": "execute_result"
    }
   ],
   "source": [
    "df_results"
   ]
  },
  {
   "cell_type": "markdown",
   "metadata": {},
   "source": [
    "### KNeighborsClassifier"
   ]
  },
  {
   "cell_type": "code",
   "execution_count": 11,
   "metadata": {},
   "outputs": [
    {
     "name": "stdout",
     "output_type": "stream",
     "text": [
      "F1 Score No Optimization: 0.575\n",
      "Optimized Model F1 Score:  0.5772\n"
     ]
    }
   ],
   "source": [
    "model_name = 'KNeighborsClassifier'\n",
    "n_opt_trials = 20\n",
    "df_results_new, model, feature_names = train_test_model(df_train=df_train, \n",
    "                                     df_test=df_test, \n",
    "                                     model_name=model_name, \n",
    "                                     models_func=models_func,\n",
    "                                     n_opt_trials=n_opt_trials)\n",
    "\n",
    "df_results = pd.concat([df_results, df_results_new], axis=0)"
   ]
  },
  {
   "cell_type": "code",
   "execution_count": 12,
   "metadata": {},
   "outputs": [
    {
     "data": {
      "application/vnd.microsoft.datawrangler.viewer.v0+json": {
       "columns": [
        {
         "name": "index",
         "rawType": "int64",
         "type": "integer"
        },
        {
         "name": "Model_Name",
         "rawType": "object",
         "type": "string"
        },
        {
         "name": "val_f1_score",
         "rawType": "float64",
         "type": "float"
        },
        {
         "name": "val_accuracy",
         "rawType": "float64",
         "type": "float"
        },
        {
         "name": "test_f1_score",
         "rawType": "float64",
         "type": "float"
        },
        {
         "name": "test_accuracy",
         "rawType": "float64",
         "type": "float"
        }
       ],
       "conversionMethod": "pd.DataFrame",
       "ref": "71428caf-055b-48e9-9a95-d37fd891cb0c",
       "rows": [
        [
         "0",
         "LogisticRegression",
         "0.7354838709677419",
         "0.7806",
         "0.7202",
         "0.784"
        ],
        [
         "0",
         "KNeighborsClassifier",
         "0.5772",
         "0.6786",
         "0.5378",
         "0.67"
        ]
       ],
       "shape": {
        "columns": 5,
        "rows": 2
       }
      },
      "text/html": [
       "<div>\n",
       "<style scoped>\n",
       "    .dataframe tbody tr th:only-of-type {\n",
       "        vertical-align: middle;\n",
       "    }\n",
       "\n",
       "    .dataframe tbody tr th {\n",
       "        vertical-align: top;\n",
       "    }\n",
       "\n",
       "    .dataframe thead th {\n",
       "        text-align: right;\n",
       "    }\n",
       "</style>\n",
       "<table border=\"1\" class=\"dataframe\">\n",
       "  <thead>\n",
       "    <tr style=\"text-align: right;\">\n",
       "      <th></th>\n",
       "      <th>Model_Name</th>\n",
       "      <th>val_f1_score</th>\n",
       "      <th>val_accuracy</th>\n",
       "      <th>test_f1_score</th>\n",
       "      <th>test_accuracy</th>\n",
       "    </tr>\n",
       "  </thead>\n",
       "  <tbody>\n",
       "    <tr>\n",
       "      <th>0</th>\n",
       "      <td>LogisticRegression</td>\n",
       "      <td>0.735484</td>\n",
       "      <td>0.7806</td>\n",
       "      <td>0.7202</td>\n",
       "      <td>0.784</td>\n",
       "    </tr>\n",
       "    <tr>\n",
       "      <th>0</th>\n",
       "      <td>KNeighborsClassifier</td>\n",
       "      <td>0.577200</td>\n",
       "      <td>0.6786</td>\n",
       "      <td>0.5378</td>\n",
       "      <td>0.670</td>\n",
       "    </tr>\n",
       "  </tbody>\n",
       "</table>\n",
       "</div>"
      ],
      "text/plain": [
       "             Model_Name  val_f1_score  val_accuracy  test_f1_score  \\\n",
       "0    LogisticRegression      0.735484        0.7806         0.7202   \n",
       "0  KNeighborsClassifier      0.577200        0.6786         0.5378   \n",
       "\n",
       "   test_accuracy  \n",
       "0          0.784  \n",
       "0          0.670  "
      ]
     },
     "execution_count": 12,
     "metadata": {},
     "output_type": "execute_result"
    }
   ],
   "source": [
    "df_results"
   ]
  },
  {
   "cell_type": "markdown",
   "metadata": {},
   "source": [
    "### Random Forest"
   ]
  },
  {
   "cell_type": "code",
   "execution_count": 13,
   "metadata": {},
   "outputs": [
    {
     "name": "stdout",
     "output_type": "stream",
     "text": [
      "F1 Score No Optimization: 0.7225806451612903\n",
      "Optimized Model F1 Score:  0.6928\n",
      "No Optimization has better f1 score than optimized model\n"
     ]
    }
   ],
   "source": [
    "model_name = 'RandomForest'\n",
    "n_opt_trials = 20\n",
    "df_results_new, model, feature_names = train_test_model(df_train=df_train, \n",
    "                                     df_test=df_test, \n",
    "                                     model_name=model_name, \n",
    "                                     models_func=models_func,\n",
    "                                     n_opt_trials=n_opt_trials)\n",
    "\n",
    "df_results = pd.concat([df_results, df_results_new], axis=0)"
   ]
  },
  {
   "cell_type": "code",
   "execution_count": 14,
   "metadata": {},
   "outputs": [
    {
     "data": {
      "image/png": "[encoded data removed]",
      "text/plain": [
       "<Figure size 1000x800 with 1 Axes>"
      ]
     },
     "metadata": {},
     "output_type": "display_data"
    }
   ],
   "source": [
    "importances = model.feature_importances_\n",
    "indices = np.argsort(importances)[::-1]\n",
    "\n",
    "plt.figure(figsize=(10, 8))\n",
    "plt.title(\"Feature Importances Random Forest\")\n",
    "plt.barh(range(len(importances)), importances[indices], align=\"center\")\n",
    "plt.yticks(range(len(importances)), feature_names[indices])\n",
    "plt.gca().invert_yaxis()\n",
    "plt.tight_layout()\n",
    "plt.show()\n"
   ]
  },
  {
   "cell_type": "code",
   "execution_count": 15,
   "metadata": {},
   "outputs": [
    {
     "data": {
      "application/vnd.microsoft.datawrangler.viewer.v0+json": {
       "columns": [
        {
         "name": "index",
         "rawType": "int64",
         "type": "integer"
        },
        {
         "name": "Model_Name",
         "rawType": "object",
         "type": "string"
        },
        {
         "name": "val_f1_score",
         "rawType": "float64",
         "type": "float"
        },
        {
         "name": "val_accuracy",
         "rawType": "float64",
         "type": "float"
        },
        {
         "name": "test_f1_score",
         "rawType": "float64",
         "type": "float"
        },
        {
         "name": "test_accuracy",
         "rawType": "float64",
         "type": "float"
        }
       ],
       "conversionMethod": "pd.DataFrame",
       "ref": "3ea0cc02-e875-4aae-87d2-d1df2fe36b79",
       "rows": [
        [
         "0",
         "LogisticRegression",
         "0.7354838709677419",
         "0.7806",
         "0.7202",
         "0.784"
        ],
        [
         "0",
         "KNeighborsClassifier",
         "0.5772",
         "0.6786",
         "0.5378",
         "0.67"
        ],
        [
         "0",
         "RandomForest",
         "0.7225806451612903",
         "0.7602",
         "0.7097",
         "0.766"
        ]
       ],
       "shape": {
        "columns": 5,
        "rows": 3
       }
      },
      "text/html": [
       "<div>\n",
       "<style scoped>\n",
       "    .dataframe tbody tr th:only-of-type {\n",
       "        vertical-align: middle;\n",
       "    }\n",
       "\n",
       "    .dataframe tbody tr th {\n",
       "        vertical-align: top;\n",
       "    }\n",
       "\n",
       "    .dataframe thead th {\n",
       "        text-align: right;\n",
       "    }\n",
       "</style>\n",
       "<table border=\"1\" class=\"dataframe\">\n",
       "  <thead>\n",
       "    <tr style=\"text-align: right;\">\n",
       "      <th></th>\n",
       "      <th>Model_Name</th>\n",
       "      <th>val_f1_score</th>\n",
       "      <th>val_accuracy</th>\n",
       "      <th>test_f1_score</th>\n",
       "      <th>test_accuracy</th>\n",
       "    </tr>\n",
       "  </thead>\n",
       "  <tbody>\n",
       "    <tr>\n",
       "      <th>0</th>\n",
       "      <td>LogisticRegression</td>\n",
       "      <td>0.735484</td>\n",
       "      <td>0.7806</td>\n",
       "      <td>0.7202</td>\n",
       "      <td>0.784</td>\n",
       "    </tr>\n",
       "    <tr>\n",
       "      <th>0</th>\n",
       "      <td>KNeighborsClassifier</td>\n",
       "      <td>0.577200</td>\n",
       "      <td>0.6786</td>\n",
       "      <td>0.5378</td>\n",
       "      <td>0.670</td>\n",
       "    </tr>\n",
       "    <tr>\n",
       "      <th>0</th>\n",
       "      <td>RandomForest</td>\n",
       "      <td>0.722581</td>\n",
       "      <td>0.7602</td>\n",
       "      <td>0.7097</td>\n",
       "      <td>0.766</td>\n",
       "    </tr>\n",
       "  </tbody>\n",
       "</table>\n",
       "</div>"
      ],
      "text/plain": [
       "             Model_Name  val_f1_score  val_accuracy  test_f1_score  \\\n",
       "0    LogisticRegression      0.735484        0.7806         0.7202   \n",
       "0  KNeighborsClassifier      0.577200        0.6786         0.5378   \n",
       "0          RandomForest      0.722581        0.7602         0.7097   \n",
       "\n",
       "   test_accuracy  \n",
       "0          0.784  \n",
       "0          0.670  \n",
       "0          0.766  "
      ]
     },
     "execution_count": 15,
     "metadata": {},
     "output_type": "execute_result"
    }
   ],
   "source": [
    "df_results"
   ]
  },
  {
   "cell_type": "markdown",
   "metadata": {},
   "source": [
    "### BaggingClassifier"
   ]
  },
  {
   "cell_type": "code",
   "execution_count": 16,
   "metadata": {},
   "outputs": [
    {
     "name": "stdout",
     "output_type": "stream",
     "text": [
      "F1 Score No Optimization: 0.6751592356687898\n",
      "Optimized Model F1 Score:  0.7229\n"
     ]
    }
   ],
   "source": [
    "model_name = 'BaggingClassifier'\n",
    "n_opt_trials = 20\n",
    "df_results_new, model, feature_names = train_test_model(df_train=df_train, \n",
    "                                     df_test=df_test, \n",
    "                                     model_name=model_name, \n",
    "                                     models_func=models_func,\n",
    "                                     n_opt_trials=n_opt_trials)\n",
    "df_results = pd.concat([df_results, df_results_new], axis=0)"
   ]
  },
  {
   "cell_type": "markdown",
   "metadata": {},
   "source": [
    "### Gradient Boosting Classifier"
   ]
  },
  {
   "cell_type": "code",
   "execution_count": 17,
   "metadata": {},
   "outputs": [
    {
     "name": "stdout",
     "output_type": "stream",
     "text": [
      "F1 Score No Optimization: 0.6951219512195121\n",
      "Optimized Model F1 Score:  0.6909\n",
      "No Optimization has better f1 score than optimized model\n"
     ]
    }
   ],
   "source": [
    "model_name = 'GradientBoosting' \n",
    "n_opt_trials = 20\n",
    "df_results_new, model, feature_names = train_test_model(df_train=df_train, \n",
    "                                     df_test=df_test, \n",
    "                                     model_name=model_name, \n",
    "                                     models_func=models_func,\n",
    "                                     n_opt_trials=n_opt_trials)\n",
    "df_results = pd.concat([df_results, df_results_new], axis=0)"
   ]
  },
  {
   "cell_type": "code",
   "execution_count": 18,
   "metadata": {},
   "outputs": [
    {
     "data": {
      "application/vnd.microsoft.datawrangler.viewer.v0+json": {
       "columns": [
        {
         "name": "index",
         "rawType": "int64",
         "type": "integer"
        },
        {
         "name": "Model_Name",
         "rawType": "object",
         "type": "string"
        },
        {
         "name": "val_f1_score",
         "rawType": "float64",
         "type": "float"
        },
        {
         "name": "val_accuracy",
         "rawType": "float64",
         "type": "float"
        },
        {
         "name": "test_f1_score",
         "rawType": "float64",
         "type": "float"
        },
        {
         "name": "test_accuracy",
         "rawType": "float64",
         "type": "float"
        }
       ],
       "conversionMethod": "pd.DataFrame",
       "ref": "3c49bd39-8223-4920-b921-844f45c28065",
       "rows": [
        [
         "0",
         "LogisticRegression",
         "0.7354838709677419",
         "0.7806",
         "0.7202",
         "0.784"
        ],
        [
         "0",
         "KNeighborsClassifier",
         "0.5772",
         "0.6786",
         "0.5378",
         "0.67"
        ],
        [
         "0",
         "RandomForest",
         "0.7225806451612903",
         "0.7602",
         "0.7097",
         "0.766"
        ],
        [
         "0",
         "BaggingClassifier",
         "0.7229",
         "0.7653",
         "0.6869",
         "0.732"
        ],
        [
         "0",
         "GradientBoosting",
         "0.6951219512195121",
         "0.7398",
         "0.6981",
         "0.744"
        ]
       ],
       "shape": {
        "columns": 5,
        "rows": 5
       }
      },
      "text/html": [
       "<div>\n",
       "<style scoped>\n",
       "    .dataframe tbody tr th:only-of-type {\n",
       "        vertical-align: middle;\n",
       "    }\n",
       "\n",
       "    .dataframe tbody tr th {\n",
       "        vertical-align: top;\n",
       "    }\n",
       "\n",
       "    .dataframe thead th {\n",
       "        text-align: right;\n",
       "    }\n",
       "</style>\n",
       "<table border=\"1\" class=\"dataframe\">\n",
       "  <thead>\n",
       "    <tr style=\"text-align: right;\">\n",
       "      <th></th>\n",
       "      <th>Model_Name</th>\n",
       "      <th>val_f1_score</th>\n",
       "      <th>val_accuracy</th>\n",
       "      <th>test_f1_score</th>\n",
       "      <th>test_accuracy</th>\n",
       "    </tr>\n",
       "  </thead>\n",
       "  <tbody>\n",
       "    <tr>\n",
       "      <th>0</th>\n",
       "      <td>LogisticRegression</td>\n",
       "      <td>0.735484</td>\n",
       "      <td>0.7806</td>\n",
       "      <td>0.7202</td>\n",
       "      <td>0.784</td>\n",
       "    </tr>\n",
       "    <tr>\n",
       "      <th>0</th>\n",
       "      <td>KNeighborsClassifier</td>\n",
       "      <td>0.577200</td>\n",
       "      <td>0.6786</td>\n",
       "      <td>0.5378</td>\n",
       "      <td>0.670</td>\n",
       "    </tr>\n",
       "    <tr>\n",
       "      <th>0</th>\n",
       "      <td>RandomForest</td>\n",
       "      <td>0.722581</td>\n",
       "      <td>0.7602</td>\n",
       "      <td>0.7097</td>\n",
       "      <td>0.766</td>\n",
       "    </tr>\n",
       "    <tr>\n",
       "      <th>0</th>\n",
       "      <td>BaggingClassifier</td>\n",
       "      <td>0.722900</td>\n",
       "      <td>0.7653</td>\n",
       "      <td>0.6869</td>\n",
       "      <td>0.732</td>\n",
       "    </tr>\n",
       "    <tr>\n",
       "      <th>0</th>\n",
       "      <td>GradientBoosting</td>\n",
       "      <td>0.695122</td>\n",
       "      <td>0.7398</td>\n",
       "      <td>0.6981</td>\n",
       "      <td>0.744</td>\n",
       "    </tr>\n",
       "  </tbody>\n",
       "</table>\n",
       "</div>"
      ],
      "text/plain": [
       "             Model_Name  val_f1_score  val_accuracy  test_f1_score  \\\n",
       "0    LogisticRegression      0.735484        0.7806         0.7202   \n",
       "0  KNeighborsClassifier      0.577200        0.6786         0.5378   \n",
       "0          RandomForest      0.722581        0.7602         0.7097   \n",
       "0     BaggingClassifier      0.722900        0.7653         0.6869   \n",
       "0      GradientBoosting      0.695122        0.7398         0.6981   \n",
       "\n",
       "   test_accuracy  \n",
       "0          0.784  \n",
       "0          0.670  \n",
       "0          0.766  \n",
       "0          0.732  \n",
       "0          0.744  "
      ]
     },
     "execution_count": 18,
     "metadata": {},
     "output_type": "execute_result"
    }
   ],
   "source": [
    "df_results"
   ]
  },
  {
   "cell_type": "markdown",
   "metadata": {},
   "source": [
    "### Decision Tree"
   ]
  },
  {
   "cell_type": "code",
   "execution_count": 19,
   "metadata": {},
   "outputs": [
    {
     "name": "stdout",
     "output_type": "stream",
     "text": [
      "F1 Score No Optimization: 0.6190476190476191\n",
      "Optimized Model F1 Score:  0.686\n"
     ]
    }
   ],
   "source": [
    "model_name = 'DecisionTree'\n",
    "n_opt_trials = 20\n",
    "df_results_new, model, feature_names = train_test_model(df_train=df_train, \n",
    "                                     df_test=df_test, \n",
    "                                     model_name=model_name, \n",
    "                                     models_func=models_func,\n",
    "                                     n_opt_trials=n_opt_trials)\n",
    "df_results = pd.concat([df_results, df_results_new], axis=0)"
   ]
  },
  {
   "cell_type": "code",
   "execution_count": 20,
   "metadata": {},
   "outputs": [
    {
     "data": {
      "image/png": "[encoded data removed]",
      "text/plain": [
       "<Figure size 2000x1000 with 1 Axes>"
      ]
     },
     "metadata": {},
     "output_type": "display_data"
    }
   ],
   "source": [
    "plt.figure(figsize=(20, 10))\n",
    "plot_tree(model, filled=True, feature_names=feature_names, class_names=['0', '1'])\n",
    "plt.show()"
   ]
  },
  {
   "cell_type": "code",
   "execution_count": 21,
   "metadata": {},
   "outputs": [
    {
     "data": {
      "application/vnd.microsoft.datawrangler.viewer.v0+json": {
       "columns": [
        {
         "name": "index",
         "rawType": "int64",
         "type": "integer"
        },
        {
         "name": "Model_Name",
         "rawType": "object",
         "type": "string"
        },
        {
         "name": "val_f1_score",
         "rawType": "float64",
         "type": "float"
        },
        {
         "name": "val_accuracy",
         "rawType": "float64",
         "type": "float"
        },
        {
         "name": "test_f1_score",
         "rawType": "float64",
         "type": "float"
        },
        {
         "name": "test_accuracy",
         "rawType": "float64",
         "type": "float"
        }
       ],
       "conversionMethod": "pd.DataFrame",
       "ref": "68d34af6-ba40-4468-8d55-1b2c0ccaf839",
       "rows": [
        [
         "0",
         "LogisticRegression",
         "0.7354838709677419",
         "0.7806",
         "0.7202",
         "0.784"
        ],
        [
         "0",
         "KNeighborsClassifier",
         "0.5772",
         "0.6786",
         "0.5378",
         "0.67"
        ],
        [
         "0",
         "RandomForest",
         "0.7225806451612903",
         "0.7602",
         "0.7097",
         "0.766"
        ],
        [
         "0",
         "BaggingClassifier",
         "0.7229",
         "0.7653",
         "0.6869",
         "0.732"
        ],
        [
         "0",
         "GradientBoosting",
         "0.6951219512195121",
         "0.7398",
         "0.6981",
         "0.744"
        ],
        [
         "0",
         "DecisionTree",
         "0.686",
         "0.7245",
         "0.6465",
         "0.696"
        ]
       ],
       "shape": {
        "columns": 5,
        "rows": 6
       }
      },
      "text/html": [
       "<div>\n",
       "<style scoped>\n",
       "    .dataframe tbody tr th:only-of-type {\n",
       "        vertical-align: middle;\n",
       "    }\n",
       "\n",
       "    .dataframe tbody tr th {\n",
       "        vertical-align: top;\n",
       "    }\n",
       "\n",
       "    .dataframe thead th {\n",
       "        text-align: right;\n",
       "    }\n",
       "</style>\n",
       "<table border=\"1\" class=\"dataframe\">\n",
       "  <thead>\n",
       "    <tr style=\"text-align: right;\">\n",
       "      <th></th>\n",
       "      <th>Model_Name</th>\n",
       "      <th>val_f1_score</th>\n",
       "      <th>val_accuracy</th>\n",
       "      <th>test_f1_score</th>\n",
       "      <th>test_accuracy</th>\n",
       "    </tr>\n",
       "  </thead>\n",
       "  <tbody>\n",
       "    <tr>\n",
       "      <th>0</th>\n",
       "      <td>LogisticRegression</td>\n",
       "      <td>0.735484</td>\n",
       "      <td>0.7806</td>\n",
       "      <td>0.7202</td>\n",
       "      <td>0.784</td>\n",
       "    </tr>\n",
       "    <tr>\n",
       "      <th>0</th>\n",
       "      <td>KNeighborsClassifier</td>\n",
       "      <td>0.577200</td>\n",
       "      <td>0.6786</td>\n",
       "      <td>0.5378</td>\n",
       "      <td>0.670</td>\n",
       "    </tr>\n",
       "    <tr>\n",
       "      <th>0</th>\n",
       "      <td>RandomForest</td>\n",
       "      <td>0.722581</td>\n",
       "      <td>0.7602</td>\n",
       "      <td>0.7097</td>\n",
       "      <td>0.766</td>\n",
       "    </tr>\n",
       "    <tr>\n",
       "      <th>0</th>\n",
       "      <td>BaggingClassifier</td>\n",
       "      <td>0.722900</td>\n",
       "      <td>0.7653</td>\n",
       "      <td>0.6869</td>\n",
       "      <td>0.732</td>\n",
       "    </tr>\n",
       "    <tr>\n",
       "      <th>0</th>\n",
       "      <td>GradientBoosting</td>\n",
       "      <td>0.695122</td>\n",
       "      <td>0.7398</td>\n",
       "      <td>0.6981</td>\n",
       "      <td>0.744</td>\n",
       "    </tr>\n",
       "    <tr>\n",
       "      <th>0</th>\n",
       "      <td>DecisionTree</td>\n",
       "      <td>0.686000</td>\n",
       "      <td>0.7245</td>\n",
       "      <td>0.6465</td>\n",
       "      <td>0.696</td>\n",
       "    </tr>\n",
       "  </tbody>\n",
       "</table>\n",
       "</div>"
      ],
      "text/plain": [
       "             Model_Name  val_f1_score  val_accuracy  test_f1_score  \\\n",
       "0    LogisticRegression      0.735484        0.7806         0.7202   \n",
       "0  KNeighborsClassifier      0.577200        0.6786         0.5378   \n",
       "0          RandomForest      0.722581        0.7602         0.7097   \n",
       "0     BaggingClassifier      0.722900        0.7653         0.6869   \n",
       "0      GradientBoosting      0.695122        0.7398         0.6981   \n",
       "0          DecisionTree      0.686000        0.7245         0.6465   \n",
       "\n",
       "   test_accuracy  \n",
       "0          0.784  \n",
       "0          0.670  \n",
       "0          0.766  \n",
       "0          0.732  \n",
       "0          0.744  \n",
       "0          0.696  "
      ]
     },
     "execution_count": 21,
     "metadata": {},
     "output_type": "execute_result"
    }
   ],
   "source": [
    "df_results"
   ]
  },
  {
   "cell_type": "markdown",
   "metadata": {},
   "source": [
    "### AdaBoost"
   ]
  },
  {
   "cell_type": "code",
   "execution_count": 22,
   "metadata": {},
   "outputs": [
    {
     "name": "stdout",
     "output_type": "stream",
     "text": [
      "F1 Score No Optimization: 0.6666666666666666\n",
      "Optimized Model F1 Score:  0.6494\n",
      "No Optimization has better f1 score than optimized model\n"
     ]
    }
   ],
   "source": [
    "model_name = 'AdaBoost'\n",
    "n_opt_trials = 20\n",
    "df_results_new, model, feature_names = train_test_model(df_train=df_train, \n",
    "                                     df_test=df_test, \n",
    "                                     model_name=model_name, \n",
    "                                     models_func=models_func,\n",
    "                                     n_opt_trials=n_opt_trials)\n",
    "df_results = pd.concat([df_results, df_results_new], axis=0)"
   ]
  },
  {
   "cell_type": "code",
   "execution_count": 23,
   "metadata": {},
   "outputs": [
    {
     "data": {
      "application/vnd.microsoft.datawrangler.viewer.v0+json": {
       "columns": [
        {
         "name": "index",
         "rawType": "int64",
         "type": "integer"
        },
        {
         "name": "Model_Name",
         "rawType": "object",
         "type": "string"
        },
        {
         "name": "val_f1_score",
         "rawType": "float64",
         "type": "float"
        },
        {
         "name": "val_accuracy",
         "rawType": "float64",
         "type": "float"
        },
        {
         "name": "test_f1_score",
         "rawType": "float64",
         "type": "float"
        },
        {
         "name": "test_accuracy",
         "rawType": "float64",
         "type": "float"
        }
       ],
       "conversionMethod": "pd.DataFrame",
       "ref": "0ef2f9cc-ecfc-4be3-a55f-14f64f3650a7",
       "rows": [
        [
         "0",
         "LogisticRegression",
         "0.7354838709677419",
         "0.7806",
         "0.7202",
         "0.784"
        ],
        [
         "0",
         "KNeighborsClassifier",
         "0.5772",
         "0.6786",
         "0.5378",
         "0.67"
        ],
        [
         "0",
         "RandomForest",
         "0.7225806451612903",
         "0.7602",
         "0.7097",
         "0.766"
        ],
        [
         "0",
         "BaggingClassifier",
         "0.7229",
         "0.7653",
         "0.6869",
         "0.732"
        ],
        [
         "0",
         "GradientBoosting",
         "0.6951219512195121",
         "0.7398",
         "0.6981",
         "0.744"
        ],
        [
         "0",
         "DecisionTree",
         "0.686",
         "0.7245",
         "0.6465",
         "0.696"
        ],
        [
         "0",
         "AdaBoost",
         "0.6666666666666666",
         "0.7245",
         "0.6699",
         "0.728"
        ]
       ],
       "shape": {
        "columns": 5,
        "rows": 7
       }
      },
      "text/html": [
       "<div>\n",
       "<style scoped>\n",
       "    .dataframe tbody tr th:only-of-type {\n",
       "        vertical-align: middle;\n",
       "    }\n",
       "\n",
       "    .dataframe tbody tr th {\n",
       "        vertical-align: top;\n",
       "    }\n",
       "\n",
       "    .dataframe thead th {\n",
       "        text-align: right;\n",
       "    }\n",
       "</style>\n",
       "<table border=\"1\" class=\"dataframe\">\n",
       "  <thead>\n",
       "    <tr style=\"text-align: right;\">\n",
       "      <th></th>\n",
       "      <th>Model_Name</th>\n",
       "      <th>val_f1_score</th>\n",
       "      <th>val_accuracy</th>\n",
       "      <th>test_f1_score</th>\n",
       "      <th>test_accuracy</th>\n",
       "    </tr>\n",
       "  </thead>\n",
       "  <tbody>\n",
       "    <tr>\n",
       "      <th>0</th>\n",
       "      <td>LogisticRegression</td>\n",
       "      <td>0.735484</td>\n",
       "      <td>0.7806</td>\n",
       "      <td>0.7202</td>\n",
       "      <td>0.784</td>\n",
       "    </tr>\n",
       "    <tr>\n",
       "      <th>0</th>\n",
       "      <td>KNeighborsClassifier</td>\n",
       "      <td>0.577200</td>\n",
       "      <td>0.6786</td>\n",
       "      <td>0.5378</td>\n",
       "      <td>0.670</td>\n",
       "    </tr>\n",
       "    <tr>\n",
       "      <th>0</th>\n",
       "      <td>RandomForest</td>\n",
       "      <td>0.722581</td>\n",
       "      <td>0.7602</td>\n",
       "      <td>0.7097</td>\n",
       "      <td>0.766</td>\n",
       "    </tr>\n",
       "    <tr>\n",
       "      <th>0</th>\n",
       "      <td>BaggingClassifier</td>\n",
       "      <td>0.722900</td>\n",
       "      <td>0.7653</td>\n",
       "      <td>0.6869</td>\n",
       "      <td>0.732</td>\n",
       "    </tr>\n",
       "    <tr>\n",
       "      <th>0</th>\n",
       "      <td>GradientBoosting</td>\n",
       "      <td>0.695122</td>\n",
       "      <td>0.7398</td>\n",
       "      <td>0.6981</td>\n",
       "      <td>0.744</td>\n",
       "    </tr>\n",
       "    <tr>\n",
       "      <th>0</th>\n",
       "      <td>DecisionTree</td>\n",
       "      <td>0.686000</td>\n",
       "      <td>0.7245</td>\n",
       "      <td>0.6465</td>\n",
       "      <td>0.696</td>\n",
       "    </tr>\n",
       "    <tr>\n",
       "      <th>0</th>\n",
       "      <td>AdaBoost</td>\n",
       "      <td>0.666667</td>\n",
       "      <td>0.7245</td>\n",
       "      <td>0.6699</td>\n",
       "      <td>0.728</td>\n",
       "    </tr>\n",
       "  </tbody>\n",
       "</table>\n",
       "</div>"
      ],
      "text/plain": [
       "             Model_Name  val_f1_score  val_accuracy  test_f1_score  \\\n",
       "0    LogisticRegression      0.735484        0.7806         0.7202   \n",
       "0  KNeighborsClassifier      0.577200        0.6786         0.5378   \n",
       "0          RandomForest      0.722581        0.7602         0.7097   \n",
       "0     BaggingClassifier      0.722900        0.7653         0.6869   \n",
       "0      GradientBoosting      0.695122        0.7398         0.6981   \n",
       "0          DecisionTree      0.686000        0.7245         0.6465   \n",
       "0              AdaBoost      0.666667        0.7245         0.6699   \n",
       "\n",
       "   test_accuracy  \n",
       "0          0.784  \n",
       "0          0.670  \n",
       "0          0.766  \n",
       "0          0.732  \n",
       "0          0.744  \n",
       "0          0.696  \n",
       "0          0.728  "
      ]
     },
     "execution_count": 23,
     "metadata": {},
     "output_type": "execute_result"
    }
   ],
   "source": [
    "df_results"
   ]
  },
  {
   "cell_type": "markdown",
   "metadata": {},
   "source": [
    "### Support Vector Machine Classifier"
   ]
  },
  {
   "cell_type": "code",
   "execution_count": 24,
   "metadata": {},
   "outputs": [
    {
     "name": "stdout",
     "output_type": "stream",
     "text": [
      "F1 Score No Optimization: 0.5\n",
      "Optimized Model F1 Score:  0.5\n"
     ]
    }
   ],
   "source": [
    "model_name = 'SVC'\n",
    "n_opt_trials = 20\n",
    "df_results_new, model, feature_names = train_test_model(df_train=df_train, \n",
    "                                     df_test=df_test, \n",
    "                                     model_name=model_name, \n",
    "                                     models_func=models_func,\n",
    "                                     n_opt_trials=n_opt_trials)\n",
    "df_results = pd.concat([df_results, df_results_new], axis=0)"
   ]
  },
  {
   "cell_type": "code",
   "execution_count": 25,
   "metadata": {},
   "outputs": [
    {
     "data": {
      "application/vnd.microsoft.datawrangler.viewer.v0+json": {
       "columns": [
        {
         "name": "index",
         "rawType": "int64",
         "type": "integer"
        },
        {
         "name": "Model_Name",
         "rawType": "object",
         "type": "string"
        },
        {
         "name": "val_f1_score",
         "rawType": "float64",
         "type": "float"
        },
        {
         "name": "val_accuracy",
         "rawType": "float64",
         "type": "float"
        },
        {
         "name": "test_f1_score",
         "rawType": "float64",
         "type": "float"
        },
        {
         "name": "test_accuracy",
         "rawType": "float64",
         "type": "float"
        }
       ],
       "conversionMethod": "pd.DataFrame",
       "ref": "6bf677ef-15f7-4b3d-893e-fe71c68dff60",
       "rows": [
        [
         "0",
         "LogisticRegression",
         "0.7354838709677419",
         "0.7806",
         "0.7202",
         "0.784"
        ],
        [
         "0",
         "KNeighborsClassifier",
         "0.5772",
         "0.6786",
         "0.5378",
         "0.67"
        ],
        [
         "0",
         "RandomForest",
         "0.7225806451612903",
         "0.7602",
         "0.7097",
         "0.766"
        ],
        [
         "0",
         "BaggingClassifier",
         "0.7229",
         "0.7653",
         "0.6869",
         "0.732"
        ],
        [
         "0",
         "GradientBoosting",
         "0.6951219512195121",
         "0.7398",
         "0.6981",
         "0.744"
        ],
        [
         "0",
         "DecisionTree",
         "0.686",
         "0.7245",
         "0.6465",
         "0.696"
        ],
        [
         "0",
         "AdaBoost",
         "0.6666666666666666",
         "0.7245",
         "0.6699",
         "0.728"
        ],
        [
         "0",
         "SVC",
         "0.5",
         "0.6633",
         "0.4641",
         "0.672"
        ]
       ],
       "shape": {
        "columns": 5,
        "rows": 8
       }
      },
      "text/html": [
       "<div>\n",
       "<style scoped>\n",
       "    .dataframe tbody tr th:only-of-type {\n",
       "        vertical-align: middle;\n",
       "    }\n",
       "\n",
       "    .dataframe tbody tr th {\n",
       "        vertical-align: top;\n",
       "    }\n",
       "\n",
       "    .dataframe thead th {\n",
       "        text-align: right;\n",
       "    }\n",
       "</style>\n",
       "<table border=\"1\" class=\"dataframe\">\n",
       "  <thead>\n",
       "    <tr style=\"text-align: right;\">\n",
       "      <th></th>\n",
       "      <th>Model_Name</th>\n",
       "      <th>val_f1_score</th>\n",
       "      <th>val_accuracy</th>\n",
       "      <th>test_f1_score</th>\n",
       "      <th>test_accuracy</th>\n",
       "    </tr>\n",
       "  </thead>\n",
       "  <tbody>\n",
       "    <tr>\n",
       "      <th>0</th>\n",
       "      <td>LogisticRegression</td>\n",
       "      <td>0.735484</td>\n",
       "      <td>0.7806</td>\n",
       "      <td>0.7202</td>\n",
       "      <td>0.784</td>\n",
       "    </tr>\n",
       "    <tr>\n",
       "      <th>0</th>\n",
       "      <td>KNeighborsClassifier</td>\n",
       "      <td>0.577200</td>\n",
       "      <td>0.6786</td>\n",
       "      <td>0.5378</td>\n",
       "      <td>0.670</td>\n",
       "    </tr>\n",
       "    <tr>\n",
       "      <th>0</th>\n",
       "      <td>RandomForest</td>\n",
       "      <td>0.722581</td>\n",
       "      <td>0.7602</td>\n",
       "      <td>0.7097</td>\n",
       "      <td>0.766</td>\n",
       "    </tr>\n",
       "    <tr>\n",
       "      <th>0</th>\n",
       "      <td>BaggingClassifier</td>\n",
       "      <td>0.722900</td>\n",
       "      <td>0.7653</td>\n",
       "      <td>0.6869</td>\n",
       "      <td>0.732</td>\n",
       "    </tr>\n",
       "    <tr>\n",
       "      <th>0</th>\n",
       "      <td>GradientBoosting</td>\n",
       "      <td>0.695122</td>\n",
       "      <td>0.7398</td>\n",
       "      <td>0.6981</td>\n",
       "      <td>0.744</td>\n",
       "    </tr>\n",
       "    <tr>\n",
       "      <th>0</th>\n",
       "      <td>DecisionTree</td>\n",
       "      <td>0.686000</td>\n",
       "      <td>0.7245</td>\n",
       "      <td>0.6465</td>\n",
       "      <td>0.696</td>\n",
       "    </tr>\n",
       "    <tr>\n",
       "      <th>0</th>\n",
       "      <td>AdaBoost</td>\n",
       "      <td>0.666667</td>\n",
       "      <td>0.7245</td>\n",
       "      <td>0.6699</td>\n",
       "      <td>0.728</td>\n",
       "    </tr>\n",
       "    <tr>\n",
       "      <th>0</th>\n",
       "      <td>SVC</td>\n",
       "      <td>0.500000</td>\n",
       "      <td>0.6633</td>\n",
       "      <td>0.4641</td>\n",
       "      <td>0.672</td>\n",
       "    </tr>\n",
       "  </tbody>\n",
       "</table>\n",
       "</div>"
      ],
      "text/plain": [
       "             Model_Name  val_f1_score  val_accuracy  test_f1_score  \\\n",
       "0    LogisticRegression      0.735484        0.7806         0.7202   \n",
       "0  KNeighborsClassifier      0.577200        0.6786         0.5378   \n",
       "0          RandomForest      0.722581        0.7602         0.7097   \n",
       "0     BaggingClassifier      0.722900        0.7653         0.6869   \n",
       "0      GradientBoosting      0.695122        0.7398         0.6981   \n",
       "0          DecisionTree      0.686000        0.7245         0.6465   \n",
       "0              AdaBoost      0.666667        0.7245         0.6699   \n",
       "0                   SVC      0.500000        0.6633         0.4641   \n",
       "\n",
       "   test_accuracy  \n",
       "0          0.784  \n",
       "0          0.670  \n",
       "0          0.766  \n",
       "0          0.732  \n",
       "0          0.744  \n",
       "0          0.696  \n",
       "0          0.728  \n",
       "0          0.672  "
      ]
     },
     "execution_count": 25,
     "metadata": {},
     "output_type": "execute_result"
    }
   ],
   "source": [
    "df_results"
   ]
  },
  {
   "cell_type": "markdown",
   "metadata": {},
   "source": [
    "### LGBM Classifier"
   ]
  },
  {
   "cell_type": "code",
   "execution_count": 26,
   "metadata": {},
   "outputs": [
    {
     "name": "stdout",
     "output_type": "stream",
     "text": [
      "F1 Score No Optimization: 0.7261904761904762\n",
      "Best hyperparameters from optuna: {'learning_rate': 0.04589121276673397, 'num_leaves': 117, 'subsample': 0.2968619611958265, 'colsample_bytree': 0.329818159886545, 'min_data_in_leaf': 61}\n",
      "Best f1_score from optuna: 0.7407407407407407\n",
      "Optimized Model F1 Score:  0.6962\n",
      "No Optimization has better f1 score than optimized model\n"
     ]
    }
   ],
   "source": [
    "model_name = 'LGBM'\n",
    "n_opt_trials = 20\n",
    "df_results_new, model, feature_names = train_test_model(df_train=df_train, \n",
    "                                     df_test=df_test, \n",
    "                                     model_name=model_name, \n",
    "                                     models_func=models_func,\n",
    "                                     n_opt_trials=n_opt_trials)\n",
    "df_results = pd.concat([df_results, df_results_new], axis=0)\n"
   ]
  },
  {
   "cell_type": "code",
   "execution_count": 27,
   "metadata": {},
   "outputs": [
    {
     "data": {
      "text/plain": [
       "<Figure size 1000x800 with 0 Axes>"
      ]
     },
     "metadata": {},
     "output_type": "display_data"
    },
    {
     "data": {
      "image/png": "[encoded data removed]",
      "text/plain": [
       "<Figure size 640x480 with 1 Axes>"
      ]
     },
     "metadata": {},
     "output_type": "display_data"
    }
   ],
   "source": [
    "import lightgbm as lgb\n",
    "\n",
    "# Plot feature importance\n",
    "plt.figure(figsize=(10, 8))\n",
    "lgb.plot_importance(model, max_num_features=20, importance_type='gain')\n",
    "plt.title('Feature Importance LightGBM')\n",
    "plt.show()"
   ]
  },
  {
   "cell_type": "code",
   "execution_count": 28,
   "metadata": {},
   "outputs": [
    {
     "data": {
      "application/vnd.microsoft.datawrangler.viewer.v0+json": {
       "columns": [
        {
         "name": "index",
         "rawType": "int64",
         "type": "integer"
        },
        {
         "name": "Model_Name",
         "rawType": "object",
         "type": "string"
        },
        {
         "name": "val_f1_score",
         "rawType": "float64",
         "type": "float"
        },
        {
         "name": "val_accuracy",
         "rawType": "float64",
         "type": "float"
        },
        {
         "name": "test_f1_score",
         "rawType": "float64",
         "type": "float"
        },
        {
         "name": "test_accuracy",
         "rawType": "float64",
         "type": "float"
        }
       ],
       "conversionMethod": "pd.DataFrame",
       "ref": "af0fb8fa-59b3-4810-8f0a-fd16eea19fda",
       "rows": [
        [
         "0",
         "LogisticRegression",
         "0.7354838709677419",
         "0.7806",
         "0.7202",
         "0.784"
        ],
        [
         "0",
         "KNeighborsClassifier",
         "0.5772",
         "0.6786",
         "0.5378",
         "0.67"
        ],
        [
         "0",
         "RandomForest",
         "0.7225806451612903",
         "0.7602",
         "0.7097",
         "0.766"
        ],
        [
         "0",
         "BaggingClassifier",
         "0.7229",
         "0.7653",
         "0.6869",
         "0.732"
        ],
        [
         "0",
         "GradientBoosting",
         "0.6951219512195121",
         "0.7398",
         "0.6981",
         "0.744"
        ],
        [
         "0",
         "DecisionTree",
         "0.686",
         "0.7245",
         "0.6465",
         "0.696"
        ],
        [
         "0",
         "AdaBoost",
         "0.6666666666666666",
         "0.7245",
         "0.6699",
         "0.728"
        ],
        [
         "0",
         "SVC",
         "0.5",
         "0.6633",
         "0.4641",
         "0.672"
        ],
        [
         "0",
         "LGBM",
         "0.7261904761904762",
         "0.7551",
         "0.7019",
         "0.752"
        ]
       ],
       "shape": {
        "columns": 5,
        "rows": 9
       }
      },
      "text/html": [
       "<div>\n",
       "<style scoped>\n",
       "    .dataframe tbody tr th:only-of-type {\n",
       "        vertical-align: middle;\n",
       "    }\n",
       "\n",
       "    .dataframe tbody tr th {\n",
       "        vertical-align: top;\n",
       "    }\n",
       "\n",
       "    .dataframe thead th {\n",
       "        text-align: right;\n",
       "    }\n",
       "</style>\n",
       "<table border=\"1\" class=\"dataframe\">\n",
       "  <thead>\n",
       "    <tr style=\"text-align: right;\">\n",
       "      <th></th>\n",
       "      <th>Model_Name</th>\n",
       "      <th>val_f1_score</th>\n",
       "      <th>val_accuracy</th>\n",
       "      <th>test_f1_score</th>\n",
       "      <th>test_accuracy</th>\n",
       "    </tr>\n",
       "  </thead>\n",
       "  <tbody>\n",
       "    <tr>\n",
       "      <th>0</th>\n",
       "      <td>LogisticRegression</td>\n",
       "      <td>0.735484</td>\n",
       "      <td>0.7806</td>\n",
       "      <td>0.7202</td>\n",
       "      <td>0.784</td>\n",
       "    </tr>\n",
       "    <tr>\n",
       "      <th>0</th>\n",
       "      <td>KNeighborsClassifier</td>\n",
       "      <td>0.577200</td>\n",
       "      <td>0.6786</td>\n",
       "      <td>0.5378</td>\n",
       "      <td>0.670</td>\n",
       "    </tr>\n",
       "    <tr>\n",
       "      <th>0</th>\n",
       "      <td>RandomForest</td>\n",
       "      <td>0.722581</td>\n",
       "      <td>0.7602</td>\n",
       "      <td>0.7097</td>\n",
       "      <td>0.766</td>\n",
       "    </tr>\n",
       "    <tr>\n",
       "      <th>0</th>\n",
       "      <td>BaggingClassifier</td>\n",
       "      <td>0.722900</td>\n",
       "      <td>0.7653</td>\n",
       "      <td>0.6869</td>\n",
       "      <td>0.732</td>\n",
       "    </tr>\n",
       "    <tr>\n",
       "      <th>0</th>\n",
       "      <td>GradientBoosting</td>\n",
       "      <td>0.695122</td>\n",
       "      <td>0.7398</td>\n",
       "      <td>0.6981</td>\n",
       "      <td>0.744</td>\n",
       "    </tr>\n",
       "    <tr>\n",
       "      <th>0</th>\n",
       "      <td>DecisionTree</td>\n",
       "      <td>0.686000</td>\n",
       "      <td>0.7245</td>\n",
       "      <td>0.6465</td>\n",
       "      <td>0.696</td>\n",
       "    </tr>\n",
       "    <tr>\n",
       "      <th>0</th>\n",
       "      <td>AdaBoost</td>\n",
       "      <td>0.666667</td>\n",
       "      <td>0.7245</td>\n",
       "      <td>0.6699</td>\n",
       "      <td>0.728</td>\n",
       "    </tr>\n",
       "    <tr>\n",
       "      <th>0</th>\n",
       "      <td>SVC</td>\n",
       "      <td>0.500000</td>\n",
       "      <td>0.6633</td>\n",
       "      <td>0.4641</td>\n",
       "      <td>0.672</td>\n",
       "    </tr>\n",
       "    <tr>\n",
       "      <th>0</th>\n",
       "      <td>LGBM</td>\n",
       "      <td>0.726190</td>\n",
       "      <td>0.7551</td>\n",
       "      <td>0.7019</td>\n",
       "      <td>0.752</td>\n",
       "    </tr>\n",
       "  </tbody>\n",
       "</table>\n",
       "</div>"
      ],
      "text/plain": [
       "             Model_Name  val_f1_score  val_accuracy  test_f1_score  \\\n",
       "0    LogisticRegression      0.735484        0.7806         0.7202   \n",
       "0  KNeighborsClassifier      0.577200        0.6786         0.5378   \n",
       "0          RandomForest      0.722581        0.7602         0.7097   \n",
       "0     BaggingClassifier      0.722900        0.7653         0.6869   \n",
       "0      GradientBoosting      0.695122        0.7398         0.6981   \n",
       "0          DecisionTree      0.686000        0.7245         0.6465   \n",
       "0              AdaBoost      0.666667        0.7245         0.6699   \n",
       "0                   SVC      0.500000        0.6633         0.4641   \n",
       "0                  LGBM      0.726190        0.7551         0.7019   \n",
       "\n",
       "   test_accuracy  \n",
       "0          0.784  \n",
       "0          0.670  \n",
       "0          0.766  \n",
       "0          0.732  \n",
       "0          0.744  \n",
       "0          0.696  \n",
       "0          0.728  \n",
       "0          0.672  \n",
       "0          0.752  "
      ]
     },
     "execution_count": 28,
     "metadata": {},
     "output_type": "execute_result"
    }
   ],
   "source": [
    "df_results"
   ]
  },
  {
   "cell_type": "markdown",
   "metadata": {},
   "source": [
    "### Featur Tokenizer Transformer\n",
    "\n",
    "Ref: https://arxiv.org/pdf/2106.11959\n",
    "\n",
    "In order to run the Deep Learning Feature Tokenizer Transformer. Create environment for deep learning:\n",
    "\n",
    "```bash\n",
    "python -m venv .venv\n",
    "source .venv/bin/activate\n",
    "pip install -r requirements_deep_learning.txt\n",
    "```\n",
    "\n",
    "Then run the file: \n",
    "\n",
    "```bash\n",
    "python FTT_Tabular_optuna.py\n",
    "```"
   ]
  },
  {
   "cell_type": "code",
   "execution_count": 29,
   "metadata": {},
   "outputs": [],
   "source": [
    "import pickle\n",
    "with open(os.path.join(\"../../data/processed/ftt_model_results_optuna.pkl\"), \"rb\") as f:\n",
    "    df_results_new = pickle.load(f)"
   ]
  },
  {
   "cell_type": "code",
   "execution_count": 30,
   "metadata": {},
   "outputs": [],
   "source": [
    "df_results = pd.concat([df_results, df_results_new], axis=0)"
   ]
  },
  {
   "cell_type": "code",
   "execution_count": 31,
   "metadata": {},
   "outputs": [
    {
     "data": {
      "application/vnd.microsoft.datawrangler.viewer.v0+json": {
       "columns": [
        {
         "name": "index",
         "rawType": "int64",
         "type": "integer"
        },
        {
         "name": "Model_Name",
         "rawType": "object",
         "type": "string"
        },
        {
         "name": "val_f1_score",
         "rawType": "float64",
         "type": "float"
        },
        {
         "name": "val_accuracy",
         "rawType": "float64",
         "type": "float"
        },
        {
         "name": "test_f1_score",
         "rawType": "float64",
         "type": "float"
        },
        {
         "name": "test_accuracy",
         "rawType": "float64",
         "type": "float"
        }
       ],
       "conversionMethod": "pd.DataFrame",
       "ref": "0f0d3bb8-ee2f-4e8b-b761-7d53ff707df7",
       "rows": [
        [
         "0",
         "LogisticRegression",
         "0.7354838709677419",
         "0.7806",
         "0.7202",
         "0.784"
        ],
        [
         "0",
         "KNeighborsClassifier",
         "0.5772",
         "0.6786",
         "0.5378",
         "0.67"
        ],
        [
         "0",
         "RandomForest",
         "0.7225806451612903",
         "0.7602",
         "0.7097",
         "0.766"
        ],
        [
         "0",
         "BaggingClassifier",
         "0.7229",
         "0.7653",
         "0.6869",
         "0.732"
        ],
        [
         "0",
         "GradientBoosting",
         "0.6951219512195121",
         "0.7398",
         "0.6981",
         "0.744"
        ],
        [
         "0",
         "DecisionTree",
         "0.686",
         "0.7245",
         "0.6465",
         "0.696"
        ],
        [
         "0",
         "AdaBoost",
         "0.6666666666666666",
         "0.7245",
         "0.6699",
         "0.728"
        ],
        [
         "0",
         "SVC",
         "0.5",
         "0.6633",
         "0.4641",
         "0.672"
        ],
        [
         "0",
         "LGBM",
         "0.7261904761904762",
         "0.7551",
         "0.7019",
         "0.752"
        ],
        [
         "0",
         "FTTabular",
         "0.7831",
         "0.8163",
         "0.7585",
         "0.8"
        ]
       ],
       "shape": {
        "columns": 5,
        "rows": 10
       }
      },
      "text/html": [
       "<div>\n",
       "<style scoped>\n",
       "    .dataframe tbody tr th:only-of-type {\n",
       "        vertical-align: middle;\n",
       "    }\n",
       "\n",
       "    .dataframe tbody tr th {\n",
       "        vertical-align: top;\n",
       "    }\n",
       "\n",
       "    .dataframe thead th {\n",
       "        text-align: right;\n",
       "    }\n",
       "</style>\n",
       "<table border=\"1\" class=\"dataframe\">\n",
       "  <thead>\n",
       "    <tr style=\"text-align: right;\">\n",
       "      <th></th>\n",
       "      <th>Model_Name</th>\n",
       "      <th>val_f1_score</th>\n",
       "      <th>val_accuracy</th>\n",
       "      <th>test_f1_score</th>\n",
       "      <th>test_accuracy</th>\n",
       "    </tr>\n",
       "  </thead>\n",
       "  <tbody>\n",
       "    <tr>\n",
       "      <th>0</th>\n",
       "      <td>LogisticRegression</td>\n",
       "      <td>0.735484</td>\n",
       "      <td>0.7806</td>\n",
       "      <td>0.7202</td>\n",
       "      <td>0.784</td>\n",
       "    </tr>\n",
       "    <tr>\n",
       "      <th>0</th>\n",
       "      <td>KNeighborsClassifier</td>\n",
       "      <td>0.577200</td>\n",
       "      <td>0.6786</td>\n",
       "      <td>0.5378</td>\n",
       "      <td>0.670</td>\n",
       "    </tr>\n",
       "    <tr>\n",
       "      <th>0</th>\n",
       "      <td>RandomForest</td>\n",
       "      <td>0.722581</td>\n",
       "      <td>0.7602</td>\n",
       "      <td>0.7097</td>\n",
       "      <td>0.766</td>\n",
       "    </tr>\n",
       "    <tr>\n",
       "      <th>0</th>\n",
       "      <td>BaggingClassifier</td>\n",
       "      <td>0.722900</td>\n",
       "      <td>0.7653</td>\n",
       "      <td>0.6869</td>\n",
       "      <td>0.732</td>\n",
       "    </tr>\n",
       "    <tr>\n",
       "      <th>0</th>\n",
       "      <td>GradientBoosting</td>\n",
       "      <td>0.695122</td>\n",
       "      <td>0.7398</td>\n",
       "      <td>0.6981</td>\n",
       "      <td>0.744</td>\n",
       "    </tr>\n",
       "    <tr>\n",
       "      <th>0</th>\n",
       "      <td>DecisionTree</td>\n",
       "      <td>0.686000</td>\n",
       "      <td>0.7245</td>\n",
       "      <td>0.6465</td>\n",
       "      <td>0.696</td>\n",
       "    </tr>\n",
       "    <tr>\n",
       "      <th>0</th>\n",
       "      <td>AdaBoost</td>\n",
       "      <td>0.666667</td>\n",
       "      <td>0.7245</td>\n",
       "      <td>0.6699</td>\n",
       "      <td>0.728</td>\n",
       "    </tr>\n",
       "    <tr>\n",
       "      <th>0</th>\n",
       "      <td>SVC</td>\n",
       "      <td>0.500000</td>\n",
       "      <td>0.6633</td>\n",
       "      <td>0.4641</td>\n",
       "      <td>0.672</td>\n",
       "    </tr>\n",
       "    <tr>\n",
       "      <th>0</th>\n",
       "      <td>LGBM</td>\n",
       "      <td>0.726190</td>\n",
       "      <td>0.7551</td>\n",
       "      <td>0.7019</td>\n",
       "      <td>0.752</td>\n",
       "    </tr>\n",
       "    <tr>\n",
       "      <th>0</th>\n",
       "      <td>FTTabular</td>\n",
       "      <td>0.783100</td>\n",
       "      <td>0.8163</td>\n",
       "      <td>0.7585</td>\n",
       "      <td>0.800</td>\n",
       "    </tr>\n",
       "  </tbody>\n",
       "</table>\n",
       "</div>"
      ],
      "text/plain": [
       "             Model_Name  val_f1_score  val_accuracy  test_f1_score  \\\n",
       "0    LogisticRegression      0.735484        0.7806         0.7202   \n",
       "0  KNeighborsClassifier      0.577200        0.6786         0.5378   \n",
       "0          RandomForest      0.722581        0.7602         0.7097   \n",
       "0     BaggingClassifier      0.722900        0.7653         0.6869   \n",
       "0      GradientBoosting      0.695122        0.7398         0.6981   \n",
       "0          DecisionTree      0.686000        0.7245         0.6465   \n",
       "0              AdaBoost      0.666667        0.7245         0.6699   \n",
       "0                   SVC      0.500000        0.6633         0.4641   \n",
       "0                  LGBM      0.726190        0.7551         0.7019   \n",
       "0             FTTabular      0.783100        0.8163         0.7585   \n",
       "\n",
       "   test_accuracy  \n",
       "0          0.784  \n",
       "0          0.670  \n",
       "0          0.766  \n",
       "0          0.732  \n",
       "0          0.744  \n",
       "0          0.696  \n",
       "0          0.728  \n",
       "0          0.672  \n",
       "0          0.752  \n",
       "0          0.800  "
      ]
     },
     "execution_count": 31,
     "metadata": {},
     "output_type": "execute_result"
    }
   ],
   "source": [
    "df_results"
   ]
  },
  {
   "cell_type": "markdown",
   "metadata": {},
   "source": [
    "## Results"
   ]
  },
  {
   "cell_type": "code",
   "execution_count": 32,
   "metadata": {},
   "outputs": [
    {
     "data": {
      "image/png": "[encoded data removed]",
      "text/plain": [
       "<Figure size 1500x600 with 1 Axes>"
      ]
     },
     "metadata": {},
     "output_type": "display_data"
    }
   ],
   "source": [
    "plt.figure(figsize=(15, 6))\n",
    "\n",
    "bar_height = 0.4\n",
    "y = range(len(df_results))\n",
    "\n",
    "# Bars for Accuracy\n",
    "plt.barh(y, df_results['val_accuracy'], height=bar_height, color='cornflowerblue', label='Accuracy')\n",
    "for i, value in enumerate(df_results['val_accuracy']):\n",
    "    plt.text(value + 0.001, i, f'{value:.3f}', va='center', fontsize=10)  # Adds label to Accuracy bars\n",
    "\n",
    "# Bars for F1-Score (shifted downward)\n",
    "plt.barh([pos + bar_height for pos in y], df_results['val_f1_score'], height=bar_height, color='lightcoral', label='F1-Score')\n",
    "for i, value in enumerate(df_results['val_f1_score']):\n",
    "    plt.text(value + 0.001, i + bar_height, f'{value:.3f}', va='center', fontsize=10)  # Adds label to F1-Score bars\n",
    "\n",
    "# Customize axis labels and title\n",
    "plt.ylabel('Model Name')\n",
    "plt.xlabel('Score')\n",
    "plt.yticks([pos + bar_height / 2 for pos in y], df_results['Model_Name'])\n",
    "plt.title('Comparison of Accuracy and F1-Score for Validation Dataset (20 % of Training Data)')\n",
    "plt.legend()\n",
    "plt.gca().invert_yaxis()\n",
    "plt.xlim(0.5, 0.9) \n",
    "plt.tight_layout()\n",
    "plt.show()"
   ]
  },
  {
   "cell_type": "markdown",
   "metadata": {},
   "source": [
    "We used for validation dataset 20% of the data from the file **train**. The best performing model in the validation set is FTTabular with an Accuracy of **0.816%** and F1-Score **0.783**. Followed by the LightGBM model with an accuracy of **0.786** and F1-Score of **0.731**. The worst performing model was the Support Vector Classifier. "
   ]
  },
  {
   "cell_type": "code",
   "execution_count": 33,
   "metadata": {},
   "outputs": [
    {
     "data": {
      "image/png": "[encoded data removed]",
      "text/plain": [
       "<Figure size 1500x600 with 1 Axes>"
      ]
     },
     "metadata": {},
     "output_type": "display_data"
    }
   ],
   "source": [
    "plt.figure(figsize=(15, 6))\n",
    "\n",
    "bar_height = 0.4\n",
    "y = range(len(df_results))\n",
    "\n",
    "# Bars for Accuracy\n",
    "plt.barh(y, df_results['test_accuracy'], height=bar_height, color='cornflowerblue', label='Accuracy')\n",
    "for i, value in enumerate(df_results['test_accuracy']):\n",
    "    plt.text(value + 0.001, i, f'{value:.3f}', va='center', fontsize=10)  # Adds label to Accuracy bars\n",
    "\n",
    "# Bars for F1-Score (shifted downward)\n",
    "plt.barh([pos + bar_height for pos in y], df_results['test_f1_score'], height=bar_height, color='lightcoral', label='F1-Score')\n",
    "for i, value in enumerate(df_results['test_f1_score']):\n",
    "    plt.text(value + 0.001, i + bar_height, f'{value:.3f}', va='center', fontsize=10)  # Adds label to F1-Score bars\n",
    "\n",
    "# Customize axis labels and title\n",
    "plt.ylabel('Model Name')\n",
    "plt.xlabel('Score')\n",
    "plt.yticks([pos + bar_height / 2 for pos in y], df_results['Model_Name'])\n",
    "plt.title('Comparison of Accuracy and F1-Score on Test Data')\n",
    "plt.legend()\n",
    "plt.gca().invert_yaxis()\n",
    "plt.xlim(0.5, 0.9) \n",
    "plt.tight_layout()\n",
    "plt.show()"
   ]
  },
  {
   "cell_type": "markdown",
   "metadata": {},
   "source": [
    "For the test data set, the FTTabular again has the highest performance with an accuracy of **0.8** and an F1-Score of **0.758**."
   ]
  },
  {
   "cell_type": "code",
   "execution_count": null,
   "metadata": {},
   "outputs": [],
   "source": []
  },
  {
   "cell_type": "code",
   "execution_count": 34,
   "metadata": {},
   "outputs": [],
   "source": [
    "df_check = df_results.copy()\n",
    "df_check['Accuracy_baseline_difference'] = df_check['test_accuracy'] - df_check['test_accuracy'].values[0]\n",
    "df_check['F1-score_baseline_difference'] = df_check['test_f1_score'] - df_check['test_f1_score'].values[0]"
   ]
  },
  {
   "cell_type": "code",
   "execution_count": 35,
   "metadata": {},
   "outputs": [
    {
     "data": {
      "application/vnd.microsoft.datawrangler.viewer.v0+json": {
       "columns": [
        {
         "name": "index",
         "rawType": "int64",
         "type": "integer"
        },
        {
         "name": "Model_Name",
         "rawType": "object",
         "type": "string"
        },
        {
         "name": "val_f1_score",
         "rawType": "float64",
         "type": "float"
        },
        {
         "name": "val_accuracy",
         "rawType": "float64",
         "type": "float"
        },
        {
         "name": "test_f1_score",
         "rawType": "float64",
         "type": "float"
        },
        {
         "name": "test_accuracy",
         "rawType": "float64",
         "type": "float"
        },
        {
         "name": "Accuracy_baseline_difference",
         "rawType": "float64",
         "type": "float"
        },
        {
         "name": "F1-score_baseline_difference",
         "rawType": "float64",
         "type": "float"
        }
       ],
       "conversionMethod": "pd.DataFrame",
       "ref": "aa7794dd-d71a-4b44-a239-5c6e3993ee8a",
       "rows": [
        [
         "0",
         "LogisticRegression",
         "0.7354838709677419",
         "0.7806",
         "0.7202",
         "0.784",
         "0.0",
         "0.0"
        ],
        [
         "0",
         "KNeighborsClassifier",
         "0.5772",
         "0.6786",
         "0.5378",
         "0.67",
         "-0.11399999999999999",
         "-0.1824"
        ],
        [
         "0",
         "RandomForest",
         "0.7225806451612903",
         "0.7602",
         "0.7097",
         "0.766",
         "-0.018000000000000016",
         "-0.010499999999999954"
        ],
        [
         "0",
         "BaggingClassifier",
         "0.7229",
         "0.7653",
         "0.6869",
         "0.732",
         "-0.052000000000000046",
         "-0.033299999999999996"
        ],
        [
         "0",
         "GradientBoosting",
         "0.6951219512195121",
         "0.7398",
         "0.6981",
         "0.744",
         "-0.040000000000000036",
         "-0.022099999999999898"
        ],
        [
         "0",
         "DecisionTree",
         "0.686",
         "0.7245",
         "0.6465",
         "0.696",
         "-0.08800000000000008",
         "-0.07369999999999999"
        ],
        [
         "0",
         "AdaBoost",
         "0.6666666666666666",
         "0.7245",
         "0.6699",
         "0.728",
         "-0.05600000000000005",
         "-0.0502999999999999"
        ],
        [
         "0",
         "SVC",
         "0.5",
         "0.6633",
         "0.4641",
         "0.672",
         "-0.11199999999999999",
         "-0.25609999999999994"
        ],
        [
         "0",
         "LGBM",
         "0.7261904761904762",
         "0.7551",
         "0.7019",
         "0.752",
         "-0.03200000000000003",
         "-0.018299999999999983"
        ],
        [
         "0",
         "FTTabular",
         "0.7831",
         "0.8163",
         "0.7585",
         "0.8",
         "0.016000000000000014",
         "0.0383"
        ]
       ],
       "shape": {
        "columns": 7,
        "rows": 10
       }
      },
      "text/html": [
       "<div>\n",
       "<style scoped>\n",
       "    .dataframe tbody tr th:only-of-type {\n",
       "        vertical-align: middle;\n",
       "    }\n",
       "\n",
       "    .dataframe tbody tr th {\n",
       "        vertical-align: top;\n",
       "    }\n",
       "\n",
       "    .dataframe thead th {\n",
       "        text-align: right;\n",
       "    }\n",
       "</style>\n",
       "<table border=\"1\" class=\"dataframe\">\n",
       "  <thead>\n",
       "    <tr style=\"text-align: right;\">\n",
       "      <th></th>\n",
       "      <th>Model_Name</th>\n",
       "      <th>val_f1_score</th>\n",
       "      <th>val_accuracy</th>\n",
       "      <th>test_f1_score</th>\n",
       "      <th>test_accuracy</th>\n",
       "      <th>Accuracy_baseline_difference</th>\n",
       "      <th>F1-score_baseline_difference</th>\n",
       "    </tr>\n",
       "  </thead>\n",
       "  <tbody>\n",
       "    <tr>\n",
       "      <th>0</th>\n",
       "      <td>LogisticRegression</td>\n",
       "      <td>0.735484</td>\n",
       "      <td>0.7806</td>\n",
       "      <td>0.7202</td>\n",
       "      <td>0.784</td>\n",
       "      <td>0.000</td>\n",
       "      <td>0.0000</td>\n",
       "    </tr>\n",
       "    <tr>\n",
       "      <th>0</th>\n",
       "      <td>KNeighborsClassifier</td>\n",
       "      <td>0.577200</td>\n",
       "      <td>0.6786</td>\n",
       "      <td>0.5378</td>\n",
       "      <td>0.670</td>\n",
       "      <td>-0.114</td>\n",
       "      <td>-0.1824</td>\n",
       "    </tr>\n",
       "    <tr>\n",
       "      <th>0</th>\n",
       "      <td>RandomForest</td>\n",
       "      <td>0.722581</td>\n",
       "      <td>0.7602</td>\n",
       "      <td>0.7097</td>\n",
       "      <td>0.766</td>\n",
       "      <td>-0.018</td>\n",
       "      <td>-0.0105</td>\n",
       "    </tr>\n",
       "    <tr>\n",
       "      <th>0</th>\n",
       "      <td>BaggingClassifier</td>\n",
       "      <td>0.722900</td>\n",
       "      <td>0.7653</td>\n",
       "      <td>0.6869</td>\n",
       "      <td>0.732</td>\n",
       "      <td>-0.052</td>\n",
       "      <td>-0.0333</td>\n",
       "    </tr>\n",
       "    <tr>\n",
       "      <th>0</th>\n",
       "      <td>GradientBoosting</td>\n",
       "      <td>0.695122</td>\n",
       "      <td>0.7398</td>\n",
       "      <td>0.6981</td>\n",
       "      <td>0.744</td>\n",
       "      <td>-0.040</td>\n",
       "      <td>-0.0221</td>\n",
       "    </tr>\n",
       "    <tr>\n",
       "      <th>0</th>\n",
       "      <td>DecisionTree</td>\n",
       "      <td>0.686000</td>\n",
       "      <td>0.7245</td>\n",
       "      <td>0.6465</td>\n",
       "      <td>0.696</td>\n",
       "      <td>-0.088</td>\n",
       "      <td>-0.0737</td>\n",
       "    </tr>\n",
       "    <tr>\n",
       "      <th>0</th>\n",
       "      <td>AdaBoost</td>\n",
       "      <td>0.666667</td>\n",
       "      <td>0.7245</td>\n",
       "      <td>0.6699</td>\n",
       "      <td>0.728</td>\n",
       "      <td>-0.056</td>\n",
       "      <td>-0.0503</td>\n",
       "    </tr>\n",
       "    <tr>\n",
       "      <th>0</th>\n",
       "      <td>SVC</td>\n",
       "      <td>0.500000</td>\n",
       "      <td>0.6633</td>\n",
       "      <td>0.4641</td>\n",
       "      <td>0.672</td>\n",
       "      <td>-0.112</td>\n",
       "      <td>-0.2561</td>\n",
       "    </tr>\n",
       "    <tr>\n",
       "      <th>0</th>\n",
       "      <td>LGBM</td>\n",
       "      <td>0.726190</td>\n",
       "      <td>0.7551</td>\n",
       "      <td>0.7019</td>\n",
       "      <td>0.752</td>\n",
       "      <td>-0.032</td>\n",
       "      <td>-0.0183</td>\n",
       "    </tr>\n",
       "    <tr>\n",
       "      <th>0</th>\n",
       "      <td>FTTabular</td>\n",
       "      <td>0.783100</td>\n",
       "      <td>0.8163</td>\n",
       "      <td>0.7585</td>\n",
       "      <td>0.800</td>\n",
       "      <td>0.016</td>\n",
       "      <td>0.0383</td>\n",
       "    </tr>\n",
       "  </tbody>\n",
       "</table>\n",
       "</div>"
      ],
      "text/plain": [
       "             Model_Name  val_f1_score  val_accuracy  test_f1_score  \\\n",
       "0    LogisticRegression      0.735484        0.7806         0.7202   \n",
       "0  KNeighborsClassifier      0.577200        0.6786         0.5378   \n",
       "0          RandomForest      0.722581        0.7602         0.7097   \n",
       "0     BaggingClassifier      0.722900        0.7653         0.6869   \n",
       "0      GradientBoosting      0.695122        0.7398         0.6981   \n",
       "0          DecisionTree      0.686000        0.7245         0.6465   \n",
       "0              AdaBoost      0.666667        0.7245         0.6699   \n",
       "0                   SVC      0.500000        0.6633         0.4641   \n",
       "0                  LGBM      0.726190        0.7551         0.7019   \n",
       "0             FTTabular      0.783100        0.8163         0.7585   \n",
       "\n",
       "   test_accuracy  Accuracy_baseline_difference  F1-score_baseline_difference  \n",
       "0          0.784                         0.000                        0.0000  \n",
       "0          0.670                        -0.114                       -0.1824  \n",
       "0          0.766                        -0.018                       -0.0105  \n",
       "0          0.732                        -0.052                       -0.0333  \n",
       "0          0.744                        -0.040                       -0.0221  \n",
       "0          0.696                        -0.088                       -0.0737  \n",
       "0          0.728                        -0.056                       -0.0503  \n",
       "0          0.672                        -0.112                       -0.2561  \n",
       "0          0.752                        -0.032                       -0.0183  \n",
       "0          0.800                         0.016                        0.0383  "
      ]
     },
     "execution_count": 35,
     "metadata": {},
     "output_type": "execute_result"
    }
   ],
   "source": [
    "df_check"
   ]
  },
  {
   "cell_type": "code",
   "execution_count": 36,
   "metadata": {},
   "outputs": [
    {
     "data": {
      "image/png": "[encoded data removed]",
      "text/plain": [
       "<Figure size 1500x600 with 1 Axes>"
      ]
     },
     "metadata": {},
     "output_type": "display_data"
    }
   ],
   "source": [
    "plt.figure(figsize=(15, 6))\n",
    "\n",
    "bar_height = 0.4\n",
    "y = range(len(df_check))\n",
    "\n",
    "# Bars for Accuracy\n",
    "plt.barh(y, df_check['Accuracy_baseline_difference'], height=bar_height, color='cornflowerblue', label='Accuracy_baseline_difference')\n",
    "for i, value in enumerate(df_check['Accuracy_baseline_difference']):\n",
    "    plt.text(value + 0.001, i, f'{value:.3f}', va='center', fontsize=10)  # Adds label to Accuracy bars\n",
    "\n",
    "# Bars for F1-Score (shifted downward)\n",
    "plt.barh([pos + bar_height for pos in y], df_check['F1-score_baseline_difference'], height=bar_height, color='lightcoral', label='F1-score_baseline_difference')\n",
    "for i, value in enumerate(df_check['F1-score_baseline_difference']):\n",
    "    plt.text(value + 0.001, i + bar_height, f'{value:.3f}', va='center', fontsize=10)  # Adds label to F1-Score bars\n",
    "\n",
    "# Customize axis labels and title\n",
    "plt.ylabel('Model_Name')\n",
    "plt.xlabel('Score')\n",
    "plt.yticks([pos + bar_height / 2 for pos in y], df_check['Model_Name'])\n",
    "plt.title('Comparison of Test Accuracy and F1-Score with Baseline Model (Logistic Regression)')\n",
    "plt.legend()\n",
    "plt.gca().invert_yaxis()\n",
    "plt.xlim(-0.12, 0.05) \n",
    "plt.tight_layout()\n",
    "plt.show()\n",
    "\n",
    "\n"
   ]
  },
  {
   "cell_type": "markdown",
   "metadata": {},
   "source": []
  }
 ],
 "metadata": {
  "kernelspec": {
   "display_name": ".venv",
   "language": "python",
   "name": "python3"
  },
  "language_info": {
   "codemirror_mode": {
    "name": "ipython",
    "version": 3
   },
   "file_extension": ".py",
   "mimetype": "text/x-python",
   "name": "python",
   "nbconvert_exporter": "python",
   "pygments_lexer": "ipython3",
   "version": "3.12.7"
  }
 },
 "nbformat": 4,
 "nbformat_minor": 2
}
